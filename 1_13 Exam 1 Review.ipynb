{
 "cells": [
  {
   "cell_type": "code",
   "execution_count": 1,
   "metadata": {
    "collapsed": true
   },
   "outputs": [],
   "source": [
    "import linear, numpy as np"
   ]
  },
  {
   "cell_type": "markdown",
   "metadata": {},
   "source": [
    "# Recitation\n",
    "A =  \n",
    "$ \\begin{bmatrix} 1 & 1 & 1 \\\\ 1 & 2 & 3 \\\\ 3 & 4 & k \\end{bmatrix} $  \n",
    "For which k does Ax = [2,3,7]\n",
    "Have a unique solution?  \n",
    "k != 5  \n",
    "B. Which k - infinitely many solutions?  \n",
    "k = 5, because row space is no longer independent  \n",
    "C. When k = 4, find LU decomposition  \n",
    "L = $ \\begin{bmatrix} 1 & 0 & 0 \\\\ 1 & 1 & 0 \\\\ 3 & 1 & 1 \\end{bmatrix} $\n",
    "U = $ \\begin{bmatrix} 1 & 1 & 1 \\\\ 0 & 1 & 2 \\\\ 0 & 0 & -1 \\end{bmatrix} $  \n",
    "D. For all k, find complete solutions  \n",
    "Xn is origin because matrix is full rank.  \n",
    "Xp = [1,1,0]  \n",
    "For k = 5, Xn = [1, -2, 1]"
   ]
  },
  {
   "cell_type": "code",
   "execution_count": 2,
   "metadata": {
    "collapsed": false
   },
   "outputs": [
    {
     "name": "stdout",
     "output_type": "stream",
     "text": [
      "Bottom half\n",
      "[[ 1.  1.  1.  2.]\n",
      " [ 1.  2.  3.  3.]\n",
      " [ 3.  4.  5.  7.]]\n",
      "[[ 1.  1.  1.  2.]\n",
      " [ 0.  1.  2.  1.]\n",
      " [ 0.  1.  2.  1.]]\n",
      "[[ 1.  1.  1.  2.]\n",
      " [ 0.  1.  2.  1.]\n",
      " [ 0.  0.  0.  0.]]\n",
      "Divide\n",
      "Top Half\n",
      "[[ 1.  0. -1.  1.]\n",
      " [ 0.  1.  2.  1.]\n",
      " [ 0.  0.  0.  0.]]\n",
      "[[ 1.  1.  1.  2.]\n",
      " [ 1.  2.  3.  3.]\n",
      " [ 3.  4.  5.  7.]]\n"
     ]
    }
   ],
   "source": [
    "A = linear.toMatrix('$ \\begin{bmatrix} 1 & 1 & 1 \\\\ 1 & 2 & 3 \\\\ 3 & 4 & 5 \\end{bmatrix} $')\n",
    "output = linear.rrefAugmented(A, np.array([[2,3,7]]).T)\n",
    "# print(linear.toTex(output[2])) # \n",
    "# print(linear.toTex(output[5]))\n",
    "L = linear.toMatrix('$ \\begin{bmatrix} 1 & 0 & 0 \\\\ 1 & 1 & 0 \\\\ 3 & 1 & 1 \\end{bmatrix} $')\n",
    "print(L @ output[2])"
   ]
  },
  {
   "cell_type": "code",
   "execution_count": null,
   "metadata": {
    "collapsed": true
   },
   "outputs": [],
   "source": []
  }
 ],
 "metadata": {
  "kernelspec": {
   "display_name": "Python 3",
   "language": "python",
   "name": "python3"
  },
  "language_info": {
   "codemirror_mode": {
    "name": "ipython",
    "version": 3
   },
   "file_extension": ".py",
   "mimetype": "text/x-python",
   "name": "python",
   "nbconvert_exporter": "python",
   "pygments_lexer": "ipython3",
   "version": "3.6.0"
  }
 },
 "nbformat": 4,
 "nbformat_minor": 2
}
