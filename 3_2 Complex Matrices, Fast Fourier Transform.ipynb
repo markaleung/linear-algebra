{
 "cells": [
  {
   "cell_type": "code",
   "execution_count": 1,
   "metadata": {
    "collapsed": true
   },
   "outputs": [],
   "source": [
    "import linear, numpy as np"
   ]
  },
  {
   "cell_type": "markdown",
   "metadata": {},
   "source": [
    "# Recitation"
   ]
  },
  {
   "cell_type": "code",
   "execution_count": 17,
   "metadata": {
    "collapsed": false
   },
   "outputs": [
    {
     "name": "stdout",
     "output_type": "stream",
     "text": [
      "(4+0j) [[ 0.5-0.5j  1.0+0.j ]] [[ 2.-2.j  4.+0.j]] [[ 2.-2.j  4.+0.j]]\n",
      "(1+0j) [[-1.+1.j  1.+0.j]] [[-1.+1.j  1.+0.j]] [[-1.+1.j  1.+0.j]]\n",
      "[[ 0.5-0.5j -1.0+1.j ]\n",
      " [ 1.0+0.j   1.0+0.j ]]\n",
      "[[ 0.33333333+0.33333333j  0.66666667+0.j        ]\n",
      " [-0.33333333-0.33333333j  0.33333333+0.j        ]]\n"
     ]
    }
   ],
   "source": [
    "ar = np.matrix([\n",
    "    [2,1-1j],\n",
    "    [1+1j,3],\n",
    "])\n",
    "\n",
    "er = linear.eigen2x2(ar)\n",
    "sr = linear.eigenVectors(ar, er)\n",
    "print(sr)\n",
    "print(sr.I)"
   ]
  },
  {
   "cell_type": "markdown",
   "metadata": {
    "collapsed": true
   },
   "source": [
    "# Problem Set\n",
    "Compute the matrix F2."
   ]
  },
  {
   "cell_type": "code",
   "execution_count": 23,
   "metadata": {
    "collapsed": false
   },
   "outputs": [
    {
     "name": "stdout",
     "output_type": "stream",
     "text": [
      "[[ 1.+0.j  1.+0.j  1.+0.j  1.+0.j]\n",
      " [ 1.+0.j  0.+1.j -1.+0.j  0.-1.j]\n",
      " [ 1.+0.j -1.+0.j  1.+0.j -1.+0.j]\n",
      " [ 1.+0.j  0.-1.j -1.+0.j  0.+1.j]]\n"
     ]
    }
   ],
   "source": [
    "f2 = np.matrix([\n",
    "    [1,1],\n",
    "    [1,-1],\n",
    "])\n",
    "idid = np.matrix([\n",
    "    [1,0,1,0],\n",
    "    [0,1,0,1j],\n",
    "    [1,0,-1,0],\n",
    "    [0,1,0,-1j],\n",
    "])\n",
    "f2f2 = np.matrix([\n",
    "    [1,1,0,0],\n",
    "    [1,-1,0,0],\n",
    "    [0,0,1,1],\n",
    "    [0,0,1,-1],\n",
    "])\n",
    "p = np.matrix([\n",
    "    [1,0,0,0],\n",
    "    [0,0,1,0],\n",
    "    [0,1,0,0],\n",
    "    [0,0,0,1],\n",
    "])\n",
    "print(idid @ f2f2 @ p)"
   ]
  },
  {
   "cell_type": "code",
   "execution_count": null,
   "metadata": {
    "collapsed": true
   },
   "outputs": [],
   "source": [
    "print(np.log)"
   ]
  }
 ],
 "metadata": {
  "kernelspec": {
   "display_name": "Python 3",
   "language": "python",
   "name": "python3"
  },
  "language_info": {
   "codemirror_mode": {
    "name": "ipython",
    "version": 3
   },
   "file_extension": ".py",
   "mimetype": "text/x-python",
   "name": "python",
   "nbconvert_exporter": "python",
   "pygments_lexer": "ipython3",
   "version": "3.6.0"
  }
 },
 "nbformat": 4,
 "nbformat_minor": 2
}
