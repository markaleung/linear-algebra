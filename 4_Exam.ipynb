{
 "cells": [
  {
   "cell_type": "code",
   "execution_count": 13,
   "metadata": {
    "collapsed": false
   },
   "outputs": [],
   "source": [
    "import linear, numpy as np\n",
    "def print_(inputString):\n",
    "    print(inputString)\n",
    "    print(eval(inputString))"
   ]
  },
  {
   "cell_type": "markdown",
   "metadata": {
    "collapsed": true
   },
   "source": [
    "# 1\n",
    "A = 3x4. Ax = 0 has 2 special solutions.  \n",
    "Find all subspaces.  \n",
    "\n",
    "Correct"
   ]
  },
  {
   "cell_type": "code",
   "execution_count": 14,
   "metadata": {
    "collapsed": false
   },
   "outputs": [
    {
     "name": "stdout",
     "output_type": "stream",
     "text": [
      "linear.columnSpace(a1)\n",
      "[[1 0]\n",
      " [0 1]\n",
      " [0 0]]\n",
      "linear.rowSpace(a1)\n",
      "[[ 1.  0. -1.  2.]\n",
      " [ 0.  1. -1.  1.]]\n",
      "linear.leftNullSpace(a1)\n",
      "[[ 0.  0.  1.]]\n",
      "linear.nullSpace(a1)\n",
      "[[ 1. -2.]\n",
      " [ 1. -1.]\n",
      " [ 1.  0.]\n",
      " [ 0.  1.]]\n"
     ]
    }
   ],
   "source": [
    "a1 = np.matrix([\n",
    "    [1,0,-1,2],\n",
    "    [0,1,-1,1],\n",
    "    [0,0,0,0],\n",
    "])\n",
    "print_('linear.columnSpace(a1)')\n",
    "print_('linear.rowSpace(a1)')\n",
    "print_('linear.leftNullSpace(a1)')\n",
    "print_('linear.nullSpace(a1)')"
   ]
  },
  {
   "cell_type": "markdown",
   "metadata": {},
   "source": [
    "# 2\n",
    "Find the inverse of an upper triangular matrix with nonzero entries a,b,c,d,e,f  \n",
    "$ \\begin{bmatrix} 1 & -b/ad & -c/af + be/adf \\\\ 0 & 1/d & -e/df \\\\ 0 & 0 & 1/f \\end{bmatrix} $  \n",
    "\n",
    "Correct\n",
    "\n",
    "Suppose U is eigenvectors of A. Show that A is also upper triangular.  \n",
    "\n",
    "Wrong  \n",
    "A = ULU.I\n",
    "U, L, U.I are upper triangular, therefore A is upper triangular. \n",
    "\n",
    "Explain why U can't be U in SVD  \n",
    "\n",
    "Wrong  \n",
    "U is not orthogonal"
   ]
  },
  {
   "cell_type": "code",
   "execution_count": 15,
   "metadata": {
    "collapsed": false
   },
   "outputs": [
    {
     "name": "stdout",
     "output_type": "stream",
     "text": [
      "Bottom half\n",
      "[[ 1.  2.  3.  1.  0.  0.]\n",
      " [ 0.  4.  5.  0.  1.  0.]\n",
      " [ 0.  0.  6.  0.  0.  1.]]\n",
      "Top Half\n",
      "[[ 1.          2.          3.          1.          0.          0.        ]\n",
      " [ 0.          1.          1.25        0.          0.25        0.        ]\n",
      " [ 0.          0.          1.          0.          0.          0.16666667]]\n",
      "[[ 1.          2.          0.          1.          0.         -0.5       ]\n",
      " [ 0.          1.          0.          0.          0.25       -0.20833333]\n",
      " [ 0.          0.          1.          0.          0.          0.16666667]]\n",
      "[[ 1.          0.          0.          1.         -0.5        -0.08333333]\n",
      " [ 0.          1.          0.          0.          0.25       -0.20833333]\n",
      " [ 0.          0.          1.          0.          0.          0.16666667]]\n"
     ]
    }
   ],
   "source": [
    "u2 = np.matrix([\n",
    "    [1,2,3],\n",
    "    [0,4,5],\n",
    "    [0,0,6],\n",
    "])\n",
    "_ = linear.rrefIdentity(u2)"
   ]
  },
  {
   "cell_type": "markdown",
   "metadata": {},
   "source": [
    "# 3\n",
    "A and B have the same number of rows.  \n",
    "What can you say about the comparison between A and [A B]  \n",
    "Rank of [A B] >= rank of A because [A B] might have additional pivots not in A. If not, rank of [A B] still = rank of A  \n",
    "\n",
    "Correct\n",
    "\n",
    "Suppose B = A2. How do these ranks compare.  \n",
    "Columns of A2 = combination of columns of A, therefore A2's columnspace is inside A's columnspace.   Therefore columnspace of [A A2] = columnspace of A, therefore rank [A A2] = rank of A  \n",
    "\n",
    "Correct\n",
    "\n",
    "If A is m by n of rank r, what are the dimensions of nullspace(a), nullspace([a a])  \n",
    "nullspace of A = n x (m - r). nullspace of [A A] = 2n x (m - r)  \n",
    "\n",
    "Wrong.  \n",
    "Should be n-r, 2n-r\n",
    "\n",
    "# 4\n",
    "Suppose A is a 5 by 3 matrix, and has no nullspace\n",
    "\n",
    "What can you say about the columns of A?  \n",
    "They are independent. \n",
    "\n",
    "Why is A.T Ax also 0?  \n",
    "x.T A.T Ax = |Ax| = 0. Since every element of |Ax| >= 0, Ax must = 0  \n",
    "\n",
    "Why is B = (A.T A).I A.T is a one sided inverse of A?\n",
    "It is a left inverse because BA = (A.T A).I A.T A = I (A.T A times its inverse)  \n",
    "It is not a right inverse because A (A.T A).I A.T != I  \n",
    "\n",
    "Correct\n",
    "\n",
    "# 5\n",
    "If A is 3x3 positive definite, then Aq = lq  \n",
    "Suppose x = qc  \n",
    "\n",
    "What is x.T x?  \n",
    "x.T x = c.T q.T q c = c.T c = c12 + c22 + c32\n",
    "\n",
    "Correct\n",
    "\n",
    "What is x.T ax?  \n",
    "x.T ax = c.T q.T a qc  \n",
    "= c.T q.T @ l1c1q1 + l2c2q2 + l3c3q3\n",
    "= l1c12 + l2c22 + l3c32\n",
    "\n",
    "Correct\n",
    "\n",
    "What c would make x.T ax / x.T x as big as possible?  \n",
    "c does not affect the ratio  \n",
    "\n",
    "Wrong  \n",
    "Don't understand why c1 and c2 have to be 0. \n",
    "\n",
    "# 6\n",
    "Find a linear combination of vectors v and u that is perpendicular to u  \n",
    "u.T (v - ux) = 0  \n",
    "u.T v = u.T u x  \n",
    "x = u.T v / u.T u  \n",
    "w = v - u u.T v / u.T u  \n",
    "\n",
    "Correct\n",
    "\n",
    "For A = [u v], find Q, R\n",
    "Orthogonal = [o1 o2] = [u, v - u u.T v / u.T u]\n",
    "Q = [o1/|o1| o2/|o2|]  \n",
    "A = QR => R = Q.T A\n",
    "\n",
    "Wrong.  \n",
    "Missing derivation of R  \n",
    "Don't understand why w.T v / |w| = |w|\n",
    "\n",
    "Find projection matrix P  \n",
    "P = Q Q.T  \n",
    "\n",
    "Correct\n",
    "\n",
    "# 7\n",
    "Find the eigenvalues if c, c2  \n",
    "\n",
    "Wrong.  \n",
    "C: l^4 - 1 = 0; C2: l^2 = 1\n",
    "\n",
    "Inverses = c.T, c2.T  \n",
    "Determinants = -1, 0, 15  \n",
    "\n",
    "Correct"
   ]
  },
  {
   "cell_type": "code",
   "execution_count": 49,
   "metadata": {
    "collapsed": false
   },
   "outputs": [
    {
     "name": "stdout",
     "output_type": "stream",
     "text": [
      "Bottom half\n",
      "[[ 0.  0.  0.  1.  1.  0.  0.  0.]\n",
      " [ 1.  0.  0.  0.  0.  1.  0.  0.]\n",
      " [ 0.  1.  0.  0.  0.  0.  1.  0.]\n",
      " [ 0.  0.  1.  0.  0.  0.  0.  1.]]\n",
      "[[ 1.  0.  0.  0.  0.  1.  0.  0.]\n",
      " [ 0.  0.  0.  1.  1.  0.  0.  0.]\n",
      " [ 0.  1.  0.  0.  0.  0.  1.  0.]\n",
      " [ 0.  0.  1.  0.  0.  0.  0.  1.]]\n",
      "[[ 1.  0.  0.  0.  0.  1.  0.  0.]\n",
      " [ 0.  1.  0.  0.  0.  0.  1.  0.]\n",
      " [ 0.  0.  0.  1.  1.  0.  0.  0.]\n",
      " [ 0.  0.  1.  0.  0.  0.  0.  1.]]\n",
      "[[ 1.  0.  0.  0.  0.  1.  0.  0.]\n",
      " [ 0.  1.  0.  0.  0.  0.  1.  0.]\n",
      " [ 0.  0.  1.  0.  0.  0.  0.  1.]\n",
      " [ 0.  0.  0.  1.  1.  0.  0.  0.]]\n",
      "Top Half\n",
      "Bottom half\n",
      "[[ 0.  0.  1.  0.  1.  0.  0.  0.]\n",
      " [ 0.  0.  0.  1.  0.  1.  0.  0.]\n",
      " [ 1.  0.  0.  0.  0.  0.  1.  0.]\n",
      " [ 0.  1.  0.  0.  0.  0.  0.  1.]]\n",
      "[[ 1.  0.  0.  0.  0.  0.  1.  0.]\n",
      " [ 0.  0.  0.  1.  0.  1.  0.  0.]\n",
      " [ 0.  0.  1.  0.  1.  0.  0.  0.]\n",
      " [ 0.  1.  0.  0.  0.  0.  0.  1.]]\n",
      "[[ 1.  0.  0.  0.  0.  0.  1.  0.]\n",
      " [ 0.  1.  0.  0.  0.  0.  0.  1.]\n",
      " [ 0.  0.  1.  0.  1.  0.  0.  0.]\n",
      " [ 0.  0.  0.  1.  0.  1.  0.  0.]]\n",
      "Top Half\n",
      "0\n",
      "[[ 1.  0.  0.  0.]\n",
      " [ 0.  1.  0.  0.]\n",
      " [ 0.  0.  1.  0.]\n",
      " [ 0.  0.  0.  1.]]\n",
      "-1.0\n",
      "1\n",
      "[[ 1.  0.  0.  1.]\n",
      " [ 0.  1.  0. -1.]\n",
      " [ 0.  0.  1.  1.]\n",
      " [ 0.  0.  0.  0.]]\n",
      "0.0\n",
      "2\n",
      "[[ 2.     0.     0.     1.   ]\n",
      " [ 0.     2.     0.    -0.5  ]\n",
      " [ 0.     0.     2.     0.25 ]\n",
      " [ 0.     0.     0.     1.875]]\n",
      "15.0\n"
     ]
    }
   ],
   "source": [
    "c = np.matrix([\n",
    "    [0,0,0,1],\n",
    "    [1,0,0,0],\n",
    "    [0,1,0,0],\n",
    "    [0,0,1,0],\n",
    "])\n",
    "c2 = c @ c\n",
    "_ = linear.rrefIdentity(c)\n",
    "_ = linear.rrefIdentity(c2)\n",
    "for r in range(3):\n",
    "    print(r)\n",
    "    print(linear.det(c+r*np.identity(4)))"
   ]
  },
  {
   "cell_type": "markdown",
   "metadata": {},
   "source": [
    "# 8\n",
    "Suppose a rectangular matrix A has independent columns\n",
    "\n",
    "a. How do you find the best least squares xhat for Ax = b? Find xhat and p.  \n",
    "xhat = (A.T A).I A.T b\n",
    "p = Axhat\n",
    "\n",
    "p is in columnspace. e is in left nullspace\n",
    "\n",
    "Correct"
   ]
  },
  {
   "cell_type": "code",
   "execution_count": 21,
   "metadata": {
    "collapsed": false
   },
   "outputs": [
    {
     "name": "stdout",
     "output_type": "stream",
     "text": [
      "[[ 0.1  0.3  0.   0. ]\n",
      " [ 0.3  0.9  0.   0. ]\n",
      " [ 0.   0.   0.1  0.3]\n",
      " [ 0.   0.   0.3  0.9]]\n"
     ]
    }
   ],
   "source": [
    "a = np.matrix([\n",
    "    [1,0],\n",
    "    [3,0],\n",
    "    [0,-1],\n",
    "    [0,-3],\n",
    "])\n",
    "\n",
    "print(a @ (a.T @ a).I @ a.T)"
   ]
  },
  {
   "cell_type": "markdown",
   "metadata": {},
   "source": [
    "# 9\n",
    "This question is about the matrices A with 3 on the main diagonal, 2 on the diagonal above, 1 on the diagonal below.  \n",
    "\n",
    "What are the determinants of A2 and A3?  \n",
    "D = 3 * Dn-1 - 2 * Dn-2  \n",
    "\n",
    "Correct"
   ]
  },
  {
   "cell_type": "code",
   "execution_count": 47,
   "metadata": {
    "collapsed": false
   },
   "outputs": [
    {
     "name": "stdout",
     "output_type": "stream",
     "text": [
      "0\n",
      "[]\n",
      "[]\n",
      "1\n",
      "1\n",
      "[[ 3.]]\n",
      "[]\n",
      "3.0\n",
      "2\n",
      "[[ 3.  2.]\n",
      " [ 1.  3.]]\n",
      "[[ 1.]]\n",
      "7.0\n",
      "3\n",
      "[[ 3.  2.  0.]\n",
      " [ 1.  3.  2.]\n",
      " [ 0.  1.  3.]]\n",
      "[[ 1.  2.]\n",
      " [ 0.  3.]]\n",
      "15.0\n",
      "4\n",
      "[[ 3.  2.  0.  0.]\n",
      " [ 1.  3.  2.  0.]\n",
      " [ 0.  1.  3.  2.]\n",
      " [ 0.  0.  1.  3.]]\n",
      "[[ 1.  2.  0.]\n",
      " [ 0.  3.  2.]\n",
      " [ 0.  1.  3.]]\n",
      "31.0\n",
      "5\n",
      "[[ 3.  2.  0.  0.  0.]\n",
      " [ 1.  3.  2.  0.  0.]\n",
      " [ 0.  1.  3.  2.  0.]\n",
      " [ 0.  0.  1.  3.  2.]\n",
      " [ 0.  0.  0.  1.  3.]]\n",
      "[[ 1.  2.  0.  0.]\n",
      " [ 0.  3.  2.  0.]\n",
      " [ 0.  1.  3.  2.]\n",
      " [ 0.  0.  1.  3.]]\n",
      "63.0\n"
     ]
    }
   ],
   "source": [
    "def buildMatrix(n):\n",
    "    a = np.asmatrix(np.zeros([n, n]))\n",
    "    for r in range(n):\n",
    "        a[r,r] = 3\n",
    "    for r in range(n-1):\n",
    "        a[r+1,r] = 1\n",
    "        a[r,r+1] = 2\n",
    "    return a\n",
    "\n",
    "for r in range(0, 6):\n",
    "    print(r)\n",
    "    print(buildMatrix(r))\n",
    "    print(buildMatrix(r)[1:,[c for c in range(r) if c != 1]])\n",
    "#     print(linear.cofactor(buildMatrix(r)))\n",
    "    print(linear.det(buildMatrix(r), 'Silent'))"
   ]
  },
  {
   "cell_type": "markdown",
   "metadata": {},
   "source": [
    "How fast do the determinants grow?  \n",
    "At rate of 2^n. \n",
    "\n",
    "Correct  "
   ]
  },
  {
   "cell_type": "code",
   "execution_count": 50,
   "metadata": {
    "collapsed": false
   },
   "outputs": [
    {
     "name": "stdout",
     "output_type": "stream",
     "text": [
      "[ 2.  1.]\n",
      "2.0 [[ 2.  1.]] [[ 4.  2.]] [[ 4.  2.]]\n",
      "1.0 [[ 1.  1.]] [[ 1.  1.]] [[ 1.  1.]]\n",
      "[[ 2.  1.]\n",
      " [ 1.  1.]]\n",
      "[[ 1. -1.]\n",
      " [-1.  2.]]\n",
      "0 [[ 3.]\n",
      " [ 1.]]\n",
      "1 [[ 7.]\n",
      " [ 3.]]\n",
      "2 [[ 15.]\n",
      " [  7.]]\n",
      "3 [[ 31.]\n",
      " [ 15.]]\n",
      "4 [[ 63.]\n",
      " [ 31.]]\n",
      "5 [[ 127.]\n",
      " [  63.]]\n",
      "6 [[ 255.]\n",
      " [ 127.]]\n",
      "7 [[ 511.]\n",
      " [ 255.]]\n"
     ]
    }
   ],
   "source": [
    "a = np.matrix([\n",
    "    [3,-2],\n",
    "    [1,0],\n",
    "])\n",
    "u = np.matrix([3,1]).T\n",
    "e = linear.eigen2x2(a)\n",
    "print(e)\n",
    "s = linear.eigenVectors(a, e)\n",
    "print(s)\n",
    "print(s.I)\n",
    "for r in range(8):\n",
    "    print(r, s @ linear.diagonal(e, r) @ s.I @ u)"
   ]
  },
  {
   "cell_type": "code",
   "execution_count": null,
   "metadata": {
    "collapsed": true
   },
   "outputs": [],
   "source": []
  }
 ],
 "metadata": {
  "kernelspec": {
   "display_name": "Python 3",
   "language": "python",
   "name": "python3"
  },
  "language_info": {
   "codemirror_mode": {
    "name": "ipython",
    "version": 3
   },
   "file_extension": ".py",
   "mimetype": "text/x-python",
   "name": "python",
   "nbconvert_exporter": "python",
   "pygments_lexer": "ipython3",
   "version": "3.6.0"
  }
 },
 "nbformat": 4,
 "nbformat_minor": 2
}
