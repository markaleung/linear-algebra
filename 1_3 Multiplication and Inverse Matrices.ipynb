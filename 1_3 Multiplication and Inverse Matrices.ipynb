{
 "cells": [
  {
   "cell_type": "code",
   "execution_count": 1,
   "metadata": {
    "collapsed": true
   },
   "outputs": [],
   "source": [
    "import pandas as pd, linear, numpy as np\n",
    "filename = '3 Multiplication and Inverse Matrices.xlsx'"
   ]
  },
  {
   "cell_type": "markdown",
   "metadata": {
    "collapsed": true
   },
   "source": [
    "# Recitation\n",
    "    Matrix is not invertible if A(c,d,e) = 0\n",
    "    ca+db+eb=0\n",
    "    ca+da+eb=0\n",
    "    ca+da+ea=0\n",
    "    c+d+e = 0\n",
    "    c = -d-e\n",
    "    a(-d-e) + db + eb = 0\n",
    "    da + ea = db + eb\n",
    "    a = b\n",
    "    \n",
    "Answer\n",
    "\n",
    "    If a = 0 (row/column = 0)\n"
   ]
  },
  {
   "cell_type": "code",
   "execution_count": 2,
   "metadata": {
    "collapsed": false
   },
   "outputs": [
    {
     "name": "stdout",
     "output_type": "stream",
     "text": [
      "[matrix([[ 2.,  1.,  1.,  1.,  0.,  0.],\n",
      "        [ 2.,  2.,  1.,  0.,  1.,  0.],\n",
      "        [ 2.,  2.,  2.,  0.,  0.,  1.]])]\n"
     ]
    }
   ],
   "source": [
    "dataR = linear.separate(filename, 'R2', 3)\n",
    "print(dataR)"
   ]
  },
  {
   "cell_type": "code",
   "execution_count": 3,
   "metadata": {
    "collapsed": false
   },
   "outputs": [
    {
     "name": "stdout",
     "output_type": "stream",
     "text": [
      "Bottom half\n",
      "[[ 2.  1.  1.  1.  0.  0.]\n",
      " [ 2.  2.  1.  0.  1.  0.]\n",
      " [ 2.  2.  2.  0.  0.  1.]]\n",
      "[[ 2.  1.  1.  1.  0.  0.]\n",
      " [ 0.  1.  0. -1.  1.  0.]\n",
      " [ 0.  1.  1. -1.  0.  1.]]\n",
      "[[ 2.  1.  1.  1.  0.  0.]\n",
      " [ 0.  1.  0. -1.  1.  0.]\n",
      " [ 0.  0.  1.  0. -1.  1.]]\n",
      "Divide\n",
      "[[ 1.   0.5  0.5  0.5  0.   0. ]\n",
      " [ 0.   1.   0.  -1.   1.   0. ]\n",
      " [ 0.   0.   1.   0.  -1.   1. ]]\n",
      "Top Half\n",
      "[[ 1.   0.5  0.   0.5  0.5 -0.5]\n",
      " [ 0.   1.   0.  -1.   1.   0. ]\n",
      " [ 0.   0.   1.   0.  -1.   1. ]]\n",
      "[[ 1.   0.   0.   1.   0.  -0.5]\n",
      " [ 0.   1.   0.  -1.   1.   0. ]\n",
      " [ 0.   0.   1.   0.  -1.   1. ]]\n"
     ]
    }
   ],
   "source": [
    "outputR = linear.rref(dataR[0])"
   ]
  },
  {
   "cell_type": "markdown",
   "metadata": {
    "collapsed": true
   },
   "source": [
    "# Problem 1"
   ]
  },
  {
   "cell_type": "code",
   "execution_count": 4,
   "metadata": {
    "collapsed": false
   },
   "outputs": [
    {
     "name": "stdout",
     "output_type": "stream",
     "text": [
      "[matrix([[ 1.,  2.],\n",
      "        [ 3.,  4.]]), matrix([[ 1.,  0.],\n",
      "        [ 0.,  0.]]), matrix([[ 0.,  0.],\n",
      "        [ 5.,  6.]])]\n"
     ]
    }
   ],
   "source": [
    "data1 = linear.separate(filename, '1', 2)\n",
    "print(data1)"
   ]
  },
  {
   "cell_type": "code",
   "execution_count": 5,
   "metadata": {
    "collapsed": false
   },
   "outputs": [
    {
     "name": "stdout",
     "output_type": "stream",
     "text": [
      "[[ 11.  12.]\n",
      " [ 23.  24.]]\n",
      "[[ 11.  12.]\n",
      " [ 23.  24.]]\n"
     ]
    }
   ],
   "source": [
    "print(data1[0] @ data1[1] + data1[0] @ data1[2])\n",
    "print(data1[0] @ (data1[1] + data1[2]))"
   ]
  },
  {
   "cell_type": "markdown",
   "metadata": {},
   "source": [
    "# Problem 2"
   ]
  },
  {
   "cell_type": "code",
   "execution_count": 6,
   "metadata": {
    "collapsed": false
   },
   "outputs": [
    {
     "name": "stdout",
     "output_type": "stream",
     "text": [
      "Bottom half\n",
      "[[ 1.  3.  4.  1.  0.  0.]\n",
      " [ 0.  1.  5.  0.  1.  0.]\n",
      " [ 0.  0.  1.  0.  0.  1.]]\n",
      "Divide\n",
      "Top Half\n",
      "[[ 1.  3.  0.  1.  0. -4.]\n",
      " [ 0.  1.  0.  0.  1. -5.]\n",
      " [ 0.  0.  1.  0.  0.  1.]]\n",
      "[[  1.   0.   0.   1.  -3.  11.]\n",
      " [  0.   1.   0.   0.   1.  -5.]\n",
      " [  0.   0.   1.   0.   0.   1.]]\n"
     ]
    }
   ],
   "source": [
    "data2 = linear.separate(filename, '22', 3)\n",
    "output2 = linear.rref(data2[0])"
   ]
  },
  {
   "cell_type": "code",
   "execution_count": null,
   "metadata": {
    "collapsed": true
   },
   "outputs": [],
   "source": []
  }
 ],
 "metadata": {
  "kernelspec": {
   "display_name": "Python 3",
   "language": "python",
   "name": "python3"
  },
  "language_info": {
   "codemirror_mode": {
    "name": "ipython",
    "version": 3
   },
   "file_extension": ".py",
   "mimetype": "text/x-python",
   "name": "python",
   "nbconvert_exporter": "python",
   "pygments_lexer": "ipython3",
   "version": "3.6.0"
  }
 },
 "nbformat": 4,
 "nbformat_minor": 2
}
