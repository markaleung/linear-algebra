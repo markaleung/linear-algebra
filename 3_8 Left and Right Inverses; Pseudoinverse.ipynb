{
 "cells": [
  {
   "cell_type": "code",
   "execution_count": 5,
   "metadata": {
    "collapsed": true,
    "deletable": true,
    "editable": true
   },
   "outputs": [],
   "source": [
    "import linear, numpy as np"
   ]
  },
  {
   "cell_type": "code",
   "execution_count": 6,
   "metadata": {
    "collapsed": false,
    "deletable": true,
    "editable": true
   },
   "outputs": [
    {
     "name": "stdout",
     "output_type": "stream",
     "text": [
      "[[ 0.   0.5]\n",
      " [ 1.  -2.5]]\n",
      "[[ 0.   0.5]\n",
      " [ 1.  -2.5]]\n"
     ]
    }
   ],
   "source": [
    "a = np.matrix([\n",
    "    [5,1],\n",
    "    [2,0],\n",
    "])\n",
    "# print(linear.multiplyR(linear.svd(a)).round(2))\n",
    "print(linear.pseudoI(a).round(2))\n",
    "print(a.I)"
   ]
  },
  {
   "cell_type": "markdown",
   "metadata": {
    "collapsed": true,
    "deletable": true,
    "editable": true
   },
   "source": [
    "# Recitation\n",
    "What is a+ (pseudo inverse)?  \n",
    "What is aa+, a+a?  \n",
    "If x is in n(a), what is a+ax?  \n",
    "0, because ax = 0, and a+0 = 0"
   ]
  },
  {
   "cell_type": "code",
   "execution_count": 7,
   "metadata": {
    "collapsed": false
   },
   "outputs": [
    {
     "name": "stdout",
     "output_type": "stream",
     "text": [
      "[[ 0.2]\n",
      " [ 0.4]]\n",
      "[[ 1.]]\n",
      "[[ 0.2  0.4]\n",
      " [ 0.4  0.8]]\n",
      "[[ 0.]\n",
      " [ 0.]]\n",
      "[[ 1.]\n",
      " [ 2.]]\n"
     ]
    }
   ],
   "source": [
    "a = np.matrix([1, 2])\n",
    "ap = linear.pseudoI(a)\n",
    "print(ap)\n",
    "print(a @ ap)\n",
    "print(ap @ a)\n",
    "print(ap @ a @ linear.nullSpace(a))\n",
    "print(ap @ a @ a.T)"
   ]
  },
  {
   "cell_type": "markdown",
   "metadata": {
    "collapsed": true
   },
   "source": [
    "# Problem Set\n",
    "Find a right inverse for ap1  \n",
    "Does the matrix ap2 have a left/right/pseudoinverse?  "
   ]
  },
  {
   "cell_type": "code",
   "execution_count": 8,
   "metadata": {
    "collapsed": false
   },
   "outputs": [
    {
     "name": "stdout",
     "output_type": "stream",
     "text": [
      "[[ 1.  0.]\n",
      " [ 0.  1.]]\n",
      "[[ 4.  8.]\n",
      " [ 3.  6.]]\n",
      "[[ 0.]\n",
      " [ 0.]]\n"
     ]
    }
   ],
   "source": [
    "ap1 = np.matrix([\n",
    "    [1,0,1],\n",
    "    [0,1,0],\n",
    "])\n",
    "print(ap1 @ linear.rightI(ap1))\n",
    "ap2 = np.matrix([\n",
    "    [4,3],\n",
    "    [8,6],\n",
    "])\n",
    "# print(linear.leftI(ap2))\n",
    "# print(linear.rightI(ap2))\n",
    "print(linear.pseudoI(ap2) @ ap2 @ ap2.T)\n",
    "print(linear.pseudoI(ap2) @ ap2 @ linear.nullSpace(ap2))"
   ]
  },
  {
   "cell_type": "code",
   "execution_count": null,
   "metadata": {
    "collapsed": true
   },
   "outputs": [],
   "source": []
  }
 ],
 "metadata": {
  "kernelspec": {
   "display_name": "Python 3",
   "language": "python",
   "name": "python3"
  },
  "language_info": {
   "codemirror_mode": {
    "name": "ipython",
    "version": 3
   },
   "file_extension": ".py",
   "mimetype": "text/x-python",
   "name": "python",
   "nbconvert_exporter": "python",
   "pygments_lexer": "ipython3",
   "version": "3.6.0"
  }
 },
 "nbformat": 4,
 "nbformat_minor": 2
}
