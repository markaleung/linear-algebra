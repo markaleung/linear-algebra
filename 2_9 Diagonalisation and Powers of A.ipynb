{
 "cells": [
  {
   "cell_type": "code",
   "execution_count": 1,
   "metadata": {
    "collapsed": false
   },
   "outputs": [],
   "source": [
    "import linear, numpy as np"
   ]
  },
  {
   "cell_type": "markdown",
   "metadata": {
    "collapsed": true
   },
   "source": [
    "# Lecture\n",
    "## Fibonacci Sequence\n",
    "Fk+2 = Fk+1 + Fk  \n",
    "Fk+1 = Fk+1  \n",
    "Let u = [Fk+1, Fk]  \n",
    "Matrix is al  \n",
    "## Eigenvalues\n",
    "(1-l)-l - 1 = l2 - l -1 = 0  \n",
    "l = (1 +- sqrt5)/2  "
   ]
  },
  {
   "cell_type": "code",
   "execution_count": 2,
   "metadata": {
    "collapsed": false,
    "scrolled": true
   },
   "outputs": [
    {
     "name": "stdout",
     "output_type": "stream",
     "text": [
      "1.0\n",
      "1.0\n",
      "2.0\n",
      "3.0\n",
      "5.0\n",
      "8.0\n",
      "13.0\n",
      "21.0\n",
      "34.0\n",
      "55.0\n"
     ]
    }
   ],
   "source": [
    "al = np.matrix([\n",
    "    [1,1],\n",
    "    [1,0],\n",
    "])\n",
    "el = (1 - np.sqrt(5))/2, (1 + np.sqrt(5))/2\n",
    "ul = np.matrix([1,0]).T\n",
    "for k in range(10):\n",
    "    print(linear.aku0(al, el, linear.diagonal, ul, k)[0,0].round(0))"
   ]
  },
  {
   "cell_type": "markdown",
   "metadata": {},
   "source": [
    "# Recitation\n",
    "Find a formula for $C^k$ where  \n",
    "$ C = \\begin{bmatrix} 2b - a & a - b \\\\ 2b - 2a & 2a - b \\end{bmatrix} $  \n",
    "Find $C^{100}$ where $a = b = -1$  \n",
    "## Eigenvalues\n",
    "$(2b-a-l)(2a-b-l) - (2b-2a)(a-b) = 0 \\\\\n",
    "= (4ab - 2a^2 - 2al - 2b^2 + ab + bl - 2bl + al + l^2) - (2ab - 2a^2 - 2b^2 + 2ab) = 0 \\\\\n",
    "= 4ab + ab - 2ab - 2ab - 2a^2 + 2a^2 - 2al + al - 2b^2 + 2b^2 + bl - 2bl + l^2 \\\\\n",
    "= ab - al - bl + l^2 \\\\\n",
    "= (l-a)(l-b) \\\\\n",
    "l = a, b $  \n",
    "## Eigenvectors\n",
    "$ \\begin{bmatrix} 2b - 2a & a - b \\\\ 2b - 2a & a - b \\end{bmatrix} \n",
    "= \\begin{bmatrix} 1 & -0.5 \\\\ 0 & 0 \\end{bmatrix} \\\\\n",
    "\\begin{bmatrix} b - a & a - b \\\\ 2b - 2a & 2a - 2b \\end{bmatrix} \n",
    "= \\begin{bmatrix} 1 & -1 \\\\ 0 & 0 \\end{bmatrix} \\\\\n",
    "S = \\begin{bmatrix} 0.5 & 1 \\\\ 1 & 1 \\end{bmatrix} \\\\\n",
    "L = \\begin{bmatrix} a & 0 \\\\ 0 & b \\end{bmatrix} $"
   ]
  },
  {
   "cell_type": "code",
   "execution_count": 3,
   "metadata": {
    "collapsed": false
   },
   "outputs": [
    {
     "name": "stdout",
     "output_type": "stream",
     "text": [
      "[[ 1.  0.]\n",
      " [ 0.  1.]]\n",
      "[[-2.  2.]\n",
      " [ 2. -1.]]\n"
     ]
    }
   ],
   "source": [
    "a, b = -1, -1\n",
    "sr = np.matrix([\n",
    "    [0.5, 1],\n",
    "    [1,1],\n",
    "])\n",
    "print(sr @ linear.diagonal([a,b], 100) @ sr.I)\n",
    "print(sr.I)"
   ]
  },
  {
   "cell_type": "markdown",
   "metadata": {
    "collapsed": true
   },
   "source": [
    "# Problem Set\n",
    "## 1\n",
    "Describe all matrices S that diagonalize this matrix A (find all eigenvectors)  \n",
    "$ \\begin{bmatrix} 4 & 0 \\\\ 1 & 2 \\end{bmatrix} $  \n",
    "(4-l)(2-l) = 0  \n",
    "l = 4, 2  \n",
    "Then describe all matrices that diagonalize A.I.  \n",
    "Ax = lx  \n",
    "A.Ix = A.I (Ax/l) = x/l  \n",
    "Same matrices, different lambda  "
   ]
  },
  {
   "cell_type": "code",
   "execution_count": 4,
   "metadata": {
    "collapsed": false
   },
   "outputs": [
    {
     "name": "stdout",
     "output_type": "stream",
     "text": [
      "2 [[-0.  1.]] [[ 0.  2.]] [[ 0.  2.]]\n",
      "4 [[ 2.  1.]] [[ 8.  4.]] [[ 8.  4.]]\n",
      "[[-0.  2.]\n",
      " [ 1.  1.]]\n"
     ]
    }
   ],
   "source": [
    "ap1 = linear.toMatrix('$ \\begin{bmatrix} 4 & 0 \\\\ 1 & 2 \\end{bmatrix} $')\n",
    "ep1 = [2,4]\n",
    "sp1 = linear.eigenVectors(ap1, ep1)\n",
    "print(sp1)"
   ]
  },
  {
   "cell_type": "markdown",
   "metadata": {
    "collapsed": true
   },
   "source": [
    "## 2\n",
    "Find Λ and S to diagonalize A:  \n",
    "$ \\begin{bmatrix} .6 & .9 \\\\ .4 & .1 \\end{bmatrix} \\\\\n",
    "(0.6 - l)(0.1 - l) - 0.36 = 0  \\\\\n",
    "0.06 - 0.1l - 0.6l + l^2 - 0.36 = 0  \\\\\n",
    "l^2 - 0.7l - 0.3 = 0 \\\\\n",
    "(l-1)(l+0.3) = 0 \\\\\n",
    "l = 1, -0.3$  "
   ]
  },
  {
   "cell_type": "code",
   "execution_count": 3,
   "metadata": {
    "collapsed": false
   },
   "outputs": [
    {
     "name": "stdout",
     "output_type": "stream",
     "text": [
      "1 [[ 2.25  1.  ]] [[ 2.25  1.  ]] [[ 2.25  1.  ]]\n",
      "-0.3 [[-1.  1.]] [[ 0.3 -0.3]] [[ 0.3 -0.3]]\n",
      "[[ 2.25 -1.  ]\n",
      " [ 1.    1.  ]]\n",
      "[[ 1.   0. ]\n",
      " [ 0.  -0.3]]\n",
      "[[ 0.69230769  0.69230769]\n",
      " [ 0.30769231  0.30769231]]\n"
     ]
    }
   ],
   "source": [
    "ap2 = linear.toMatrix('$ \\begin{bmatrix} .6 & .9 \\\\ .4 & .1 \\end{bmatrix} $')\n",
    "ep2 = [1,-0.3]\n",
    "sp2 = linear.eigenVectors(ap2, ep2)\n",
    "print(sp2)\n",
    "print(linear.diagonal(ep2))\n",
    "print(sp2 @ linear.diagonal(ep2, 1000) @ sp2.I)"
   ]
  },
  {
   "cell_type": "code",
   "execution_count": null,
   "metadata": {
    "collapsed": true
   },
   "outputs": [],
   "source": []
  }
 ],
 "metadata": {
  "kernelspec": {
   "display_name": "Python 3",
   "language": "python",
   "name": "python3"
  },
  "language_info": {
   "codemirror_mode": {
    "name": "ipython",
    "version": 3
   },
   "file_extension": ".py",
   "mimetype": "text/x-python",
   "name": "python",
   "nbconvert_exporter": "python",
   "pygments_lexer": "ipython3",
   "version": "3.6.0"
  }
 },
 "nbformat": 4,
 "nbformat_minor": 2
}
