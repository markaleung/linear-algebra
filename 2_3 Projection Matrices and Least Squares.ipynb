{
 "cells": [
  {
   "cell_type": "code",
   "execution_count": 1,
   "metadata": {
    "collapsed": true
   },
   "outputs": [],
   "source": [
    "import linear, numpy as np"
   ]
  },
  {
   "cell_type": "markdown",
   "metadata": {},
   "source": [
    "# Lecture"
   ]
  },
  {
   "cell_type": "code",
   "execution_count": 2,
   "metadata": {
    "collapsed": false,
    "scrolled": true
   },
   "outputs": [
    {
     "name": "stdout",
     "output_type": "stream",
     "text": [
      "Arrays\n",
      "[[1 1 1]\n",
      " [1 2 3]]\n",
      "[[ 2.33333333 -1.        ]\n",
      " [-1.          0.5       ]]\n",
      "[[1 1]\n",
      " [1 2]\n",
      " [1 3]]\n",
      "Multiply\n",
      "[[1 1 1]\n",
      " [1 2 3]]\n",
      "[[ 1.33333333  0.33333333 -0.66666667]\n",
      " [-0.5         0.          0.5       ]]\n",
      "[[ 0.83333333  0.33333333 -0.16666667]\n",
      " [ 0.33333333  0.33333333  0.33333333]\n",
      " [-0.16666667  0.33333333  0.83333333]]\n",
      "[[ 1.16666667  1.66666667  2.16666667]] [[-0.16666667  0.33333333 -0.16666667]]\n",
      "[[  4.44089210e-15   8.88178420e-15]] [[  7.43849426e-15]]\n"
     ]
    }
   ],
   "source": [
    "al = np.matrix([\n",
    "    [1,1],\n",
    "    [1,2],\n",
    "    [1,3],\n",
    "])\n",
    "bl = np.matrix([[1,2,2]]).T\n",
    "fitl = linear.projection(al) @ bl\n",
    "el = bl - fitl\n",
    "print(fitl.T, el.T)\n",
    "print(el.T @ al, el.T @ fitl)"
   ]
  },
  {
   "cell_type": "markdown",
   "metadata": {
    "collapsed": true
   },
   "source": [
    "# Recitation\n",
    "Find the quadratic equation through the origin that is a best fit for the points\n",
    "[1,1], [2,5], [-1,-2]"
   ]
  },
  {
   "cell_type": "code",
   "execution_count": 3,
   "metadata": {
    "collapsed": false
   },
   "outputs": [
    {
     "name": "stdout",
     "output_type": "stream",
     "text": [
      "Arrays\n",
      "[[ 1  2 -1]\n",
      " [ 1  4  1]]\n",
      "[[ 0.40909091 -0.18181818]\n",
      " [-0.18181818  0.13636364]]\n",
      "[[ 1  1]\n",
      " [ 2  4]\n",
      " [-1  1]]\n",
      "Multiply\n",
      "[[ 1  2 -1]\n",
      " [ 1  4  1]]\n",
      "[[ 0.22727273  0.09090909 -0.59090909]\n",
      " [-0.04545455  0.18181818  0.31818182]]\n",
      "[[ 0.18181818  0.27272727 -0.27272727]\n",
      " [ 0.27272727  0.90909091  0.09090909]\n",
      " [-0.27272727  0.09090909  0.90909091]]\n",
      "[[ 1.86363636]\n",
      " [ 0.22727273]]\n",
      "[[ 2.09090909]\n",
      " [ 4.63636364]\n",
      " [-1.63636364]]\n",
      "Bottom half\n",
      "[[  6.   8.  13.]\n",
      " [  8.  18.  19.]]\n",
      "[[  6.           8.          13.        ]\n",
      " [  0.           7.33333333   1.66666667]]\n",
      "Divide\n",
      "[[ 1.          1.33333333  2.16666667]\n",
      " [ 0.          1.          0.22727273]]\n",
      "Top Half\n",
      "[[ 1.          0.          1.86363636]\n",
      " [ 0.          1.          0.22727273]]\n"
     ]
    }
   ],
   "source": [
    "ar = np.matrix([\n",
    "    [1,2,-1],\n",
    "    [1,4,1],\n",
    "]).T\n",
    "br = np.matrix([[1,5,-2]]).T\n",
    "fitr = linear.projection(ar) @ br\n",
    "print(ar.I @ fitr)\n",
    "print(fitr)\n",
    "totalr = ar.T @ np.concatenate((ar, br), axis=1)\n",
    "_ = linear.rref(totalr)"
   ]
  },
  {
   "cell_type": "markdown",
   "metadata": {},
   "source": [
    "# Problem Set\n",
    "## 1\n",
    "Write down\n",
    "three equations for the line b = C + Dt to go through b = 7 at t = −1,\n",
    "b = 7 at t = 1, and b = 21 at t = 2. Find the least squares solution\n",
    "xˆ = (C, D) and draw the closest line. "
   ]
  },
  {
   "cell_type": "code",
   "execution_count": 4,
   "metadata": {
    "collapsed": false
   },
   "outputs": [
    {
     "name": "stdout",
     "output_type": "stream",
     "text": [
      "Arrays\n",
      "[[ 1  1  1]\n",
      " [-1  1  2]]\n",
      "[[ 0.42857143 -0.14285714]\n",
      " [-0.14285714  0.21428571]]\n",
      "[[ 1 -1]\n",
      " [ 1  1]\n",
      " [ 1  2]]\n",
      "Multiply\n",
      "[[ 1  1  1]\n",
      " [-1  1  2]]\n",
      "[[ 0.57142857  0.28571429  0.14285714]\n",
      " [-0.35714286  0.07142857  0.28571429]]\n",
      "[[ 0.92857143  0.21428571 -0.14285714]\n",
      " [ 0.21428571  0.35714286  0.42857143]\n",
      " [-0.14285714  0.42857143  0.71428571]]\n",
      "[[ 9.]\n",
      " [ 4.]]\n",
      "[[  5.]\n",
      " [ 13.]\n",
      " [ 17.]]\n"
     ]
    }
   ],
   "source": [
    "ap1 = np.matrix([\n",
    "    [1,-1],\n",
    "    [1,1],\n",
    "    [1,2],\n",
    "])\n",
    "bp1 = np.matrix([[7,7,21]]).T\n",
    "pp1 = linear.projection(ap1)\n",
    "fitp1 = pp1 @ bp1\n",
    "print(ap1.I @ fitp1)\n",
    "print(fitp1)"
   ]
  },
  {
   "cell_type": "markdown",
   "metadata": {},
   "source": [
    "## 2\n",
    "Find the projection p = Ax in the previous problem.\n",
    "This gives the three heights of the closest line. Show that the error\n",
    "vector is e = (2, −6, 4). Why is Pe = 0?  \n",
    "Because P is projection on column space, e is projection on left nullspace, and the two spaces are perpendicular. "
   ]
  },
  {
   "cell_type": "code",
   "execution_count": 5,
   "metadata": {
    "collapsed": false,
    "scrolled": true
   },
   "outputs": [
    {
     "name": "stdout",
     "output_type": "stream",
     "text": [
      "[[ 2.]\n",
      " [-6.]\n",
      " [ 4.]]\n",
      "[[  7.10542736e-14]]\n"
     ]
    }
   ],
   "source": [
    "ep2 = bp1 - fitp1\n",
    "print(ep2)\n",
    "print(ep2.T @ fitp1)"
   ]
  },
  {
   "cell_type": "markdown",
   "metadata": {},
   "source": [
    "## 3\n",
    "Suppose the measurements at t = −1, 1, 2 are\n",
    "the errors 2, -6, 4 in the previous problem. Compute x and the closest\n",
    "line to these new measurements. Explain the answer: b = (2, −6, 4) is\n",
    "perpendicular to **column space** so the projection is p = 0. "
   ]
  },
  {
   "cell_type": "code",
   "execution_count": 6,
   "metadata": {
    "collapsed": false
   },
   "outputs": [
    {
     "name": "stdout",
     "output_type": "stream",
     "text": [
      "[[  1.55431223e-15]\n",
      " [  2.66453526e-15]\n",
      " [  3.10862447e-15]]\n"
     ]
    }
   ],
   "source": [
    "fitp3 = pp1 @ ep2\n",
    "print(fitp3)"
   ]
  },
  {
   "cell_type": "markdown",
   "metadata": {},
   "source": [
    "## 4\n",
    "Suppose the measurements at t = −1, 1, 2 are\n",
    "b = (5, 13, 17). Compute x and the closest line and e. The error is e = 0\n",
    "because this b is **in the column space**.\n",
    "\n",
    "## 5\n",
    "Which of the four subspaces contains the error\n",
    "vector e?  \n",
    "Left null space  \n",
    "Which contains p?  \n",
    "Column space  \n",
    "Which contains xˆ?  \n",
    "Row space\n",
    "What is the nullspace of\n",
    "A?  \n",
    "origin  \n",
    "## 6\n",
    "Find the best line C + Dt to fit b = 4, 2, −1, 0, 0 at\n",
    "times t = −2, −1, 0, 1, 2. "
   ]
  },
  {
   "cell_type": "code",
   "execution_count": 7,
   "metadata": {
    "collapsed": false
   },
   "outputs": [
    {
     "name": "stdout",
     "output_type": "stream",
     "text": [
      "Arrays\n",
      "[[ 1  1  1  1  1]\n",
      " [-2 -1  0  1  2]]\n",
      "[[ 0.2  0. ]\n",
      " [ 0.   0.1]]\n",
      "[[ 1 -2]\n",
      " [ 1 -1]\n",
      " [ 1  0]\n",
      " [ 1  1]\n",
      " [ 1  2]]\n",
      "Multiply\n",
      "[[ 1  1  1  1  1]\n",
      " [-2 -1  0  1  2]]\n",
      "[[ 0.2  0.2  0.2  0.2  0.2]\n",
      " [-0.2 -0.1  0.   0.1  0.2]]\n",
      "[[ 0.6  0.4  0.2  0.  -0.2]\n",
      " [ 0.4  0.3  0.2  0.1  0. ]\n",
      " [ 0.2  0.2  0.2  0.2  0.2]\n",
      " [ 0.   0.1  0.2  0.3  0.4]\n",
      " [-0.2  0.   0.2  0.4  0.6]]\n",
      "[[ 1.]\n",
      " [-1.]]\n",
      "[[ 3.]\n",
      " [ 2.]\n",
      " [ 1.]\n",
      " [ 0.]\n",
      " [-1.]]\n"
     ]
    }
   ],
   "source": [
    "ap6 = np.matrix([\n",
    "    [1,-2],\n",
    "    [1,-1],\n",
    "    [1,0],\n",
    "    [1,1],\n",
    "    [1,2],\n",
    "])\n",
    "bp6 = np.matrix([[4,2,-1,0,0]]).T\n",
    "fitp6 = linear.projection(ap6) @ bp6\n",
    "print(ap6.I @ fitp6)\n",
    "print(fitp6)"
   ]
  },
  {
   "cell_type": "code",
   "execution_count": null,
   "metadata": {
    "collapsed": true
   },
   "outputs": [],
   "source": []
  }
 ],
 "metadata": {
  "kernelspec": {
   "display_name": "Python 3",
   "language": "python",
   "name": "python3"
  },
  "language_info": {
   "codemirror_mode": {
    "name": "ipython",
    "version": 3
   },
   "file_extension": ".py",
   "mimetype": "text/x-python",
   "name": "python",
   "nbconvert_exporter": "python",
   "pygments_lexer": "ipython3",
   "version": "3.6.0"
  }
 },
 "nbformat": 4,
 "nbformat_minor": 2
}
