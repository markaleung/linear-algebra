{
 "cells": [
  {
   "cell_type": "code",
   "execution_count": 1,
   "metadata": {
    "collapsed": true
   },
   "outputs": [],
   "source": [
    "import linear, numpy as np"
   ]
  },
  {
   "cell_type": "markdown",
   "metadata": {},
   "source": [
    "# Recitation\n",
    "Find the basis and dimension for each of 4 subspaces of r.  \n",
    "column space 2 = pivot columns of r1  \n",
    "$\\begin{bmatrix} 5 & 0 \\\\ 10 & 1 \\\\ -5 & 0 \\end{bmatrix}$  \n",
    "null space 1 = free columns of r2 + identity  \n",
    "$\\begin{bmatrix} -0.6 \\\\ -1 \\\\ 1 \\end{bmatrix}$  \n",
    "row space 2 = pivot rows of r2  \n",
    "$\\begin{bmatrix} 1 & 0 & 0.6 \\\\ 0 & 1 & 1 \\end{bmatrix}$  \n",
    "left null space 1 = free rows of r1.I  \n",
    "$\\begin{bmatrix} 1 & 0 & 1 \\end{bmatrix}$  "
   ]
  },
  {
   "cell_type": "code",
   "execution_count": 2,
   "metadata": {
    "collapsed": false
   },
   "outputs": [
    {
     "name": "stdout",
     "output_type": "stream",
     "text": [
      "Bottom half\n",
      "[[  5.   0.   3.   1.   0.   0.]\n",
      " [ 10.   1.   7.   0.   1.   0.]\n",
      " [ -5.   0.  -3.   0.   0.   1.]]\n",
      "[[ 5.  0.  3.  1.  0.  0.]\n",
      " [ 0.  1.  1. -2.  1.  0.]\n",
      " [ 0.  0.  0.  1.  0.  1.]]\n",
      "Divide\n",
      "[[ 1.   0.   0.6  0.2  0.   0. ]\n",
      " [ 0.   1.   1.  -2.   1.   0. ]\n",
      " [ 0.   0.   0.   1.   0.   1. ]]\n",
      "Top Half\n",
      "[[ 1.   0.   0.6  0.   0.  -0.2]\n",
      " [ 0.   1.   1.   0.   1.   2. ]\n",
      " [ 0.   0.   0.   1.   0.   1. ]]\n"
     ]
    }
   ],
   "source": [
    "r1 = np.array([\n",
    "    [1,0,0],\n",
    "    [2,1,0],\n",
    "    [-1,0,1],\n",
    "])\n",
    "r2 = np.array([\n",
    "    [5,0,3],\n",
    "    [0,1,1],\n",
    "    [0,0,0],\n",
    "])\n",
    "_ = linear.rrefIdentity(r1 @ r2)"
   ]
  },
  {
   "cell_type": "markdown",
   "metadata": {},
   "source": [
    "# Problem Set\n",
    "## 1\n",
    "A is an m by n matrix of rank r. Suppose there are right sides b for which Ax = b has\n",
    "no solution.  \n",
    "a) What are all the inequalities (< or ≤) that must be true between m, n,\n",
    "and r?  \n",
    "r < m  \n",
    "b) How do you know that ATy = 0 has solutions other than y = 0?  \n",
    "Because r < m => there are free rows  \n",
    "## 2\n",
    "A.T @ y = d is solvable when d is in which of the\n",
    "four subspaces?  \n",
    "Row space  \n",
    "The solution y is unique when which subspace contains\n",
    "only the zero vector?  \n",
    "left nullspace  "
   ]
  },
  {
   "cell_type": "code",
   "execution_count": null,
   "metadata": {
    "collapsed": true
   },
   "outputs": [],
   "source": []
  }
 ],
 "metadata": {
  "kernelspec": {
   "display_name": "Python 3",
   "language": "python",
   "name": "python3"
  },
  "language_info": {
   "codemirror_mode": {
    "name": "ipython",
    "version": 3
   },
   "file_extension": ".py",
   "mimetype": "text/x-python",
   "name": "python",
   "nbconvert_exporter": "python",
   "pygments_lexer": "ipython3",
   "version": "3.6.0"
  }
 },
 "nbformat": 4,
 "nbformat_minor": 2
}
