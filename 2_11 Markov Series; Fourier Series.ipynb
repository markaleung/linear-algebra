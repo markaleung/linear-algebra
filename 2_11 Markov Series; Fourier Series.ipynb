{
 "cells": [
  {
   "cell_type": "code",
   "execution_count": 1,
   "metadata": {
    "collapsed": true
   },
   "outputs": [],
   "source": [
    "import linear, numpy as np"
   ]
  },
  {
   "cell_type": "markdown",
   "metadata": {},
   "source": [
    "# Lecture"
   ]
  },
  {
   "cell_type": "code",
   "execution_count": 2,
   "metadata": {
    "collapsed": false
   },
   "outputs": [
    {
     "name": "stdout",
     "output_type": "stream",
     "text": [
      "1 [[  0.85714286  47.14285701   1.        ]] [[  0.85714286  47.14285701   1.        ]] [[  0.85714286  47.14285701   1.        ]]\n",
      "1 [[ 1.  1.  1.]] [[ 1.  1.  1.]] [[ 1.  1.  1.]]\n"
     ]
    }
   ],
   "source": [
    "al = np.matrix([\n",
    "    [0.1, 0.01, 0.3],\n",
    "    [0.2, 0.99, 0.3],\n",
    "    [0.7, 0, 0.4],\n",
    "])\n",
    "el = [1]\n",
    "_ = linear.eigenVectors(al, el)\n",
    "_ = linear.eigenVectors(al.T, el)"
   ]
  },
  {
   "cell_type": "code",
   "execution_count": 3,
   "metadata": {
    "collapsed": false
   },
   "outputs": [
    {
     "name": "stdout",
     "output_type": "stream",
     "text": [
      "[[ 2. -1.]\n",
      " [ 1.  1.]]\n",
      "[[ 2.  0.]\n",
      " [ 1.  0.]]\n",
      "[[ 0.66666667  0.66666667]\n",
      " [ 0.33333333  0.33333333]]\n",
      "[[    0.]\n",
      " [ 1000.]]\n",
      "[[ 647.8349834]\n",
      " [ 352.1650166]]\n",
      "[[ 666.13471822]\n",
      " [ 333.86528178]]\n",
      "[[ 666.65164044]\n",
      " [ 333.34835956]]\n",
      "[[ 666.66624221]\n",
      " [ 333.33375779]]\n"
     ]
    }
   ],
   "source": [
    "al2 = np.matrix([\n",
    "    [0.9, 0.2],\n",
    "    [0.1, 0.8],\n",
    "])\n",
    "ul2 = np.matrix([0, 1000]).T\n",
    "el2 = linear.eigen2x2(al2)\n",
    "gap = 10\n",
    "sl2 = linear.eigenVectors(al2, el2.round(8), 'Silent')\n",
    "linear.multiplyR([sl2, linear.diagonal(el2.round(8), 10000), sl2.I])\n",
    "for i in range(0, 5 * gap, gap):\n",
    "#     print(sl2 @ linear.diagonal(el2.round(8), i) @ sl2.I)\n",
    "    print(linear.aku0(al2, el2.round(8), linear.diagonal, ul2, i))"
   ]
  },
  {
   "cell_type": "markdown",
   "metadata": {
    "collapsed": true
   },
   "source": [
    "# Recitation\n",
    "Find $S\\Lambda ^kS^{-1}$ for k = 1, n, infinity  \n",
    "$ = \n",
    "\\begin{bmatrix} 0.5 & -1.0 \\\\ 1.0 & 1.0 \\end{bmatrix}\n",
    "\\begin{bmatrix} 1 & 0 \\\\ 0 & 0.4^t \\end{bmatrix}\n",
    "\\begin{bmatrix} 2/3 \\\\ -2/3 \\end{bmatrix} \\\\\n",
    "= \\begin{bmatrix} 0.5 & -0.4^t \\\\ 1 & 0.4^t \\end{bmatrix} \n",
    "\\begin{bmatrix} 2/3 \\\\ -2/3 \\end{bmatrix} \\\\\n",
    "= \\frac{2}{3}\\begin{bmatrix} 0.5 + 0.4^t \\\\ 1 - 0.4^t \\end{bmatrix} \\\\\n",
    "k = 1 => \\begin{bmatrix} 0.6 \\\\ 0.4 \\end{bmatrix} \\\\\n",
    "k = \\infty => \\begin{bmatrix} 1/3 \\\\ 2/3 \\end{bmatrix}\n",
    "$"
   ]
  },
  {
   "cell_type": "code",
   "execution_count": 18,
   "metadata": {
    "collapsed": false
   },
   "outputs": [
    {
     "name": "stdout",
     "output_type": "stream",
     "text": [
      "$ \\begin{bmatrix} 0.5 & -1.0 \\\\ 1.0 & 1.0 \\end{bmatrix} $\n",
      "$ \\begin{bmatrix} 1.0 & 0.0 \\\\ 0.0 & 0.4 \\end{bmatrix} $\n",
      "$ \\begin{bmatrix} 0.666666666667 \\\\ -0.666666666667 \\end{bmatrix} $\n",
      "[[ 0.6]\n",
      " [ 0.4]]\n",
      "[[ 0.33333333]\n",
      " [ 0.66666667]]\n"
     ]
    }
   ],
   "source": [
    "ar = np.matrix([\n",
    "    [0.6,0.2],\n",
    "    [0.4,0.8],\n",
    "])\n",
    "ur = np.matrix([1,0]).T\n",
    "er = linear.eigen2x2(ar).round(3)\n",
    "sr = linear.eigenVectors(ar, er, 'Silent')\n",
    "print(linear.toTex(sr))\n",
    "print(linear.toTex(linear.diagonal(er)))\n",
    "print(linear.toTex(sr.I @ ur))\n",
    "for i in 1, 10000:\n",
    "    print(linear.aku0(ar, er, linear.diagonal, ur, i))"
   ]
  },
  {
   "cell_type": "markdown",
   "metadata": {},
   "source": [
    "# Problem Set\n",
    "## 1. \n",
    "### a. \n",
    "a) Find a symmetric matrix that has a negative eigenvalue.  \n",
    "\n",
    "$\\begin{bmatrix} 1 & b \\\\ b & 1 \\end{bmatrix} \\\\\n",
    "(1-l)(1-l) - b^2 = 0 \\\\\n",
    "1 - 2l + l^2 - b^2 = 0 \\\\\n",
    "l^2 - 2l - b^2 + 1 \\\\\n",
    "(4 - 4(-b^2 + 1)) > 4 \\\\\n",
    "b^2 > 1\n",
    "$\n",
    "### b. \n",
    "How do you know it must have a negative pivot?  \n",
    "\n",
    "$R = \\begin{bmatrix} 1 & 0 \\\\ 0 & 1-b^2 \\end{bmatrix} $  \n",
    "Since $b^2 > 1, 1 - b^2 < 0$\n",
    "### c. \n",
    "How do you know it can’t have two negative eigenvalues?  \n",
    "Because $-b = 2 > 0$, therefore $-b + \\sqrt{b^2 - 4ac} > 0$\n",
    "\n",
    "## 2. \n",
    "Which of these classes of matrices do A and B\n",
    "belong to: invertible, orthogonal, projection, permutation, diagonalizable,\n",
    "Markov?  \n",
    "$ A = \\begin{bmatrix} 0 & 0 & 1 \\\\ 0 & 1 & 0 \\\\ 1 & 0 & 0 \\end{bmatrix}\\ \n",
    "B = \\frac{1}{3} \\begin{bmatrix} 1 & 1 & 1 \\\\ 1 & 1 & 1 \\\\ 1 & 1 & 1 \\end{bmatrix} $  \n",
    "A is invertible, orthogonal, permutation, diagonalizable, Markov  \n",
    "B is Markov, diagonalizable, projection  \n",
    "LU is possible for B  \n",
    "QR is possible for A  \n",
    "SLS.I/QLQ.T is possible for A and B  \n"
   ]
  },
  {
   "cell_type": "code",
   "execution_count": null,
   "metadata": {
    "collapsed": true
   },
   "outputs": [],
   "source": [
    "\n"
   ]
  }
 ],
 "metadata": {
  "kernelspec": {
   "display_name": "Python 3",
   "language": "python",
   "name": "python3"
  },
  "language_info": {
   "codemirror_mode": {
    "name": "ipython",
    "version": 3
   },
   "file_extension": ".py",
   "mimetype": "text/x-python",
   "name": "python",
   "nbconvert_exporter": "python",
   "pygments_lexer": "ipython3",
   "version": "3.6.0"
  }
 },
 "nbformat": 4,
 "nbformat_minor": 2
}
