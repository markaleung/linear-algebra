{
 "cells": [
  {
   "cell_type": "code",
   "execution_count": 1,
   "metadata": {
    "collapsed": true,
    "deletable": true,
    "editable": true
   },
   "outputs": [],
   "source": [
    "import linear, numpy as np"
   ]
  },
  {
   "cell_type": "markdown",
   "metadata": {
    "deletable": true,
    "editable": true
   },
   "source": [
    "# Recitation\n",
    "\n",
    "3 dimensions  \n",
    "basis is  \n",
    "$ \\begin{bmatrix} 1 & 0 & 0 \\\\ 0 & 1 & 0 \\\\ 0 & 0 & 1 \\\\ 0 & 0 & 0 \\end{bmatrix} $"
   ]
  },
  {
   "cell_type": "code",
   "execution_count": 2,
   "metadata": {
    "collapsed": false,
    "deletable": true,
    "editable": true
   },
   "outputs": [
    {
     "name": "stdout",
     "output_type": "stream",
     "text": [
      "Bottom half\n",
      "[[ 1.  1. -2.  0. -1.]\n",
      " [ 1.  2.  0. -4.  1.]\n",
      " [ 0.  1.  3. -3.  2.]\n",
      " [ 2.  3.  0. -2.  0.]]\n",
      "[[ 1.  1. -2.  0. -1.]\n",
      " [ 0.  1.  2. -4.  2.]\n",
      " [ 0.  1.  3. -3.  2.]\n",
      " [ 0.  1.  4. -2.  2.]]\n",
      "[[ 1.  1. -2.  0. -1.]\n",
      " [ 0.  1.  2. -4.  2.]\n",
      " [ 0.  0.  1.  1.  0.]\n",
      " [ 0.  0.  2.  2.  0.]]\n",
      "[[ 1.  1. -2.  0. -1.]\n",
      " [ 0.  1.  2. -4.  2.]\n",
      " [ 0.  0.  1.  1.  0.]\n",
      " [ 0.  0.  0.  0.  0.]]\n",
      "Divide\n",
      "Top Half\n",
      "[[ 1.  1.  0.  2. -1.]\n",
      " [ 0.  1.  0. -6.  2.]\n",
      " [ 0.  0.  1.  1.  0.]\n",
      " [ 0.  0.  0.  0.  0.]]\n",
      "[[ 1.  0.  0.  8. -3.]\n",
      " [ 0.  1.  0. -6.  2.]\n",
      " [ 0.  0.  1.  1.  0.]\n",
      " [ 0.  0.  0.  0.  0.]]\n"
     ]
    }
   ],
   "source": [
    "r = np.array([\n",
    "    [1,1,-2,0,-1],\n",
    "    [1,2,0,-4,1],\n",
    "    [0,1,3,-3,2],\n",
    "    [2,3,0,-2,0],\n",
    "])\n",
    "_ = linear.rref(r)"
   ]
  },
  {
   "cell_type": "markdown",
   "metadata": {
    "collapsed": true,
    "deletable": true,
    "editable": true
   },
   "source": [
    "# Problem Set\n",
    "\n",
    "## 1\n",
    "Find the largest\n",
    "possible number of independent vectors  \n",
    "4"
   ]
  },
  {
   "cell_type": "code",
   "execution_count": 3,
   "metadata": {
    "collapsed": false
   },
   "outputs": [
    {
     "name": "stdout",
     "output_type": "stream",
     "text": [
      "Bottom half\n",
      "[[ 1.  1.  0.  0.  0.  0.]\n",
      " [-1.  0.  0.  1.  1.  0.]\n",
      " [ 0. -1.  0. -1.  0.  1.]\n",
      " [ 0.  0. -1.  0. -1. -1.]]\n",
      "[[ 1.  1.  0.  0.  0.  0.]\n",
      " [ 0.  1.  0.  1.  1.  0.]\n",
      " [ 0. -1.  0. -1.  0.  1.]\n",
      " [ 0.  0. -1.  0. -1. -1.]]\n",
      "[[ 1.  1.  0.  0.  0.  0.]\n",
      " [ 0.  1.  0.  1.  1.  0.]\n",
      " [ 0.  0.  0.  0.  1.  1.]\n",
      " [ 0.  0. -1.  0. -1. -1.]]\n",
      "[[ 1.  1.  0.  0.  0.  0.]\n",
      " [ 0.  1.  0.  1.  1.  0.]\n",
      " [ 0.  0. -1.  0. -1. -1.]\n",
      " [ 0.  0.  0.  0.  1.  1.]]\n",
      "Divide\n",
      "[[ 1.  1.  0.  0.  0.  0.]\n",
      " [ 0.  1.  0.  1.  1.  0.]\n",
      " [-0. -0.  1. -0.  1.  1.]\n",
      " [ 0.  0.  0.  0.  1.  1.]]\n",
      "Top Half\n",
      "[[ 1.  1.  0.  0.  0.  0.]\n",
      " [ 0.  1.  0.  1.  0. -1.]\n",
      " [-0. -0.  1. -0.  0.  0.]\n",
      " [ 0.  0.  0.  0.  1.  1.]]\n",
      "[[ 1.  0.  0. -1.  0.  1.]\n",
      " [ 0.  1.  0.  1.  0. -1.]\n",
      " [-0. -0.  1. -0.  0.  0.]\n",
      " [ 0.  0.  0.  0.  1.  1.]]\n"
     ]
    }
   ],
   "source": [
    "p1 = np.array([\n",
    "    [1,1,0,0,0,0],\n",
    "    [-1,0,0,1,1,0],\n",
    "    [0,-1,0,-1,0,1],\n",
    "    [0,0,-1,0,-1,-1],\n",
    "])\n",
    "_ = linear.rref(p1)"
   ]
  },
  {
   "cell_type": "markdown",
   "metadata": {},
   "source": [
    "## 2\n",
    "Find a basis for the plane $x − 2y + 3z = 0$ in $\\mathbb{R}^3$.  \n",
    "$\\begin{bmatrix} 2 & -3 \\\\ 1 & 0 \\\\ 0 & 1 \\end{bmatrix}$  \n",
    "Then find a basis for the intersection of that plane with the $xy$ plane.  \n",
    "$\\begin{bmatrix} 2 \\\\ 1 \\\\ 0 \\end{bmatrix}$  \n",
    "Then find a basis for all vectors perpendicular to the plane.  "
   ]
  },
  {
   "cell_type": "code",
   "execution_count": 4,
   "metadata": {
    "collapsed": false
   },
   "outputs": [
    {
     "data": {
      "text/plain": [
       "matrix([[ 1., -2.,  3.]])"
      ]
     },
     "execution_count": 4,
     "metadata": {},
     "output_type": "execute_result"
    }
   ],
   "source": [
    "p2 = np.array([\n",
    "    [2,-3],\n",
    "    [1,0],\n",
    "    [0,1],\n",
    "])\n",
    "linear.crossProduct(p2.T)"
   ]
  },
  {
   "cell_type": "code",
   "execution_count": null,
   "metadata": {
    "collapsed": true
   },
   "outputs": [],
   "source": []
  }
 ],
 "metadata": {
  "kernelspec": {
   "display_name": "Python 3",
   "language": "python",
   "name": "python3"
  },
  "language_info": {
   "codemirror_mode": {
    "name": "ipython",
    "version": 3
   },
   "file_extension": ".py",
   "mimetype": "text/x-python",
   "name": "python",
   "nbconvert_exporter": "python",
   "pygments_lexer": "ipython3",
   "version": "3.6.0"
  }
 },
 "nbformat": 4,
 "nbformat_minor": 2
}
