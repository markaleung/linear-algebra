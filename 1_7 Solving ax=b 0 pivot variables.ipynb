{
 "cells": [
  {
   "cell_type": "code",
   "execution_count": null,
   "metadata": {
    "collapsed": true,
    "deletable": true,
    "editable": true
   },
   "outputs": [],
   "source": []
  },
  {
   "cell_type": "code",
   "execution_count": 1,
   "metadata": {
    "collapsed": true,
    "deletable": true,
    "editable": true
   },
   "outputs": [],
   "source": [
    "import linear, numpy as np"
   ]
  },
  {
   "cell_type": "markdown",
   "metadata": {
    "deletable": true,
    "editable": true
   },
   "source": [
    "# Lecture"
   ]
  },
  {
   "cell_type": "code",
   "execution_count": 2,
   "metadata": {
    "collapsed": false,
    "deletable": true,
    "editable": true
   },
   "outputs": [
    {
     "name": "stdout",
     "output_type": "stream",
     "text": [
      "Bottom half\n",
      "[[  1.   2.   2.   2.]\n",
      " [  2.   4.   6.   8.]\n",
      " [  3.   6.   8.  10.]]\n",
      "[[ 1.  2.  2.  2.]\n",
      " [ 0.  0.  2.  4.]\n",
      " [ 0.  0.  2.  4.]]\n",
      "[[ 1.  2.  2.  2.]\n",
      " [ 0.  0.  2.  4.]\n",
      " [ 0.  0.  0.  0.]]\n",
      "Divide\n",
      "[[ 1.  2.  2.  2.]\n",
      " [ 0.  0.  1.  2.]\n",
      " [ 0.  0.  0.  0.]]\n",
      "Top Half\n",
      "[[ 1.  2.  0. -2.]\n",
      " [ 0.  0.  1.  2.]\n",
      " [ 0.  0.  0.  0.]]\n"
     ]
    }
   ],
   "source": [
    "a = np.array([ [1,2,2,2], [2,4,6,8], [3,6,8,10], ])\n",
    "_ = linear.rref(a)"
   ]
  },
  {
   "cell_type": "code",
   "execution_count": 3,
   "metadata": {
    "collapsed": false,
    "deletable": true,
    "editable": true
   },
   "outputs": [
    {
     "name": "stdout",
     "output_type": "stream",
     "text": [
      "Bottom half\n",
      "[[  1.   2.   3.]\n",
      " [  2.   4.   6.]\n",
      " [  2.   6.   8.]\n",
      " [  2.   8.  10.]]\n",
      "[[ 1.  2.  3.]\n",
      " [ 0.  0.  0.]\n",
      " [ 0.  2.  2.]\n",
      " [ 0.  4.  4.]]\n",
      "[[ 1.  2.  3.]\n",
      " [ 0.  2.  2.]\n",
      " [ 0.  0.  0.]\n",
      " [ 0.  0.  0.]]\n",
      "Divide\n",
      "[[ 1.  2.  3.]\n",
      " [ 0.  1.  1.]\n",
      " [ 0.  0.  0.]\n",
      " [ 0.  0.  0.]]\n",
      "Top Half\n",
      "[[ 1.  0.  1.]\n",
      " [ 0.  1.  1.]\n",
      " [ 0.  0.  0.]\n",
      " [ 0.  0.  0.]]\n"
     ]
    }
   ],
   "source": [
    "_ = linear.rref(a.T)"
   ]
  },
  {
   "cell_type": "markdown",
   "metadata": {
    "deletable": true,
    "editable": true
   },
   "source": [
    "# Recitation\n",
    "\n",
    "The set $S$ of points $P(x,y,z)$ such that $x - 5y + 2z = 9$ is a plane in $\\mathbb{R}^3$\n",
    "\n",
    "It is parallel to the plane $S_0$ of $P(x,y,z)$ such that $x - 5y + 2z = 0$\n",
    "\n",
    "All points on S satisfy the equation\n",
    "\n",
    "$ \\begin{bmatrix} x \\\\ y \\\\ z \\\\ \\end{bmatrix} = \\begin{bmatrix} 9 \\\\ 0 \\\\ 0 \\\\ \\end{bmatrix} + c_1 \\begin{bmatrix} 5 \\\\ 1 \\\\ 0 \\\\ \\end{bmatrix} + c_2 \\begin{bmatrix} -2 \\\\ 0 \\\\ 1 \\\\ \\end{bmatrix} $"
   ]
  },
  {
   "cell_type": "markdown",
   "metadata": {
    "collapsed": true,
    "deletable": true,
    "editable": true
   },
   "source": [
    "# Problem Set\n",
    "\n",
    "## 1\n",
    "\n",
    "a. Find the row reduced form of \n",
    "\n",
    "$A = \\begin{bmatrix} 1 & 5 & 7 & 9 \\\\ 0 & 4 & 1 & 7 \\\\ 2 & -2 & 11 & -3 \\end{bmatrix} $\n",
    "\n",
    "b. What is the rank of this matrix?\n",
    "\n",
    "Rank is 2\n",
    "\n",
    "c. Find any special solutions to the equation Ax = 0\n",
    "\n",
    "$ \\begin{bmatrix} -5.75 & -0.25 \\\\ -0.25 & -1.75 \\\\ 1 & 0 \\\\ 0 & 1 \\end{bmatrix} $"
   ]
  },
  {
   "cell_type": "code",
   "execution_count": 4,
   "metadata": {
    "collapsed": false,
    "deletable": true,
    "editable": true
   },
   "outputs": [
    {
     "name": "stdout",
     "output_type": "stream",
     "text": [
      "Bottom half\n",
      "[[  1.   5.   7.   9.]\n",
      " [  0.   4.   1.   7.]\n",
      " [  2.  -2.  11.  -3.]]\n",
      "[[  1.   5.   7.   9.]\n",
      " [  0.   4.   1.   7.]\n",
      " [  0. -12.  -3. -21.]]\n",
      "[[ 1.  5.  7.  9.]\n",
      " [ 0.  4.  1.  7.]\n",
      " [ 0.  0.  0.  0.]]\n",
      "Divide\n",
      "[[ 1.    5.    7.    9.  ]\n",
      " [ 0.    1.    0.25  1.75]\n",
      " [ 0.    0.    0.    0.  ]]\n",
      "Top Half\n",
      "[[ 1.    0.    5.75  0.25]\n",
      " [ 0.    1.    0.25  1.75]\n",
      " [ 0.    0.    0.    0.  ]]\n"
     ]
    }
   ],
   "source": [
    "p1 = np.array([ [1,5,7,9], [0,4,1,7], [2,-2,11,-3], ])\n",
    "_ = linear.rref(p1)"
   ]
  },
  {
   "cell_type": "markdown",
   "metadata": {
    "deletable": true,
    "editable": true
   },
   "source": [
    "## 2\n",
    "\n",
    "Find $A_1$ and $A_2$ so that rank($A_1B$) = 1 and rank($A_2B$) = 0 for \n",
    "\n",
    "$ B = \\begin{bmatrix} 1 & 1 \\\\ 1 & 1 \\end{bmatrix} $"
   ]
  },
  {
   "cell_type": "code",
   "execution_count": 5,
   "metadata": {
    "collapsed": false,
    "deletable": true,
    "editable": true,
    "scrolled": true
   },
   "outputs": [
    {
     "name": "stdout",
     "output_type": "stream",
     "text": [
      "Bottom half\n",
      "[[ 2.  2.]\n",
      " [ 0.  0.]]\n",
      "Divide\n",
      "[[ 1.  1.]\n",
      " [ 0.  0.]]\n",
      "Top Half\n",
      "Bottom half\n",
      "[[ 0.  0.]\n",
      " [ 0.  0.]]\n",
      "Divide\n",
      "Top Half\n"
     ]
    }
   ],
   "source": [
    "b = np.array([\n",
    "    [1,1],\n",
    "    [1,1]\n",
    "])\n",
    "a1 = np.array([\n",
    "    [1,1],\n",
    "    [0,0]\n",
    "])\n",
    "a2 = np.array([\n",
    "    [0,0],\n",
    "    [0,0]\n",
    "])\n",
    "_ = linear.rref(a1 @ b)\n",
    "_ = linear.rref(a2 @ b)"
   ]
  },
  {
   "cell_type": "code",
   "execution_count": null,
   "metadata": {
    "collapsed": true,
    "deletable": true,
    "editable": true
   },
   "outputs": [],
   "source": []
  }
 ],
 "metadata": {
  "kernelspec": {
   "display_name": "Python 3",
   "language": "python",
   "name": "python3"
  },
  "language_info": {
   "codemirror_mode": {
    "name": "ipython",
    "version": 3
   },
   "file_extension": ".py",
   "mimetype": "text/x-python",
   "name": "python",
   "nbconvert_exporter": "python",
   "pygments_lexer": "ipython3",
   "version": "3.6.0"
  }
 },
 "nbformat": 4,
 "nbformat_minor": 2
}
