{
 "cells": [
  {
   "cell_type": "code",
   "execution_count": 1,
   "metadata": {
    "collapsed": true
   },
   "outputs": [],
   "source": [
    "import linear, numpy as np"
   ]
  },
  {
   "cell_type": "markdown",
   "metadata": {},
   "source": [
    "# Recitation\n",
    "The vector space of all polynomials in x of degree <= 2 has a basis 1, x, x2.  \n",
    "Let w1 be a different basis of polynomials whose values at x = -1, 0, 1 are given by:  \n",
    "$ \\begin{bmatrix} \n",
    "x & w1 & w2 & w3 & y & 1 & x & x2\\\\ \n",
    "-1 & 1 & 0 & 0 & 6 & 1 & -1 & 1\\\\ \n",
    "0 & 0 & 1 & 0 & 5 & 1 & 0 & 0\\\\\n",
    "1 & 0 & 0 & 1 & 4 & 1 & 1 & 1\n",
    "\\end{bmatrix} $  \n",
    "a. Express y(x) = -x + 5 in this basis  \n",
    "$ \\begin{bmatrix} 1 & 0 & 0 \\\\ 0 & 1 & 0 \\\\ 0 & 0 & 1 \\end{bmatrix} \n",
    "\\begin{bmatrix} a \\\\ b \\\\ c \\end{bmatrix} = \\begin{bmatrix} 6 \\\\ 5 \\\\ 4 \\end{bmatrix} $  \n",
    "a, b, c = 6, 5, 4  \n",
    "b. Find the change of basis matrices  \n",
    "$ a: \\begin{bmatrix} 1 & -1 & 1 \\\\ 1 & 0 & 0 \\\\ 1 & 1 & 1 \\end{bmatrix} \n",
    "\\begin{bmatrix} 1 \\\\ x \\\\ x2 \\end{bmatrix} = \\begin{bmatrix} w1 \\\\ w2 \\\\ w3 \\end{bmatrix} \\\\\n",
    "a.I: \\begin{bmatrix} 0 & 1 & 0 \\\\ -0.5 & 0 & 0.5 \\\\ 0.5 & -1 & 0.5 \\end{bmatrix} \n",
    "\\begin{bmatrix} w1 \\\\ w2 \\\\ w3 \\end{bmatrix} = \\begin{bmatrix} 1 \\\\ x \\\\ x2 \\end{bmatrix}$  \n",
    "c. Find the matrix of taking derivatives in both bases  \n",
    "$ d: \\begin{bmatrix} 0 & 1 & 0 \\\\ 0 & 0 & 2 \\\\ 0 & 0 & 0 \\end{bmatrix} \n",
    "\\begin{bmatrix} 1 \\\\ x \\\\ x2 \\end{bmatrix} = \\begin{bmatrix} 1 \\\\ x \\\\ x2 \\end{bmatrix} $  "
   ]
  },
  {
   "cell_type": "code",
   "execution_count": 2,
   "metadata": {
    "collapsed": false
   },
   "outputs": [
    {
     "name": "stdout",
     "output_type": "stream",
     "text": [
      "[[-1.5  2.  -0.5]\n",
      " [-0.5  0.   0.5]\n",
      " [ 0.5 -2.   1.5]]\n"
     ]
    }
   ],
   "source": [
    "a = linear.toMatrix('$ \\begin{bmatrix} 1 & -1 & 1 \\\\ 1 & 0 & 0 \\\\ 1 & 1 & 1 \\end{bmatrix} $')\n",
    "d = linear.toMatrix('$ \\begin{bmatrix} 0 & 1 & 0 \\\\ 0 & 0 & 2 \\\\ 0 & 0 & 0 \\end{bmatrix} $')\n",
    "print(a @ d @ a.I)"
   ]
  },
  {
   "cell_type": "markdown",
   "metadata": {
    "collapsed": true
   },
   "source": [
    "# Problem Set\n",
    "Verify that the vectors of the Haar wavelet basis, given in\n",
    "lecture, are orthogonal. Adjust their lengths so that the resulting basis\n",
    "vectors are orthonormal."
   ]
  },
  {
   "cell_type": "code",
   "execution_count": 5,
   "metadata": {
    "collapsed": false
   },
   "outputs": [
    {
     "name": "stdout",
     "output_type": "stream",
     "text": [
      "[[ 1. -0.  0.  0.  0.  0.]\n",
      " [-0.  1.  0.  0.  0.  0.]\n",
      " [ 0.  0.  1.  0.  0.  0.]\n",
      " [ 0.  0.  0.  1.  0.  0.]\n",
      " [ 0.  0.  0.  0.  1.  0.]\n",
      " [ 0.  0.  0.  0.  0.  1.]]\n"
     ]
    }
   ],
   "source": [
    "ap1 = np.matrix([\n",
    "    [1,1,1,1,1,1,1,1],\n",
    "    [1,1,1,1,-1,-1,-1,-1],\n",
    "    [1,1,-1,-1,0,0,0,0],\n",
    "    [0,0,0,0,1,1,-1,-1],\n",
    "    [1,-1,0,0,0,0,0,0],\n",
    "    [0,0,0,0,0,0,1,-1],\n",
    "]).T\n",
    "ap1n = linear.normalise(ap1)\n",
    "print((ap1n.T @ ap1n).round(2))"
   ]
  },
  {
   "cell_type": "markdown",
   "metadata": {
    "collapsed": true
   },
   "source": [
    "We can think of the set of all two by two matrices with\n",
    "real valued entries as a vector space. Describe two different bases for this\n",
    "space. Is one of your bases better than the other for describing diagonal\n",
    "matrices? What about triangular matrices? Symmetric matrices?"
   ]
  },
  {
   "cell_type": "code",
   "execution_count": null,
   "metadata": {
    "collapsed": true
   },
   "outputs": [],
   "source": []
  }
 ],
 "metadata": {
  "kernelspec": {
   "display_name": "Python 3",
   "language": "python",
   "name": "python3"
  },
  "language_info": {
   "codemirror_mode": {
    "name": "ipython",
    "version": 3
   },
   "file_extension": ".py",
   "mimetype": "text/x-python",
   "name": "python",
   "nbconvert_exporter": "python",
   "pygments_lexer": "ipython3",
   "version": "3.6.0"
  }
 },
 "nbformat": 4,
 "nbformat_minor": 2
}
