{
 "cells": [
  {
   "cell_type": "code",
   "execution_count": null,
   "metadata": {
    "collapsed": true
   },
   "outputs": [],
   "source": []
  },
  {
   "cell_type": "code",
   "execution_count": 1,
   "metadata": {
    "collapsed": false
   },
   "outputs": [],
   "source": [
    "import linear, numpy as np"
   ]
  },
  {
   "cell_type": "markdown",
   "metadata": {},
   "source": [
    "# Lecture"
   ]
  },
  {
   "cell_type": "code",
   "execution_count": 2,
   "metadata": {
    "collapsed": false
   },
   "outputs": [
    {
     "name": "stdout",
     "output_type": "stream",
     "text": [
      "Bottom half\n",
      "[[ 1.  3.]\n",
      " [ 2.  1.]\n",
      " [ 6.  1.]\n",
      " [ 5.  1.]]\n",
      "[[  1.   3.]\n",
      " [  0.  -5.]\n",
      " [  0. -17.]\n",
      " [  0. -14.]]\n",
      "[[ 1.  3.]\n",
      " [ 0. -5.]\n",
      " [ 0.  0.]\n",
      " [ 0.  0.]]\n",
      "Divide\n",
      "[[ 1.  3.]\n",
      " [-0.  1.]\n",
      " [ 0.  0.]\n",
      " [ 0.  0.]]\n",
      "Top Half\n",
      "[[ 1.  0.]\n",
      " [-0.  1.]\n",
      " [ 0.  0.]\n",
      " [ 0.  0.]]\n"
     ]
    }
   ],
   "source": [
    "l = np.array([\n",
    "    [1,3],\n",
    "    [2,1],\n",
    "    [6,1],\n",
    "    [5,1],\n",
    "])\n",
    "\n",
    "_ = linear.rref(l)"
   ]
  },
  {
   "cell_type": "code",
   "execution_count": 3,
   "metadata": {
    "collapsed": false
   },
   "outputs": [
    {
     "name": "stdout",
     "output_type": "stream",
     "text": [
      "Bottom half\n",
      "[[ 1.  2.  6.  5.]\n",
      " [ 3.  1.  1.  1.]]\n",
      "[[  1.   2.   6.   5.]\n",
      " [  0.  -5. -17. -14.]]\n",
      "Divide\n",
      "[[ 1.   2.   6.   5. ]\n",
      " [-0.   1.   3.4  2.8]]\n",
      "Top Half\n",
      "[[ 1.   0.  -0.8 -0.6]\n",
      " [-0.   1.   3.4  2.8]]\n"
     ]
    }
   ],
   "source": [
    "_ = linear.rref(l.T)"
   ]
  },
  {
   "cell_type": "markdown",
   "metadata": {
    "collapsed": true
   },
   "source": [
    "# Recitation\n",
    "Find all solutions to matrix  \n",
    "$ \\begin{bmatrix} 1 & -2 & -2\\\\ 2 & -5 & -4\\\\ 4 & -9 & -8 \\end{bmatrix} \\\\\n",
    "\\begin{bmatrix} b1 \\\\ b2 \\\\ b3 \\end{bmatrix}\n",
    "=> \\begin{bmatrix} b1 \\\\ b2 - 2b1 \\\\ b3 - 4b1 \\end{bmatrix}\n",
    "=> \\begin{bmatrix} b1 \\\\ b2 - 2b1 \\\\ b3 - b2 - 2b1 \\end{bmatrix}\n",
    "=> \\begin{bmatrix} b1 \\\\ 2b1 - b2 \\\\ b3 - b2 - 2b1 \\end{bmatrix}\n",
    "=> \\begin{bmatrix} 5b1 - b2 \\\\ 2b1 - b2 \\\\ b3 - b2 - 2b1 \\end{bmatrix}\n",
    "$  \n",
    "Solution:  \n",
    "$ \n",
    "\\begin{bmatrix} 5b1 - b1 \\\\ 2b1 - b2 \\\\ 0 \\end{bmatrix} + c \\begin{bmatrix} 2 \\\\ 0 \\\\ 1 \\end{bmatrix}\n",
    "$  "
   ]
  },
  {
   "cell_type": "code",
   "execution_count": 4,
   "metadata": {
    "collapsed": false
   },
   "outputs": [
    {
     "name": "stdout",
     "output_type": "stream",
     "text": [
      "Bottom half\n",
      "[[ 1. -2. -2.]\n",
      " [ 2. -5. -4.]\n",
      " [ 4. -9. -8.]]\n",
      "[[ 1. -2. -2.]\n",
      " [ 0. -1.  0.]\n",
      " [ 0. -1.  0.]]\n",
      "[[ 1. -2. -2.]\n",
      " [ 0. -1.  0.]\n",
      " [ 0.  0.  0.]]\n",
      "Divide\n",
      "[[ 1. -2. -2.]\n",
      " [-0.  1. -0.]\n",
      " [ 0.  0.  0.]]\n",
      "Top Half\n",
      "[[ 1.  0. -2.]\n",
      " [-0.  1. -0.]\n",
      " [ 0.  0.  0.]]\n"
     ]
    }
   ],
   "source": [
    "r = np.array([\n",
    "    [1,-2,-2],\n",
    "    [2,-5,-4],\n",
    "    [4,-9,-8],\n",
    "])\n",
    "\n",
    "_ = linear.rref(r)"
   ]
  },
  {
   "cell_type": "markdown",
   "metadata": {
    "collapsed": true
   },
   "source": [
    "# Problem Set\n",
    "\n",
    "## 1\n",
    "Explain why these are all false  \n",
    "a) The complete solution is any linear combination of xp and xn.  \n",
    "The complete solution is xp plus any linear combination of xn.  \n",
    "b) The system Ax = b has at most one particular solution.  \n",
    "If free variables exist, Ax = b has infinite solutions  \n",
    "c) If A is invertible there is no solution xn in the nullspace.  \n",
    "If A is invertible, nullspace is origin  \n",
    "\n",
    "## 2\n",
    "Use Gauss-Jordan elimination to reduce the matrices [U 0] and [U c]  \n",
    "to [R 0] and [R d]. Solve Rx = 0 and Rx = d.  \n",
    "Check your work by plugging your values into the equations Ux = 0  \n",
    "and Ux = c.  "
   ]
  },
  {
   "cell_type": "code",
   "execution_count": 5,
   "metadata": {
    "collapsed": false
   },
   "outputs": [
    {
     "name": "stdout",
     "output_type": "stream",
     "text": [
      "Bottom half\n",
      "[[ 1.  2.  3.  5.]\n",
      " [ 0.  0.  4.  8.]]\n",
      "Divide\n",
      "[[ 1.  2.  3.  5.]\n",
      " [ 0.  0.  1.  2.]]\n",
      "Top Half\n",
      "[[ 1.  2.  0. -1.]\n",
      " [ 0.  0.  1.  2.]]\n",
      "[[1 2 3]\n",
      " [0 0 4]]\n",
      "[0 0]\n",
      "[5 8]\n"
     ]
    }
   ],
   "source": [
    "p1 = np.array([\n",
    "    [1,2,3,5],\n",
    "    [0,0,4,8],\n",
    "])\n",
    "_ = linear.rref(p1)\n",
    "u = p1[:,0:3]\n",
    "print(u)\n",
    "x0 = np.array([-2,1,0]).T\n",
    "xd = np.array([-1,0,2]).T\n",
    "print(u @ x0)\n",
    "print(u @ xd)"
   ]
  },
  {
   "cell_type": "markdown",
   "metadata": {},
   "source": [
    "$\n",
    "Rx = 0 \\\\\n",
    "c\\begin{bmatrix} -2 \\\\ 1 \\\\ 0 \\end{bmatrix} \\\\\n",
    "Rx = d \\\\\n",
    "\\begin{bmatrix} -1 \\\\ 0 \\\\ 2 \\end{bmatrix}\n",
    "$\n",
    "\n",
    "## 3\n",
    "Suppose Ax = b and Cx = b have the same\n",
    "(complete) solutions for every b. Is it true that A = C?  \n",
    "Yes"
   ]
  },
  {
   "cell_type": "code",
   "execution_count": null,
   "metadata": {
    "collapsed": true
   },
   "outputs": [],
   "source": []
  }
 ],
 "metadata": {
  "kernelspec": {
   "display_name": "Python 3",
   "language": "python",
   "name": "python3"
  },
  "language_info": {
   "codemirror_mode": {
    "name": "ipython",
    "version": 3
   },
   "file_extension": ".py",
   "mimetype": "text/x-python",
   "name": "python",
   "nbconvert_exporter": "python",
   "pygments_lexer": "ipython3",
   "version": "3.6.0"
  }
 },
 "nbformat": 4,
 "nbformat_minor": 2
}
