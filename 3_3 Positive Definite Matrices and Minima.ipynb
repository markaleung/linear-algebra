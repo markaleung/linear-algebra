{
 "cells": [
  {
   "cell_type": "code",
   "execution_count": 1,
   "metadata": {
    "collapsed": true
   },
   "outputs": [],
   "source": [
    "import linear, numpy as np"
   ]
  },
  {
   "cell_type": "code",
   "execution_count": 2,
   "metadata": {
    "collapsed": false
   },
   "outputs": [
    {
     "name": "stdout",
     "output_type": "stream",
     "text": [
      "[[ 2.         -1.          0.        ]\n",
      " [ 0.          1.5        -1.        ]\n",
      " [ 0.          0.          1.33333333]]\n",
      "[ 2.          1.5         1.33333333]\n"
     ]
    }
   ],
   "source": [
    "a = np.matrix([\n",
    "    [2,-1,0],\n",
    "    [-1,2,-1],\n",
    "    [0,-1,2],\n",
    "])\n",
    "print(linear.pivots(a))"
   ]
  },
  {
   "cell_type": "markdown",
   "metadata": {
    "collapsed": true
   },
   "source": [
    "# Recitation\n",
    "br is positive definite if c > 0, positive semidefinite if c == 0  \n",
    "c is added to bottom right of matrix"
   ]
  },
  {
   "cell_type": "code",
   "execution_count": 8,
   "metadata": {
    "collapsed": false
   },
   "outputs": [
    {
     "name": "stdout",
     "output_type": "stream",
     "text": [
      "[[ 2.  -1.  -1. ]\n",
      " [ 0.   1.5 -1.5]\n",
      " [ 0.   0.   0. ]]\n",
      "[ 2.   1.5]\n"
     ]
    }
   ],
   "source": [
    "br = np.matrix([\n",
    "    [2,-1,-1],\n",
    "    [-1,2,-1],\n",
    "    [-1,-1,2],\n",
    "])\n",
    "print(linear.pivots(br))"
   ]
  },
  {
   "cell_type": "markdown",
   "metadata": {},
   "source": [
    "# Problem Set\n",
    "When A and\n",
    "B are symmetric positive definite, AB might not even be symmetric, but its\n",
    "eigenvalues are still positive. Start from ABx = λx and take dot products\n",
    "with Bx. Then prove λ > 0. \n",
    "\n",
    "ABx = lx  \n",
    "(ABx).T Bx = (lx).T Bx  \n",
    "(Bx).T A.T Bx = lxT Bx  \n",
    "(Bx).T A (Bx) = l(xTBx)  \n",
    "\n",
    "(Bx).T A Bx > 0 because A is positive definite, and Bx is just like x  \n",
    "x.T B X > 0 because B is positive definite  \n",
    "Therefore l = positive / positive = positive\n",
    "\n",
    "Find the quadratic form associated with the matrix. \n",
    "Is this function f(x, y) always positive, always negative, or sometimes\n",
    "positive and sometimes negative?  \n",
    "\n",
    "Always negative.  \n",
    "= x + 12xy + 9y2 \n",
    "= (x+6y)2 - 27y2"
   ]
  },
  {
   "cell_type": "code",
   "execution_count": 11,
   "metadata": {
    "collapsed": false
   },
   "outputs": [
    {
     "name": "stdout",
     "output_type": "stream",
     "text": [
      "[[  1.   5.]\n",
      " [  0. -26.]]\n",
      "[[  1. -26.]]\n"
     ]
    }
   ],
   "source": [
    "ap2 = np.matrix([\n",
    "    [1,5],\n",
    "    [7,9],\n",
    "])\n",
    "print(linear.pivots(ap2))"
   ]
  },
  {
   "cell_type": "code",
   "execution_count": null,
   "metadata": {
    "collapsed": true
   },
   "outputs": [],
   "source": []
  }
 ],
 "metadata": {
  "kernelspec": {
   "display_name": "Python 3",
   "language": "python",
   "name": "python3"
  },
  "language_info": {
   "codemirror_mode": {
    "name": "ipython",
    "version": 3
   },
   "file_extension": ".py",
   "mimetype": "text/x-python",
   "name": "python",
   "nbconvert_exporter": "python",
   "pygments_lexer": "ipython3",
   "version": "3.6.0"
  }
 },
 "nbformat": 4,
 "nbformat_minor": 2
}
