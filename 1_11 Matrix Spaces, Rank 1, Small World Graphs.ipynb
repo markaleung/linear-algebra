{
 "cells": [
  {
   "cell_type": "code",
   "execution_count": 1,
   "metadata": {
    "collapsed": true
   },
   "outputs": [],
   "source": [
    "import linear, numpy as np"
   ]
  },
  {
   "cell_type": "markdown",
   "metadata": {},
   "source": [
    "# Recitation\n",
    "Show that the set of 2x3 matrices whose nullspace contains  \n",
    "$ \\begin{bmatrix} 2 \\\\ 1 \\\\ 1 \\end{bmatrix} $  \n",
    "is a vector subspace and find a basis for it.  \n",
    "$ \\begin{bmatrix} 1 & 0 & -2 \\\\ 0 & 1 & -1 \\end{bmatrix} $  \n",
    "If A @ nullspace = 0 and B @ nullspace = 0, (A+B) @ nullspace = A @ nullspace + B @ nullspace = 0 + 0, therefore addition works.  \n",
    "CA @ nullspace = C(A @ nullspace), therefore multiplication works.  \n",
    "What about the set of those whose column space contains  \n",
    "$ \\begin{bmatrix} 2 \\\\ 1 \\end{bmatrix} $  \n",
    "No because 0 matrix is not in the set.  \n",
    "# Problem Set\n",
    "## 1\n",
    "Write the 3 by 3 identity matrix as a combination of the other five permutation\n",
    "matrices. Then show that those five matrices are linearly independent.\n",
    "(Assume a combination gives c1P1 + · · · + c5P5 = 0 and check\n",
    "entries to prove ci is zero.) The five permutation matrices are a basis for the\n",
    "subspace of three by three matrices with row and column sums all equal.  \n",
    "  \n",
    "Stuck\n",
    "\n",
    "Sum of 5 matrices =  \n",
    "$ \\begin{bmatrix} c1 & c2 + c3 & c4 + c5 \\\\ c2 + c4 & c5 & c1 + c3 \\\\ c3 + c5 & c1 + c4 & c2 \\end{bmatrix} $  \n",
    "For sum to = 0, c1, c2, c5 must equal 0. c2, c4, c3 = 0 - c1 = 0"
   ]
  },
  {
   "cell_type": "code",
   "execution_count": 2,
   "metadata": {
    "collapsed": false
   },
   "outputs": [
    {
     "name": "stdout",
     "output_type": "stream",
     "text": [
      "[[ 1.  0.  0.]\n",
      " [ 0.  0.  1.]\n",
      " [ 0.  1.  0.]]\n",
      "\n",
      "[[ 0.  1.  0.]\n",
      " [ 1.  0.  0.]\n",
      " [ 0.  0.  1.]]\n",
      "\n",
      "[[ 0.  1.  0.]\n",
      " [ 0.  0.  1.]\n",
      " [ 1.  0.  0.]]\n",
      "\n",
      "[[ 0.  0.  1.]\n",
      " [ 1.  0.  0.]\n",
      " [ 0.  1.  0.]]\n",
      "\n",
      "[[ 0.  0.  1.]\n",
      " [ 0.  1.  0.]\n",
      " [ 1.  0.  0.]]\n",
      "\n"
     ]
    }
   ],
   "source": [
    "permutations = [np.identity(3)[[a,b,c],:] for a in range(3) for b in range(3) for c in range(3) \n",
    "if b != a and c != a and c != b and [a,b,c] != [0,1,2]]\n",
    "for p in permutations:\n",
    "    print(p)\n",
    "    print()"
   ]
  },
  {
   "cell_type": "markdown",
   "metadata": {},
   "source": [
    "## 2\n",
    "M is the space of three by three matrices. Multiply\n",
    "each matrix X in M by A  \n",
    "a) Which matrices X lead to AX = 0?  \n",
    "Each column of X must be a multiple of 1,1,1  \n",
    "b) Which matrices have the form AX for some matrix X?  \n",
    "Each column of AX must be a combination of columns of A. Since all columns of A sum to 0, columns of AX must also sum to 0  \n",
    "c) Part (a) finds the “nullspace” of the operation AX and part (b) finds\n",
    "the “column space.” What are the dimensions of those two subspaces\n",
    "of M? Why do the dimensions add to (n − r) + r = 9?  \n",
    "nullspace is  dimension, column space is "
   ]
  },
  {
   "cell_type": "code",
   "execution_count": 3,
   "metadata": {
    "collapsed": false
   },
   "outputs": [
    {
     "name": "stdout",
     "output_type": "stream",
     "text": [
      "Bottom half\n",
      "[[ 1.  0. -1.]\n",
      " [-1.  1.  0.]\n",
      " [ 0. -1.  1.]]\n",
      "[[ 1.  0. -1.]\n",
      " [ 0.  1. -1.]\n",
      " [ 0. -1.  1.]]\n",
      "[[ 1.  0. -1.]\n",
      " [ 0.  1. -1.]\n",
      " [ 0.  0.  0.]]\n",
      "Divide\n",
      "Top Half\n"
     ]
    }
   ],
   "source": [
    "A = np.array([\n",
    "    [1,0,-1],\n",
    "    [-1,1,0],\n",
    "    [0,-1,1],\n",
    "])\n",
    "_ = linear.rref(A)"
   ]
  },
  {
   "cell_type": "code",
   "execution_count": null,
   "metadata": {
    "collapsed": true
   },
   "outputs": [],
   "source": []
  }
 ],
 "metadata": {
  "kernelspec": {
   "display_name": "Python 3",
   "language": "python",
   "name": "python3"
  },
  "language_info": {
   "codemirror_mode": {
    "name": "ipython",
    "version": 3
   },
   "file_extension": ".py",
   "mimetype": "text/x-python",
   "name": "python",
   "nbconvert_exporter": "python",
   "pygments_lexer": "ipython3",
   "version": "3.6.0"
  }
 },
 "nbformat": 4,
 "nbformat_minor": 2
}
