{
 "cells": [
  {
   "cell_type": "code",
   "execution_count": 1,
   "metadata": {
    "collapsed": false,
    "scrolled": true
   },
   "outputs": [],
   "source": [
    "import linear, numpy as np"
   ]
  },
  {
   "cell_type": "markdown",
   "metadata": {
    "collapsed": false
   },
   "source": [
    "# Lecture"
   ]
  },
  {
   "cell_type": "code",
   "execution_count": 2,
   "metadata": {
    "collapsed": false
   },
   "outputs": [
    {
     "name": "stdout",
     "output_type": "stream",
     "text": [
      "[[ 1.  0.]\n",
      " [ 1. -1.]\n",
      " [ 1.  1.]]\n",
      "[[ 0.57735027  0.        ]\n",
      " [ 0.57735027 -0.70710678]\n",
      " [ 0.57735027  0.70710678]]\n"
     ]
    }
   ],
   "source": [
    "a = np.matrix([\n",
    "    [1,1],\n",
    "    [1,0],\n",
    "    [1,2],\n",
    "])\n",
    "_ = linear.gram(a)"
   ]
  },
  {
   "cell_type": "markdown",
   "metadata": {},
   "source": [
    "# Recitation\n",
    "Make A orthonormal and write R"
   ]
  },
  {
   "cell_type": "code",
   "execution_count": 3,
   "metadata": {
    "collapsed": false
   },
   "outputs": [
    {
     "name": "stdout",
     "output_type": "stream",
     "text": [
      "[[ 1.  0.  0.]\n",
      " [ 0.  0.  5.]\n",
      " [ 0.  3.  0.]]\n",
      "[[ 1.  0.  0.]\n",
      " [ 0.  0.  1.]\n",
      " [ 0.  1.  0.]]\n",
      "[[ 1.  0.  0.]\n",
      " [ 0.  0.  1.]\n",
      " [ 0.  1.  0.]]\n",
      "[[ 1.  2.  4.]\n",
      " [ 0.  3.  6.]\n",
      " [ 0.  0.  5.]]\n"
     ]
    }
   ],
   "source": [
    "ar = np.matrix([\n",
    "    [1,2,4],\n",
    "    [0,0,5],\n",
    "    [0,3,6],\n",
    "])\n",
    "qr = linear.gram(ar)\n",
    "print(qr.T)\n",
    "rr = qr.T @ ar\n",
    "print(rr)"
   ]
  },
  {
   "cell_type": "markdown",
   "metadata": {},
   "source": [
    "# Problem Set\n",
    "## 1\n",
    "Orthonormal vectors are automatically linearly independent.  \n",
    "Matrix Proof: Show that Qx = 0 implies x = 0. Since Q may be rectangular,\n",
    "you can use Q.T but not Q.I.  \n",
    "\n",
    "Stuck  \n",
    "Qx = 0  \n",
    "Q.T Qx = Q.T 0 = 0  \n",
    "Q.T Qx also = Ix  \n",
    "Ix = 0, therefore x = 0\n",
    "\n",
    "## 2\n",
    "Given the vectors a, b and c listed below, use the\n",
    "Gram-Schmidt process to find orthogonal vectors A, B, and C that span\n",
    "the same space.  \n",
    "\n",
    "a = (1, −1, 0, 0), b = (0, 1, −1, 0), c = (0, 0, 1, −1).\n",
    "\n",
    "Show that {A, B, C} and {a, b, c} are bases for the space of vectors perpendicular\n",
    "to d = (1, 1, 1, 1). "
   ]
  },
  {
   "cell_type": "code",
   "execution_count": 4,
   "metadata": {
    "collapsed": false
   },
   "outputs": [
    {
     "name": "stdout",
     "output_type": "stream",
     "text": [
      "[[ 1.          0.5         0.33333333]\n",
      " [-1.          0.5         0.33333333]\n",
      " [ 0.         -1.          0.33333333]\n",
      " [ 0.          0.         -1.        ]]\n",
      "[[ 0.70710678  0.40824829  0.28867513]\n",
      " [-0.70710678  0.40824829  0.28867513]\n",
      " [ 0.         -0.81649658  0.28867513]\n",
      " [ 0.          0.         -0.8660254 ]]\n",
      "[[ 0.  0.  0.]]\n",
      "[[ 0.  0.  0.]]\n"
     ]
    }
   ],
   "source": [
    "ap2 = np.matrix([\n",
    "    [1,-1,0,0],\n",
    "    [0,1,-1,0],\n",
    "    [0,0,1,-1],\n",
    "]).T.astype(float)\n",
    "qp2 = linear.gram(ap2)\n",
    "d = np.matrix([1,1,1,1])\n",
    "print(d @ ap2)\n",
    "print(d @ qp2)"
   ]
  },
  {
   "cell_type": "code",
   "execution_count": null,
   "metadata": {
    "collapsed": true
   },
   "outputs": [],
   "source": []
  }
 ],
 "metadata": {
  "kernelspec": {
   "display_name": "Python 3",
   "language": "python",
   "name": "python3"
  },
  "language_info": {
   "codemirror_mode": {
    "name": "ipython",
    "version": 3
   },
   "file_extension": ".py",
   "mimetype": "text/x-python",
   "name": "python",
   "nbconvert_exporter": "python",
   "pygments_lexer": "ipython3",
   "version": "3.6.0"
  }
 },
 "nbformat": 4,
 "nbformat_minor": 2
}
