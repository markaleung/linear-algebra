{
 "cells": [
  {
   "cell_type": "code",
   "execution_count": 1,
   "metadata": {
    "collapsed": false
   },
   "outputs": [],
   "source": [
    "import linear, numpy as np"
   ]
  },
  {
   "cell_type": "markdown",
   "metadata": {},
   "source": [
    "# Recitation\n",
    "Answer: A2v = A(Av) = A(lv) = l(Av) = llv\n",
    "\n",
    "A.I v = A.I * (Av/l) = v/l because Av = lv  \n",
    "(A.I - I)v = v/l - v = (1/l - 1)v\n",
    "\n",
    "(1-l)((1-l)(4-l) + 2)  \n",
    "= (1-l)(l2 - 5l + 6)  \n",
    "= (1-l)(l-3)(l-2)\n"
   ]
  },
  {
   "cell_type": "code",
   "execution_count": 2,
   "metadata": {
    "collapsed": false
   },
   "outputs": [
    {
     "name": "stdout",
     "output_type": "stream",
     "text": [
      "1 [[ 1. -0.  0.]] [[ 1.  0.  0.]] [[ 1.  0.  0.]]\n",
      "2 [[-1. -2.  1.]] [[-2. -4.  2.]] [[-2. -4.  2.]]\n",
      "3 [[ 0.5 -1.   1. ]] [[ 1.5 -3.   3. ]] [[ 1.5 -3.   3. ]]\n",
      "[[ 1.  -1.   0.5]\n",
      " [-0.  -2.  -1. ]\n",
      " [ 0.   1.   1. ]]\n",
      "1 [[ 1. -0.  0.]] [[ 1.  0.  0.]] [[ 1.  0.  0.]]\n",
      "4 [[-1. -2.  1.]] [[-4. -8.  4.]] [[-4. -8.  4.]]\n",
      "9 [[ 0.5 -1.   1. ]] [[ 4.5 -9.   9. ]] [[ 4.5 -9.   9. ]]\n",
      "[[ 1.  -1.   0.5]\n",
      " [-0.  -2.  -1. ]\n",
      " [ 0.   1.   1. ]]\n",
      "0.0 [[ 1.  0. -0.]] [[ 0.  0.  0.]] [[ 0.  0.  0.]]\n",
      "-0.5 [[-1. -2.  1.]] [[ 0.5  1.  -0.5]] [[ 0.5  1.  -0.5]]\n",
      "-0.6666666666666667 [[ 0.5 -1.   1. ]] [[-0.33333333  0.66666667 -0.66666667]] [[-0.33333333  0.66666667 -0.66666667]]\n",
      "[[ 1.  -1.   0.5]\n",
      " [ 0.  -2.  -1. ]\n",
      " [-0.   1.   1. ]]\n"
     ]
    }
   ],
   "source": [
    "ar = np.matrix([\n",
    "    [1,2,3],\n",
    "    [0,1,-2],\n",
    "    [0,1,4]\n",
    "])\n",
    "eigenValues = [1, 2, 3]\n",
    "print(linear.eigenVectors(ar, eigenValues))\n",
    "print(linear.eigenVectors(ar @ ar, [e*e for e in eigenValues]))\n",
    "print(linear.eigenVectors((ar.I - np.identity(3)), [1/e-1 for e in eigenValues]))"
   ]
  },
  {
   "cell_type": "markdown",
   "metadata": {
    "collapsed": true
   },
   "source": [
    "# Problem Set\n",
    "\n",
    "## 1\n",
    "A three by\n",
    "three matrix B is known to have eigenvalues 0, 1 and 2. This information\n",
    "is enough to find three of these (give the answers where possible):  \n",
    "a) The rank of B  \n",
    "Rank is 3 because singular matrices only have eigenvalues 0  \n",
    "Wrong. Only singular matrices have 0 eigenvalues. Rank is 2  \n",
    "b) The determinant of BTB  \n",
    "det(B.T B) = det(B.T) det(B) = 0  \n",
    "c) The eigenvalues of BTB  \n",
    "Unknown  \n",
    "d) The eigenvalues of (B2 + I)−1  \n",
    "A^px = l^p x  \n",
    "(B2+I)-1: 1/(e2+1)  \n",
    "\n",
    "## 2\n",
    "Find eigenvalues of A, B, C  \n",
    "A: (1-l)((4-l)(6-l)-0): 1, 4, 6  \n",
    "B: (3-l)(0-(2-l)(1-l)): 1, 2, 3  \n",
    "C: 3(2-l)((2-l)(2-l)-(2-l)(2-l)): No eigenvalues  \n",
    "Wrong  \n",
    "C: (2-l)((2-l)(2-l)-4) - 2(2(2-l) - 4) + 2(4-2(2-l))\n",
    "= (2-l)(2-l)(2-l) - 4(2-l) - 4(2-l) + 8 + 8 - 4(2-l)\n",
    "= (2-l)3 - 12(2-l) + 16\n",
    "Stuck"
   ]
  },
  {
   "cell_type": "code",
   "execution_count": 4,
   "metadata": {
    "collapsed": false
   },
   "outputs": [
    {
     "name": "stdout",
     "output_type": "stream",
     "text": [
      "1 [[ 1. -0. -0.]] [[ 1.  0.  0.]] [[ 1.  0.  0.]]\n",
      "4 [[ 0.66666667  1.         -0.        ]] [[ 2.66666667  4.          0.        ]] [[ 2.66666667  4.          0.        ]]\n",
      "6 [[ 1.6  2.5  1. ]] [[  9.6  15.    6. ]] [[  9.6  15.    6. ]]\n",
      "-1.73205080757 [[-0.57735027 -0.          1.        ]] [[ 1.          0.         -1.73205081]] [[ 1.          0.         -1.73205081]]\n",
      "2 [[ 0.  1.  0.]] [[ 0.  2.  0.]] [[ 0.  2.  0.]]\n",
      "1.73205080757 [[ 0.57735027 -0.          1.        ]] [[ 1.          0.          1.73205081]] [[ 1.          0.          1.73205081]]\n",
      "0 [[-1.  1.  0.]] [[ 0.  0.  0.]] [[ 0.  0.  0.]]\n",
      "0 [[-1.  0.  1.]] [[ 0.  0.  0.]] [[ 0.  0.  0.]]\n",
      "6 [[ 1.  1.  1.]] [[ 6.  6.  6.]] [[ 6.  6.  6.]]\n"
     ]
    }
   ],
   "source": [
    "ap = np.matrix([\n",
    "    [1,2,3],\n",
    "    [0,4,5],\n",
    "    [0,0,6],\n",
    "])\n",
    "bp = np.matrix([\n",
    "    [0,0,1],\n",
    "    [0,2,0],\n",
    "    [3,0,0],\n",
    "])\n",
    "cp = np.matrix([\n",
    "    [2,2,2],\n",
    "    [2,2,2],\n",
    "    [2,2,2],\n",
    "])\n",
    "aep = [1,4,6]\n",
    "bep = [-np.sqrt(3),2,np.sqrt(3)]\n",
    "cep = [0,6]\n",
    "for letter in 'abc':\n",
    "    linear.eigenVectors(eval(letter+'p'), eval(letter+'ep'))"
   ]
  },
  {
   "cell_type": "code",
   "execution_count": null,
   "metadata": {
    "collapsed": true
   },
   "outputs": [],
   "source": []
  }
 ],
 "metadata": {
  "kernelspec": {
   "display_name": "Python 3",
   "language": "python",
   "name": "python3"
  },
  "language_info": {
   "codemirror_mode": {
    "name": "ipython",
    "version": 3
   },
   "file_extension": ".py",
   "mimetype": "text/x-python",
   "name": "python",
   "nbconvert_exporter": "python",
   "pygments_lexer": "ipython3",
   "version": "3.6.0"
  }
 },
 "nbformat": 4,
 "nbformat_minor": 2
}
