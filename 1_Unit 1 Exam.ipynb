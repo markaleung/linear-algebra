{
 "cells": [
  {
   "cell_type": "code",
   "execution_count": 3,
   "metadata": {
    "collapsed": false
   },
   "outputs": [],
   "source": [
    "import linear, numpy as np"
   ]
  },
  {
   "cell_type": "markdown",
   "metadata": {},
   "source": [
    "# 1\n",
    "This question is about an m by n matrix A for which  \n",
    "Ax = [1,1,1] has no solutions and Ax = [0,1,0] has exactly one solution.  \n",
    "(a) Give all possible information about m and n and the rank r of A.  \n",
    "m = 3 because Ax is $\\mathbb{R}^3$.  \n",
    "Column rank is full because Ax = b has one solution.  \n",
    "Row rank is not full Ax = b does not exist for all solutions.  \n",
    "Therefore r = n = 1 or 2  \n",
    "(b) Find all solutions to Ax = 0 and explain your answer.  \n",
    "Solutions to Ax = 0 = origin, because Ax = b only has one solution.  \n",
    "(c) Write down an example of a matrix A that fits the description in\n",
    "part (a).  \n",
    "A = [0,1,0]  \n",
    "\n",
    "Correct\n",
    "\n",
    "# 2\n",
    "The 3 by 3 matrix A reduces to the identity matrix I by the following three\n",
    "row operations (in order):  \n",
    "E21 : Subtract 4 (row 1) from row 2.  \n",
    "E31 : Subtract 3 (row 1) from row 3.  \n",
    "E23 : Subtract row 3 from row 2.  \n",
    "(a) Write the inverse matrix A−1 in terms of the E’s. Then compute A−1.  \n",
    "E23 @ E31 @ E21 @ A = I  \n",
    "A = A.I @ I = A.I = E21.I @ E31.I @ E23.I @ I  \n",
    "A.I = $ \\begin{bmatrix} 1 & 0 & 0 \\\\ 4 & 1 & 0 \\\\ 3 & 1 & 1 \\end{bmatrix} $  \n",
    "\n",
    "Wrong. A.I @ A = I  \n",
    "A.I = E23 @ E31 @ E21  \n",
    "\n",
    "(b) What is the original matrix A ?  \n",
    "A = A.I @ I = A.I  \n",
    "\n",
    "Wrong. 1 should be in 1,2, not 2,1\n",
    "\n",
    "(c) What is the lower triangular factor L in A = LU ?  \n",
    "U = identity, because elimination produces identity. \n",
    "A = LU = LI = A.I @ I  \n",
    "Therefore L = A.I = A  \n",
    "\n",
    "Correct. Carried forward error from b"
   ]
  },
  {
   "cell_type": "code",
   "execution_count": 9,
   "metadata": {
    "collapsed": false
   },
   "outputs": [
    {
     "name": "stdout",
     "output_type": "stream",
     "text": [
      "[[ 1.  0.  0.]\n",
      " [-4.  1.  0.]\n",
      " [ 0.  0.  1.]]\n",
      "[[ 1.  0.  0.]\n",
      " [-4.  1.  0.]\n",
      " [-3.  0.  1.]]\n",
      "[[ 1.  0.  0.]\n",
      " [-1.  1. -1.]\n",
      " [-3.  0.  1.]]\n"
     ]
    }
   ],
   "source": [
    "AI = np.identity(3)\n",
    "AI[1,0] = 4\n",
    "AI[2,0] = 3\n",
    "AI[1,2] = 1\n",
    "A = AI\n",
    "E = [np.identity(3) for i in range(3)]\n",
    "E[0][1,0] = -4\n",
    "E[1][2,0] = -3\n",
    "E[2][1,2] = -1\n",
    "_ = linear.multiply(E)"
   ]
  },
  {
   "cell_type": "markdown",
   "metadata": {},
   "source": [
    "# 3\n",
    "This 3 by 4 matrix depends on c:  \n",
    "$ \\begin{bmatrix} 1 & 1 & 2 & 4 \\\\ 3 & 3 & 2 & 8 \\\\ 0 & 0 & 2 & 2 \\end{bmatrix} $  \n",
    "(a) For each c find a basis for the column space of A.  \n",
    "For c = 3, basis = $ \\begin{bmatrix} 1 & 2 \\\\ 3 & 2 \\\\ 0 & 2 \\end{bmatrix} $  \n",
    "For c != 3, basis = $ \\begin{bmatrix} 1 & 1 & 2 \\\\ 3 & c & 2 \\\\ 0 & 0 & 2 \\end{bmatrix} $  \n",
    "(b) For each c find a basis for the nullspace of A.  \n",
    "For c = 3, nullspace = $ \\begin{bmatrix} -1 & -2 \\\\ 1 & 0 \\\\ 0 & -1 \\\\ 0 & 1 \\end{bmatrix} $  \n",
    "For c != 3 nullspace = $ \\begin{bmatrix} -2 \\\\ 0 \\\\ -1 \\\\ 1 \\end{bmatrix} $  \n",
    "(c) For each c find the complete solution x to Ax = [1,c,0]  \n",
    "For c = 3, solution = [1,0,0,0] + nullspace  \n",
    "For c != 3, Xp = [0,1,0,0] + nullspace\n",
    "\n",
    "Correct"
   ]
  },
  {
   "cell_type": "code",
   "execution_count": 42,
   "metadata": {
    "collapsed": false
   },
   "outputs": [
    {
     "name": "stdout",
     "output_type": "stream",
     "text": [
      "[[ 1.  1.  2.  4.  1.]\n",
      " [ 3.  3.  2.  8.  3.]\n",
      " [ 0.  0.  2.  2.  0.]]\n",
      "[[ 1.  1.  2.  4.  1.]\n",
      " [ 0.  0. -4. -4.  0.]\n",
      " [ 0.  0.  2.  2.  0.]]\n",
      "[[ 1.  1.  2.  4.  1.]\n",
      " [ 0.  0. -4. -4.  0.]\n",
      " [ 0.  0.  0.  0.  0.]]\n",
      "\n",
      "[[ 1.  1.  2.  4.  1.]\n",
      " [-0. -0.  1.  1. -0.]\n",
      " [ 0.  0.  0.  0.  0.]]\n",
      "[[ 1.  1.  0.  2.  1.]\n",
      " [-0. -0.  1.  1. -0.]\n",
      " [ 0.  0.  0.  0.  0.]]\n",
      "[[ 1.  1.  2.  4.  1.]\n",
      " [ 3.  4.  2.  8.  4.]\n",
      " [ 0.  0.  2.  2.  0.]]\n",
      "[[ 1.  1.  2.  4.  1.]\n",
      " [ 0.  1. -4. -4.  1.]\n",
      " [ 0.  0.  2.  2.  0.]]\n",
      "\n",
      "[[ 1.  1.  2.  4.  1.]\n",
      " [ 0.  1. -4. -4.  1.]\n",
      " [ 0.  0.  1.  1.  0.]]\n",
      "[[ 1.  1.  0.  2.  1.]\n",
      " [ 0.  1.  0.  0.  1.]\n",
      " [ 0.  0.  1.  1.  0.]]\n",
      "[[ 1.  0.  0.  2.  0.]\n",
      " [ 0.  1.  0.  0.  1.]\n",
      " [ 0.  0.  1.  1.  0.]]\n"
     ]
    }
   ],
   "source": [
    "for c in 3, 4:\n",
    "    A3 = np.array([\n",
    "        [1,1,2,4],\n",
    "        [3,c,2,8],\n",
    "        [0,0,2,2],\n",
    "    ])\n",
    "#     print(linear.toTex(A3[:,[0,1,2]]))\n",
    "    outcome = linear.rref(np.concatenate((A3, np.array([[1,c,0]]).T), axis=1))[-1][:,:-1]\n",
    "#     print(A3 @ np.array([1,0,0,0]))\n",
    "#     print(A3 @ np.array([0,1,0,0]))"
   ]
  },
  {
   "cell_type": "markdown",
   "metadata": {},
   "source": [
    "# 4\n",
    "(a)\t If A is a 3 by 5 matrix, what information do you have about the\n",
    "nullspace of A ?  \n",
    "Nullspace is 5 by (2 to 4)  \n",
    "(b) Suppose row operations on A lead to this matrix R = rref(A):  \n",
    "$ \\begin{bmatrix} 1 & 4 & 0 & 0 & 0 \\\\ 0 & 0 & 0 & 1 & 0 \\\\ 0 & 0 & 0 & 0 & 1 \\end{bmatrix} $  \n",
    "Write all known information about the columns of A.  \n",
    "Columns 2 = 4 * column 1.  \n",
    "Column 3 = 0s.  \n",
    "Column 4 and 5 are independent of 1/2/3.  \n",
    "(c) In the vector space M of all 3 by 3 matrices (you could call this a\n",
    "matrix space), what subspace S is spanned by all possible row reduced\n",
    "echelon forms R ?  \n",
    "Space of upper right matrices.  \n",
    "\n",
    "Correct"
   ]
  },
  {
   "cell_type": "code",
   "execution_count": null,
   "metadata": {
    "collapsed": true
   },
   "outputs": [],
   "source": []
  }
 ],
 "metadata": {
  "kernelspec": {
   "display_name": "Python 3",
   "language": "python",
   "name": "python3"
  },
  "language_info": {
   "codemirror_mode": {
    "name": "ipython",
    "version": 3
   },
   "file_extension": ".py",
   "mimetype": "text/x-python",
   "name": "python",
   "nbconvert_exporter": "python",
   "pygments_lexer": "ipython3",
   "version": "3.6.0"
  }
 },
 "nbformat": 4,
 "nbformat_minor": 2
}
