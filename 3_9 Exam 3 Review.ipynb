{
 "cells": [
  {
   "cell_type": "code",
   "execution_count": 1,
   "metadata": {
    "collapsed": true
   },
   "outputs": [],
   "source": [
    "import linear, numpy as np"
   ]
  },
  {
   "cell_type": "code",
   "execution_count": 2,
   "metadata": {
    "collapsed": false
   },
   "outputs": [
    {
     "name": "stdout",
     "output_type": "stream",
     "text": [
      "[ 1.61803399 -0.61803399]\n",
      "[[ 1.61803399 -0.61803399]\n",
      " [ 1.          1.        ]]\n",
      "[[ 0.4472136]\n",
      " [-0.4472136]]\n",
      "[[ 89.]\n",
      " [ 55.]]\n",
      "[[ 89.]\n",
      " [ 55.]]\n"
     ]
    }
   ],
   "source": [
    "a = np.matrix([\n",
    "    [1,1],\n",
    "    [1,0],\n",
    "])\n",
    "u0 = np.matrix([1,0]).T\n",
    "eigenValues = linear.eigen2x2(a)\n",
    "s = linear.eigenVectors(a, eigenValues, 'Silent')\n",
    "c = s.I @ u0\n",
    "print(eigenValues)\n",
    "print(s)\n",
    "print(c)\n",
    "print(s @ linear.diagonal(eigenValues, 10) @ s.I @ u0)\n",
    "print(s @ linear.diagonal(eigenValues, 10) @ c)"
   ]
  },
  {
   "cell_type": "markdown",
   "metadata": {
    "collapsed": true
   },
   "source": [
    "# Recitation\n",
    "For projection matrices P(A), eigenvalues are 1 and 0, eigenvectors are column space and left nullspace of A"
   ]
  },
  {
   "cell_type": "code",
   "execution_count": 8,
   "metadata": {
    "collapsed": false
   },
   "outputs": [
    {
     "name": "stdout",
     "output_type": "stream",
     "text": [
      "Arrays\n",
      "[[3]\n",
      " [4]]\n",
      "[[ 0.04]]\n",
      "[[3 4]]\n",
      "Multiply\n",
      "[[3]\n",
      " [4]]\n",
      "[[ 0.12]\n",
      " [ 0.16]]\n",
      "[[ 0.36  0.48]\n",
      " [ 0.48  0.64]]\n",
      "1.0 [[ 0.75  1.  ]] [[ 0.75  1.  ]] [[ 0.75  1.  ]]\n",
      "0.0 [[-1.33333333  1.        ]] [[ 0.  0.]] [[  0.00000000e+00   1.11022302e-16]]\n",
      "[[ 1.   -0.75]]\n"
     ]
    }
   ],
   "source": [
    "ar1 = np.matrix([3,4]).T\n",
    "pr1 = linear.projection(ar1)\n",
    "er1 = linear.eigen2x2(pr1)\n",
    "evr1 = linear.eigenVectors(pr1, er1)\n",
    "print(linear.leftNullSpace(ar1))"
   ]
  },
  {
   "cell_type": "code",
   "execution_count": 4,
   "metadata": {
    "collapsed": false
   },
   "outputs": [
    {
     "name": "stdout",
     "output_type": "stream",
     "text": [
      "(0.6+0.8j) [[ 0.+1.j  1.+0.j]] [[-0.8+0.6j  0.6+0.8j]] [[-0.8+0.6j  0.6+0.8j]]\n",
      "(0.6-0.8j) [[-0.-1.j  1.+0.j]] [[-0.8-0.6j  0.6-0.8j]] [[-0.8-0.6j  0.6-0.8j]]\n"
     ]
    }
   ],
   "source": [
    "ar2 = np.matrix([\n",
    "    [0.6, -0.8],\n",
    "    [0.8, 0.6],\n",
    "])\n",
    "er2 = linear.eigen2x2(ar2)\n",
    "evr2 = linear.eigenVectors(ar2, er2)"
   ]
  },
  {
   "cell_type": "code",
   "execution_count": 6,
   "metadata": {
    "collapsed": false
   },
   "outputs": [
    {
     "name": "stdout",
     "output_type": "stream",
     "text": [
      "[[-0.28  0.96]\n",
      " [ 0.96  0.28]]\n",
      "1.0 [[ 0.75  1.  ]] [[ 0.75  1.  ]] [[ 0.75  1.  ]]\n",
      "-1.0 [[-1.33333333  1.        ]] [[ 1.33333333 -1.        ]] [[ 1.33333333 -1.        ]]\n"
     ]
    }
   ],
   "source": [
    "ar3 = 2 * pr1 - np.identity(2)\n",
    "print(ar3)\n",
    "er3 = linear.eigen2x2(ar3)\n",
    "evr3 = linear.eigenVectors(ar3, er3)"
   ]
  },
  {
   "cell_type": "code",
   "execution_count": null,
   "metadata": {
    "collapsed": true
   },
   "outputs": [],
   "source": []
  }
 ],
 "metadata": {
  "kernelspec": {
   "display_name": "Python 3",
   "language": "python",
   "name": "python3"
  },
  "language_info": {
   "codemirror_mode": {
    "name": "ipython",
    "version": 3
   },
   "file_extension": ".py",
   "mimetype": "text/x-python",
   "name": "python",
   "nbconvert_exporter": "python",
   "pygments_lexer": "ipython3",
   "version": "3.6.0"
  }
 },
 "nbformat": 4,
 "nbformat_minor": 2
}
