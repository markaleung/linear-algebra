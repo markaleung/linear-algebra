{
 "cells": [
  {
   "cell_type": "code",
   "execution_count": 1,
   "metadata": {
    "collapsed": true
   },
   "outputs": [],
   "source": [
    "import linear, numpy as np, datetime"
   ]
  },
  {
   "cell_type": "markdown",
   "metadata": {},
   "source": [
    "# Lecture\n",
    "(-1-l)(-2-l) - 2 = 0  \n",
    "2 + 3l + l2 - 2 = l  \n",
    "(l + 3)l = 0"
   ]
  },
  {
   "cell_type": "code",
   "execution_count": 2,
   "metadata": {
    "collapsed": false
   },
   "outputs": [
    {
     "name": "stdout",
     "output_type": "stream",
     "text": [
      "[[  1.00000000e+00]\n",
      " [  5.55111512e-17]]\n",
      "[[ 0.66749292]\n",
      " [ 0.33250708]]\n",
      "[[ 0.66666871]\n",
      " [ 0.33333129]]\n",
      "[[ 0.66666667]\n",
      " [ 0.33333333]]\n",
      "[[ 0.66666667]\n",
      " [ 0.33333333]]\n"
     ]
    }
   ],
   "source": [
    "al = np.matrix([\n",
    "    [-1,2],\n",
    "    [1,-2],\n",
    "])\n",
    "ul = np.matrix([1,0]).T\n",
    "el = [0, -3]\n",
    "for k in range(0, 10, 2):\n",
    "    print(linear.aku0(al, el, linear.diagonalExp, ul, k))"
   ]
  },
  {
   "cell_type": "markdown",
   "metadata": {
    "collapsed": true
   },
   "source": [
    "# Recitation\n",
    "Solve the differential equation  \n",
    "y''' + 2y'' - y' - 2y = 0  \n",
    "What is the matrix A?  \n",
    "Find the first column of exp(At)  \n",
    "(-2-l)(-l)(-l) + l + 2  \n",
    "= - l3 -2l2 + l + 2\n",
    "(1-l)(1+l)(2+l)  \n",
    "As t goes to infinity, e^(lt) goes to infinity"
   ]
  },
  {
   "cell_type": "code",
   "execution_count": 5,
   "metadata": {
    "collapsed": false
   },
   "outputs": [
    {
     "name": "stdout",
     "output_type": "stream",
     "text": [
      "1 [[ 1.  1.  1.]] [[ 1.  1.  1.]] [[ 1.  1.  1.]]\n",
      "-1 [[ 1. -1.  1.]] [[-1.  1. -1.]] [[-1.  1. -1.]]\n",
      "-2 [[ 4. -2.  1.]] [[-8.  4. -2.]] [[-8.  4. -2.]]\n",
      "[[ 1.  1.  4.]\n",
      " [ 1. -1. -2.]\n",
      " [ 1.  1.  1.]]\n",
      "[[ 0.16666667  0.5         0.33333333]\n",
      " [-0.5        -0.5         1.        ]\n",
      " [ 0.33333333 -0.         -0.33333333]]\n"
     ]
    }
   ],
   "source": [
    "ar = np.matrix([\n",
    "    [-2, 1, 2],\n",
    "    [1, 0, 0],\n",
    "    [0, 1, 0],\n",
    "])\n",
    "er = (1, -1, -2)\n",
    "sr = linear.eigenVectors(ar, er)\n",
    "print(sr)\n",
    "print(sr.I)"
   ]
  },
  {
   "cell_type": "markdown",
   "metadata": {},
   "source": [
    "# Problem Set\n",
    "## 1\n",
    "Don't understand"
   ]
  },
  {
   "cell_type": "markdown",
   "metadata": {},
   "source": [
    "## 2\n",
    "(1-l)(3-l) = 0"
   ]
  },
  {
   "cell_type": "code",
   "execution_count": 9,
   "metadata": {
    "collapsed": false
   },
   "outputs": [
    {
     "name": "stdout",
     "output_type": "stream",
     "text": [
      "1 [[ 1. -0.]] [[ 1.  0.]] [[ 1.  0.]]\n",
      "3 [[ 0.5  1. ]] [[ 1.5  3. ]] [[ 1.5  3. ]]\n",
      "[[ 1.   0.5]\n",
      " [-0.   1. ]]\n",
      "[[ 1.  -0.5]\n",
      " [ 0.   1. ]]\n"
     ]
    }
   ],
   "source": [
    "ap2 = np.matrix([\n",
    "    [1,1],\n",
    "    [0,3],\n",
    "])\n",
    "ep2 = [1, 3]\n",
    "sp2 = linear.eigenVectors(ap2, ep2)\n",
    "print(sp2)\n",
    "print(sp2.I)"
   ]
  },
  {
   "cell_type": "code",
   "execution_count": null,
   "metadata": {
    "collapsed": true
   },
   "outputs": [],
   "source": []
  }
 ],
 "metadata": {
  "kernelspec": {
   "display_name": "Python 3",
   "language": "python",
   "name": "python3"
  },
  "language_info": {
   "codemirror_mode": {
    "name": "ipython",
    "version": 3
   },
   "file_extension": ".py",
   "mimetype": "text/x-python",
   "name": "python",
   "nbconvert_exporter": "python",
   "pygments_lexer": "ipython3",
   "version": "3.6.0"
  }
 },
 "nbformat": 4,
 "nbformat_minor": 2
}
