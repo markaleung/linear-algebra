{
 "cells": [
  {
   "cell_type": "code",
   "execution_count": 1,
   "metadata": {
    "collapsed": false,
    "deletable": true,
    "editable": true
   },
   "outputs": [],
   "source": [
    "import numpy as np, linear, time"
   ]
  },
  {
   "cell_type": "code",
   "execution_count": 2,
   "metadata": {
    "collapsed": false,
    "deletable": true,
    "editable": true
   },
   "outputs": [],
   "source": [
    "def makePerm(list_):\n",
    "    if len(list_) == 1:\n",
    "        return [list_]\n",
    "    output = []\n",
    "    for l in list_:\n",
    "        temp = list_.copy()\n",
    "        temp.remove(l)\n",
    "        output.extend([[l]+perm for perm in makePerm(temp)])\n",
    "    return output"
   ]
  },
  {
   "cell_type": "markdown",
   "metadata": {
    "collapsed": true,
    "deletable": true,
    "editable": true
   },
   "source": [
    "# Recitation\n",
    "A and B are 5 by 5 matrices  \n",
    "A: x in diagonal, y in diagonal above, y in bottom left  \n",
    "\n",
    "x^5. y can be eliminated by subtracting xy/x\n",
    "Wrong. Cofactors, diagonal matrices, and transpose: x * x ** 4 + y * y ** 4 (\n",
    "\n",
    "\n",
    "B: x in diagonal, y in other cells  \n",
    "Subtract row above from each row. Add all right rows to each row\n",
    "You end up with upper triangular, with (x + 4y)(x-y)^4"
   ]
  },
  {
   "cell_type": "code",
   "execution_count": 4,
   "metadata": {
    "collapsed": false,
    "deletable": true,
    "editable": true
   },
   "outputs": [
    {
     "name": "stdout",
     "output_type": "stream",
     "text": [
      "[[ 3.          1.          1.          1.          1.          1.          1.\n",
      "   1.          1.          1.        ]\n",
      " [ 0.          2.66666667  0.66666667  0.66666667  0.66666667  0.66666667\n",
      "   0.66666667  0.66666667  0.66666667  0.66666667]\n",
      " [ 0.          0.          2.5         0.5         0.5         0.5         0.5\n",
      "   0.5         0.5         0.5       ]\n",
      " [ 0.          0.          0.          2.4         0.4         0.4         0.4\n",
      "   0.4         0.4         0.4       ]\n",
      " [ 0.          0.          0.          0.          2.33333333  0.33333333\n",
      "   0.33333333  0.33333333  0.33333333  0.33333333]\n",
      " [ 0.          0.          0.          0.          0.          2.28571429\n",
      "   0.28571429  0.28571429  0.28571429  0.28571429]\n",
      " [ 0.          0.          0.          0.          0.          0.          2.25\n",
      "   0.25        0.25        0.25      ]\n",
      " [ 0.          0.          0.          0.          0.          0.          0.\n",
      "   2.22222222  0.22222222  0.22222222]\n",
      " [ 0.          0.          0.          0.          0.          0.          0.\n",
      "   0.          2.2         0.2       ]\n",
      " [ 0.          0.          0.          0.          0.          0.          0.\n",
      "   0.          0.          2.18181818]]\n",
      "6144.0\n",
      "0.015010833740234375\n",
      "6144.0\n",
      "110.31945252418518\n"
     ]
    }
   ],
   "source": [
    "a = np.ones(10) + 2 * np.identity(10)\n",
    "# print(a)\n",
    "timey = time.time()\n",
    "_ = linear.det(a)\n",
    "print(time.time() - timey)\n",
    "print(linear.det2(a))\n",
    "print(time.time() - timey)"
   ]
  },
  {
   "cell_type": "markdown",
   "metadata": {
    "deletable": true,
    "editable": true
   },
   "source": [
    "# Problem Set\n",
    "## 1\n",
    "Use 3 row swaps to get to identity, therefore -1^3 * 1 = -1"
   ]
  },
  {
   "cell_type": "code",
   "execution_count": 4,
   "metadata": {
    "collapsed": false,
    "deletable": true,
    "editable": true
   },
   "outputs": [
    {
     "name": "stdout",
     "output_type": "stream",
     "text": [
      "[[ 1.  0.  0.  0.]\n",
      " [ 0.  1.  0.  0.]\n",
      " [ 0.  0.  1.  0.]\n",
      " [ 0.  0.  0.  1.]]\n",
      "-1.0\n",
      "Bottom half\n",
      "[[ 0.  0.  0.  1.  1.  0.  0.  0.]\n",
      " [ 1.  0.  0.  0.  0.  1.  0.  0.]\n",
      " [ 0.  1.  0.  0.  0.  0.  1.  0.]\n",
      " [ 0.  0.  1.  0.  0.  0.  0.  1.]]\n",
      "[[ 1.  0.  0.  0.  0.  1.  0.  0.]\n",
      " [ 0.  0.  0.  1.  1.  0.  0.  0.]\n",
      " [ 0.  1.  0.  0.  0.  0.  1.  0.]\n",
      " [ 0.  0.  1.  0.  0.  0.  0.  1.]]\n",
      "[[ 1.  0.  0.  0.  0.  1.  0.  0.]\n",
      " [ 0.  1.  0.  0.  0.  0.  1.  0.]\n",
      " [ 0.  0.  0.  1.  1.  0.  0.  0.]\n",
      " [ 0.  0.  1.  0.  0.  0.  0.  1.]]\n",
      "[[ 1.  0.  0.  0.  0.  1.  0.  0.]\n",
      " [ 0.  1.  0.  0.  0.  0.  1.  0.]\n",
      " [ 0.  0.  1.  0.  0.  0.  0.  1.]\n",
      " [ 0.  0.  0.  1.  1.  0.  0.  0.]]\n",
      "Divide\n",
      "Top Half\n"
     ]
    }
   ],
   "source": [
    "ap1 = np.matrix([\n",
    "    [0,0,0,1],\n",
    "    [1,0,0,0],\n",
    "    [0,1,0,0],\n",
    "    [0,0,1,0],\n",
    "])\n",
    "_ = linear.det(ap1)\n",
    "_ = linear.rrefIdentity(ap1)"
   ]
  },
  {
   "cell_type": "markdown",
   "metadata": {
    "deletable": true,
    "editable": true
   },
   "source": [
    "## 2"
   ]
  },
  {
   "cell_type": "code",
   "execution_count": null,
   "metadata": {
    "collapsed": true,
    "deletable": true,
    "editable": true
   },
   "outputs": [],
   "source": [
    "ap2 = np.matrix([\n",
    "    [1,1,1,1],\n",
    "    [1,2,3,4],\n",
    "    [1,3,6,10],\n",
    "    [1,4,10,19],\n",
    "])\n",
    "_ = linear.det(ap2)\n",
    "output = linear.rrefIdentity(ap2)"
   ]
  },
  {
   "cell_type": "code",
   "execution_count": null,
   "metadata": {
    "collapsed": true,
    "deletable": true,
    "editable": true
   },
   "outputs": [],
   "source": []
  }
 ],
 "metadata": {
  "kernelspec": {
   "display_name": "Python 3",
   "language": "python",
   "name": "python3"
  },
  "language_info": {
   "codemirror_mode": {
    "name": "ipython",
    "version": 3
   },
   "file_extension": ".py",
   "mimetype": "text/x-python",
   "name": "python",
   "nbconvert_exporter": "python",
   "pygments_lexer": "ipython3",
   "version": "3.6.0"
  }
 },
 "nbformat": 4,
 "nbformat_minor": 2
}
