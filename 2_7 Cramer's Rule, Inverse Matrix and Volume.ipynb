{
 "cells": [
  {
   "cell_type": "code",
   "execution_count": 1,
   "metadata": {
    "collapsed": false
   },
   "outputs": [],
   "source": [
    "import linear, numpy as np"
   ]
  },
  {
   "cell_type": "markdown",
   "metadata": {},
   "source": [
    "# Recitation"
   ]
  },
  {
   "cell_type": "code",
   "execution_count": 2,
   "metadata": {
    "collapsed": false
   },
   "outputs": [
    {
     "name": "stdout",
     "output_type": "stream",
     "text": [
      "[[ 2.   2.  -1. ]\n",
      " [ 0.   2.   0.5]\n",
      " [ 0.   0.   3. ]]\n",
      "12.0\n",
      "2.0\n",
      "[[ 2.   2.  -1. ]\n",
      " [ 0.   2.   0.5]\n",
      " [ 0.   0.   3. ]]\n",
      "12.0\n",
      "2.0\n"
     ]
    }
   ],
   "source": [
    "ar = np.matrix([\n",
    "    [2,2,-1],\n",
    "    [1,3,0],\n",
    "    [-1,1,4],\n",
    "])\n",
    "print(linear.det(ar)/6)\n",
    "ar2 = ar.copy()\n",
    "ar2[2,:] = [-201,-199,104]\n",
    "print(linear.det(ar2)/6)"
   ]
  },
  {
   "cell_type": "markdown",
   "metadata": {
    "collapsed": true
   },
   "source": [
    "# Problem Set\n",
    "## 1\n",
    "Find C, det(A)  \n",
    "If you change a1,3 = 4 to 100, why is det(A) unchanged?\n",
    "\n",
    "Because it doesn't change diagonal matrix"
   ]
  },
  {
   "cell_type": "code",
   "execution_count": 6,
   "metadata": {
    "collapsed": false
   },
   "outputs": [
    {
     "name": "stdout",
     "output_type": "stream",
     "text": [
      "[[ 6. -3.  0.]\n",
      " [ 3.  1. -1.]\n",
      " [-6.  2.  1.]]\n",
      "3.0\n",
      "[[ 1.  1.  4.]\n",
      " [ 0.  1. -2.]\n",
      " [ 0.  0.  3.]]\n",
      "3.0\n"
     ]
    }
   ],
   "source": [
    "ap1 = np.matrix([\n",
    "    [1,1,4],\n",
    "    [1,2,2],\n",
    "    [1,2,5],\n",
    "])\n",
    "cp1 = linear.cofactor(ap1)\n",
    "print(cp1)\n",
    "print((ap1 @ cp1.T)[0,0])\n",
    "_ = linear.det(ap1)"
   ]
  },
  {
   "cell_type": "markdown",
   "metadata": {},
   "source": [
    "## 2\n",
    "Find the three by three matrix of partial derivatives:  \n",
    "Simplify its determinant to J = ρ2 sin φ. \n",
    "\n",
    "x = r sin p cos t, y = r sin p sin t, z = r cos p   \n",
    "$\n",
    "\\begin{bmatrix}\n",
    "sin\\ p\\ cos\\ t & r\\ cos\\ p\\ cos\\ t & - r\\ sin\\ p\\ sin\\ t \\\\\n",
    "sin\\ p\\ sin\\ t & r\\ cos\\ p\\ sin\\ t & r\\ sin\\ p\\ cos\\ t \\\\\n",
    "cos\\ p & - r\\ sin\\ p & 0 \\\\\n",
    "\\end{bmatrix} \\\\\n",
    "$  \n",
    "sin p cos t (r^2 sin^2 p cos t) - r cos p cos t (- r sin p cos p cos t) - r sin p sin t (- r sin^2 p sin t - r cos^2 p sin t)  \n",
    "= r^2 sin^3 p cos^2 t + r^2 sin p cos^2 p cos^2 t + r^2 sin p sin^2 t  \n",
    "= r^2 sin p (sin^2 p cos^2 t + cos^2 p cos^2 t + sin^2 t)  \n",
    "= r^2 sin p (cos^2 t + sin^2 t)  \n",
    "= r^2 sin p  "
   ]
  },
  {
   "cell_type": "code",
   "execution_count": null,
   "metadata": {
    "collapsed": true
   },
   "outputs": [],
   "source": []
  }
 ],
 "metadata": {
  "kernelspec": {
   "display_name": "Python 3",
   "language": "python",
   "name": "python3"
  },
  "language_info": {
   "codemirror_mode": {
    "name": "ipython",
    "version": 3
   },
   "file_extension": ".py",
   "mimetype": "text/x-python",
   "name": "python",
   "nbconvert_exporter": "python",
   "pygments_lexer": "ipython3",
   "version": "3.6.0"
  }
 },
 "nbformat": 4,
 "nbformat_minor": 2
}
