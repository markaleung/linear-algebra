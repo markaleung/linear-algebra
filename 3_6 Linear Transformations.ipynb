{
 "cells": [
  {
   "cell_type": "code",
   "execution_count": 2,
   "metadata": {
    "collapsed": true
   },
   "outputs": [],
   "source": [
    "import linear, numpy as np"
   ]
  },
  {
   "cell_type": "markdown",
   "metadata": {},
   "source": [
    "# Lecture"
   ]
  },
  {
   "cell_type": "code",
   "execution_count": 3,
   "metadata": {
    "collapsed": false
   },
   "outputs": [],
   "source": [
    "def lecture(a):\n",
    "    print('a')\n",
    "    print(a)\n",
    "    # Eigenvectors of a (a basis)\n",
    "    s = linear.eigenVectors(a, linear.eigen2x2(a), 'Silent')\n",
    "    print('eigenvectors')\n",
    "    print(s)\n",
    "    # Transformation\n",
    "    t = a @ s\n",
    "    print('t = a @ s')\n",
    "    print(t)\n",
    "    # Find a by inverting basis\n",
    "    print('a = t @ s.I')\n",
    "    print(t @ s.I)\n",
    "    # Find eigenvalues through finding L\n",
    "    print('L')\n",
    "    print((s.I @ a @ s).round(2))\n",
    "    # Find eigenvalues directly\n",
    "    print('eigenvalues')\n",
    "    print(linear.eigen2x2(a))"
   ]
  },
  {
   "cell_type": "code",
   "execution_count": 4,
   "metadata": {
    "collapsed": false
   },
   "outputs": [
    {
     "name": "stdout",
     "output_type": "stream",
     "text": [
      "a\n",
      "[[ 0.5  0.5]\n",
      " [ 0.5  0.5]]\n",
      "eigenvectors\n",
      "[[ 1. -1.]\n",
      " [ 1.  1.]]\n",
      "t = a @ s\n",
      "[[ 1.  0.]\n",
      " [ 1.  0.]]\n",
      "a = t @ s.I\n",
      "[[ 0.5  0.5]\n",
      " [ 0.5  0.5]]\n",
      "L\n",
      "[[ 1.  0.]\n",
      " [ 0.  0.]]\n",
      "eigenvalues\n",
      "[ 1.  0.]\n"
     ]
    }
   ],
   "source": [
    "# x is a vector\n",
    "x = np.matrix([1,1]).T\n",
    "# a is a projection matrix based on x\n",
    "a = x @ (x.T @ x).I @ x.T\n",
    "lecture(a)"
   ]
  },
  {
   "cell_type": "code",
   "execution_count": 5,
   "metadata": {
    "collapsed": false
   },
   "outputs": [
    {
     "name": "stdout",
     "output_type": "stream",
     "text": [
      "a\n",
      "[[ 1.  0.]\n",
      " [ 0.  0.]]\n",
      "eigenvectors\n",
      "[[ 1. -0.]\n",
      " [ 0.  1.]]\n",
      "t = a @ s\n",
      "[[ 1.  0.]\n",
      " [ 0.  0.]]\n",
      "a = t @ s.I\n",
      "[[ 1.  0.]\n",
      " [ 0.  0.]]\n",
      "L\n",
      "[[ 1.  0.]\n",
      " [ 0.  0.]]\n",
      "eigenvalues\n",
      "[ 1.  0.]\n"
     ]
    }
   ],
   "source": [
    "# x is a vector\n",
    "x = np.matrix([1,0]).T\n",
    "# a is a projection matrix based on x\n",
    "a = x @ (x.T @ x).I @ x.T\n",
    "lecture(a)"
   ]
  },
  {
   "cell_type": "markdown",
   "metadata": {},
   "source": [
    "# Recitation\n",
    "Let T(A) = A.T where A is 2x2  \n",
    "1. Why is T linear? What is T.I?  \n",
    "Because T(A+B) = T(A)+T(B), T(cA) = cT(A). T.I is T, because T.I T = I  \n",
    "2. Write down the matrix of T  \n",
    "3. Eigenvalues/eigenvectors of T?  "
   ]
  },
  {
   "cell_type": "code",
   "execution_count": 6,
   "metadata": {
    "collapsed": false
   },
   "outputs": [
    {
     "name": "stdout",
     "output_type": "stream",
     "text": [
      "[[ 1  0  0  0]\n",
      " [ 0  0  1  1]\n",
      " [ 0  0  1 -1]\n",
      " [ 0  1  0  0]]\n"
     ]
    }
   ],
   "source": [
    "t = np.matrix([\n",
    "    [1,0,0,0],\n",
    "    [0,0,1,0],\n",
    "    [0,1,0,0],\n",
    "    [0,0,0,1],\n",
    "])\n",
    "w = np.matrix([\n",
    "    [1,0,0,0],\n",
    "    [0,0,0,1],\n",
    "    [0,1,1,0],\n",
    "    [0,1,-1,0],\n",
    "]).T\n",
    "print(w)\n",
    "t2 = np.matrix([\n",
    "    [1,0,0,0],\n",
    "    [0,1,0,0],\n",
    "    [0,0,1,0],\n",
    "    [0,0,0,-1],\n",
    "])"
   ]
  },
  {
   "cell_type": "markdown",
   "metadata": {
    "collapsed": true
   },
   "source": [
    "# Problem Set\n",
    "## 1\n",
    "Consider the transformation T that doubles the distance\n",
    "between each point and the origin without changing the direction from\n",
    "the origin to the points. In polar coordinates this is described by\n",
    "T(r, θ) = (2r, θ).  \n",
    "a. IS T a linear transformation?  \n",
    "Yes, because T(u+v) = T(u) + T(v) and T(cu) = cT(u)  \n",
    "b. Describe T using Cartesian (xy) coordinates. Check your work by confirming that the transformation doubles the lengths of vectors.  \n",
    "T(x,y) = 2x, 2y  \n",
    "c. If your answer to (a) was ”yes”, find the matrix of T. If your answer to\n",
    "(a) was ”no”, explain why the T isn’t linear.  "
   ]
  },
  {
   "cell_type": "code",
   "execution_count": 7,
   "metadata": {
    "collapsed": false
   },
   "outputs": [
    {
     "name": "stdout",
     "output_type": "stream",
     "text": [
      "[[ 2.  0.]\n",
      " [ 0.  2.]]\n"
     ]
    }
   ],
   "source": [
    "sp1 = np.matrix([\n",
    "    [1,0],\n",
    "    [0,1],\n",
    "])\n",
    "tp1 = np.matrix([\n",
    "    [2,0],\n",
    "    [0,2],\n",
    "])\n",
    "print(tp1 @ sp1.I)"
   ]
  },
  {
   "cell_type": "markdown",
   "metadata": {},
   "source": [
    "## 2\n",
    "Describe a transformation which leaves the zero vector\n",
    "fixed but which is not a linear transformation.  \n",
    "T(x,y) = x, |y|; x, y^2"
   ]
  },
  {
   "cell_type": "code",
   "execution_count": null,
   "metadata": {
    "collapsed": true
   },
   "outputs": [],
   "source": []
  }
 ],
 "metadata": {
  "kernelspec": {
   "display_name": "Python 3",
   "language": "python",
   "name": "python3"
  },
  "language_info": {
   "codemirror_mode": {
    "name": "ipython",
    "version": 3
   },
   "file_extension": ".py",
   "mimetype": "text/x-python",
   "name": "python",
   "nbconvert_exporter": "python",
   "pygments_lexer": "ipython3",
   "version": "3.6.0"
  }
 },
 "nbformat": 4,
 "nbformat_minor": 2
}
