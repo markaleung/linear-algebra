{
 "cells": [
  {
   "cell_type": "code",
   "execution_count": 1,
   "metadata": {
    "collapsed": false,
    "scrolled": true
   },
   "outputs": [],
   "source": [
    "import linear, numpy as np"
   ]
  },
  {
   "cell_type": "code",
   "execution_count": 2,
   "metadata": {
    "collapsed": false
   },
   "outputs": [
    {
     "name": "stdout",
     "output_type": "stream",
     "text": [
      "[[ 1.]]\n",
      "1.0\n",
      "[[ 0.  1.  0.]\n",
      " [ 0.  0.  0.]\n",
      " [ 0.  0.  0.]]\n",
      "-0.0\n",
      "[[ 1.]]\n",
      "[[0 0 0]\n",
      " [0 1 0]\n",
      " [0 0 0]]\n"
     ]
    }
   ],
   "source": [
    "a = np.matrix([0,1,0]).T\n",
    "ata = a.T @ a\n",
    "aat = a @ a.T\n",
    "print(linear.det(ata))\n",
    "print(linear.det(aat)) # Determinant is not the same\n",
    "print(ata.I) # True\n",
    "print(aat) # Not positive definite "
   ]
  },
  {
   "cell_type": "markdown",
   "metadata": {},
   "source": [
    "# Recitation\n",
    "Eigenvalues = 1,2  \n",
    "Pivots = 1,1  \n",
    "Find other l and d  \n",
    "l = -1 (trace) => det = product(eigenValues) = -2 = product(pivots) = 1\\*1\\*d => d = -2\n",
    "\n",
    "What is the smallest a33 that would make A positive semi-definite?  \n",
    "2, so that d = 0. L will be 1. \n",
    "\n",
    "What is the smallest c so that A+cI is positive semi-definite?  \n",
    "1, so that eigenvalues are 2, 3, 0, and determinant = 0"
   ]
  },
  {
   "cell_type": "code",
   "execution_count": 3,
   "metadata": {
    "collapsed": false
   },
   "outputs": [
    {
     "name": "stdout",
     "output_type": "stream",
     "text": [
      "[[ 1.  0.  1.]\n",
      " [ 0.  1.  1.]\n",
      " [ 0.  0. -2.]]\n",
      "-2.0\n",
      "Bottom half\n",
      "[[ 1.  0.  1.]\n",
      " [ 0.  1.  1.]\n",
      " [ 1.  1.  0.]]\n",
      "[[ 1.  0.  1.]\n",
      " [ 0.  1.  1.]\n",
      " [ 0.  1. -1.]]\n",
      "[[ 1.  0.  1.]\n",
      " [ 0.  1.  1.]\n",
      " [ 0.  0. -2.]]\n",
      "Top Half\n",
      "[[ 1.  0.  1.]\n",
      " [ 0.  1.  1.]\n",
      " [-0. -0.  1.]]\n",
      "[[ 1.  0.  0.]\n",
      " [ 0.  1.  0.]\n",
      " [-0. -0.  1.]]\n",
      "-1 [[-0.5 -0.5  1. ]] [[ 0.5  0.5 -1. ]] [[ 0.5  0.5 -1. ]]\n",
      "1 [[-1.  1. -0.]] [[-1.  1.  0.]] [[-1.  1.  0.]]\n",
      "2 [[ 1.  1.  1.]] [[ 2.  2.  2.]] [[ 2.  2.  2.]]\n"
     ]
    }
   ],
   "source": [
    "a = np.matrix([\n",
    "    [1,0,1],\n",
    "    [0,1,1],\n",
    "    [1,1,0],\n",
    "])\n",
    "print(linear.det(a))\n",
    "aa = linear.rref(a)[-1]\n",
    "e = [-1,1,2]\n",
    "_ = linear.eigenVectors(a, e)"
   ]
  },
  {
   "cell_type": "markdown",
   "metadata": {},
   "source": [
    "What is limit behavior of k => infinity on uk=A^k u?  \n",
    "L = [-0.5, 0.5, 1], L^infinity = [0,0,1]  \n",
    "It's 1, 1, 1 for all. "
   ]
  },
  {
   "cell_type": "code",
   "execution_count": 5,
   "metadata": {
    "collapsed": false
   },
   "outputs": [
    {
     "name": "stdout",
     "output_type": "stream",
     "text": [
      "[[ 0.5  0.   0.5]\n",
      " [ 0.   0.5  0.5]\n",
      " [ 0.5  0.5  0. ]]\n",
      "-0.5 [[-0.5 -0.5  1. ]] [[ 0.25  0.25 -0.5 ]] [[ 0.25  0.25 -0.5 ]]\n",
      "0.5 [[-1.  1. -0.]] [[-0.5  0.5  0. ]] [[-0.5  0.5  0. ]]\n",
      "1 [[ 1.  1.  1.]] [[ 1.  1.  1.]] [[ 1.  1.  1.]]\n",
      "[[ 0.33333333  0.33333333  0.33333333]\n",
      " [ 0.33333333  0.33333333  0.33333333]\n",
      " [ 0.33333333  0.33333333  0.33333333]]\n"
     ]
    }
   ],
   "source": [
    "u = np.matrix([\n",
    "    [3,0,0],\n",
    "    [0,3,0],\n",
    "    [0,0,3],\n",
    "])\n",
    "a2 = a/2\n",
    "print(a2)\n",
    "e2 = [-0.5, 0.5, 1]\n",
    "s2 = linear.eigenVectors(a2, e2)\n",
    "print(s2 @ linear.diagonal([0,0,1]) @ s2.I)"
   ]
  }
 ],
 "metadata": {
  "kernelspec": {
   "display_name": "Python 3",
   "language": "python",
   "name": "python3"
  },
  "language_info": {
   "codemirror_mode": {
    "name": "ipython",
    "version": 3
   },
   "file_extension": ".py",
   "mimetype": "text/x-python",
   "name": "python",
   "nbconvert_exporter": "python",
   "pygments_lexer": "ipython3",
   "version": "3.6.0"
  }
 },
 "nbformat": 4,
 "nbformat_minor": 2
}
