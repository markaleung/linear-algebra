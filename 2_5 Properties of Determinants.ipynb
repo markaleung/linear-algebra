{
 "cells": [
  {
   "cell_type": "code",
   "execution_count": 2,
   "metadata": {
    "collapsed": true,
    "deletable": true,
    "editable": true
   },
   "outputs": [],
   "source": [
    "import linear, numpy as np"
   ]
  },
  {
   "cell_type": "markdown",
   "metadata": {
    "collapsed": true,
    "deletable": true,
    "editable": true
   },
   "source": [
    "# Recitation\n",
    "Find the determinant of\n",
    "A, B, C, D  \n",
    "B = $ \\begin{bmatrix} 1 & a & a2 \\\\ 1 & b & b2 \\\\ 1 & c & c2 \\end{bmatrix} = \n",
    "\\begin{bmatrix} 1 & a & a2 \\\\ 0 & b-a & (b-a)(b+a) \\\\ 0 & c-a & (c-a)(c+a) \\end{bmatrix} = \n",
    "(b-a)(c-a)\n",
    "\\begin{bmatrix} 1 & a & a2 \\\\ 0 & 1 & b+a \\\\ 0 & 1 & c+a \\end{bmatrix} =\n",
    "\\begin{bmatrix} 1 & a & a2 \\\\ 0 & 1 & b+a \\\\ 0 & 0 & c-b \\end{bmatrix} $  \n",
    "Det(B) = (b-a)(c-a)(c-b)"
   ]
  },
  {
   "cell_type": "code",
   "execution_count": 3,
   "metadata": {
    "collapsed": false,
    "deletable": true,
    "editable": true
   },
   "outputs": [
    {
     "name": "stdout",
     "output_type": "stream",
     "text": [
      "[[ 101.          201.          301.        ]\n",
      " [   0.           -0.99009901   -1.98019802]\n",
      " [   0.            0.            0.        ]]\n",
      "-0.0\n",
      "[[ 1. -4.  5.]\n",
      " [ 0.  0.  0.]\n",
      " [ 0.  0.  0.]]\n",
      "0.0\n",
      "[[-1.  0.  4.]\n",
      " [ 0.  1.  3.]\n",
      " [ 0.  0.  0.]]\n",
      "0.0\n"
     ]
    }
   ],
   "source": [
    "# 0 because not independent\n",
    "Ar = np.matrix([\n",
    "    [101, 201, 301],\n",
    "    [102, 202, 302], \n",
    "    [103, 203, 303],\n",
    "])\n",
    "# 0 because not independent\n",
    "Cr = np.matrix([[1,2,3]]).T @ np.matrix([[1,-4,5]])\n",
    "# 0 because not independent\n",
    "Dr = np.matrix([\n",
    "    [0, 1, 3],\n",
    "    [-1, 0, 4],\n",
    "    [-3, -4, 0],\n",
    "])\n",
    "for m in Ar, Cr, Dr:\n",
    "    _ = linear.det(m)"
   ]
  },
  {
   "cell_type": "markdown",
   "metadata": {
    "collapsed": true,
    "deletable": true,
    "editable": true
   },
   "source": [
    "# Problem Set\n",
    "If the entries\n",
    "in every row of a square matrix A add to zero, solve Ax = 0 to prove that\n",
    "det A = 0.  \n",
    "\n",
    "A is singular (8)\n",
    "\n",
    "If those entries add to one, show that det(A − I) = 0. Does this\n",
    "mean that det A = 1?\n",
    "\n",
    "If entries sum to 1, entries of A - I sum to 0, since 1 has been subtracted from each row.  \n",
    "No. "
   ]
  },
  {
   "cell_type": "code",
   "execution_count": 4,
   "metadata": {
    "collapsed": false,
    "deletable": true,
    "editable": true
   },
   "outputs": [
    {
     "name": "stdout",
     "output_type": "stream",
     "text": [
      "[[ 3.         -2.        ]\n",
      " [ 0.          1.66666667]]\n",
      "5.0\n"
     ]
    }
   ],
   "source": [
    "ap = np.matrix((\n",
    "    [3,-2],\n",
    "    [-2,3],\n",
    "))\n",
    "_ = linear.det(ap)"
   ]
  },
  {
   "cell_type": "code",
   "execution_count": null,
   "metadata": {
    "collapsed": true,
    "deletable": true,
    "editable": true
   },
   "outputs": [],
   "source": []
  }
 ],
 "metadata": {
  "kernelspec": {
   "display_name": "Python 3",
   "language": "python",
   "name": "python3"
  },
  "language_info": {
   "codemirror_mode": {
    "name": "ipython",
    "version": 3
   },
   "file_extension": ".py",
   "mimetype": "text/x-python",
   "name": "python",
   "nbconvert_exporter": "python",
   "pygments_lexer": "ipython3",
   "version": "3.6.0"
  }
 },
 "nbformat": 4,
 "nbformat_minor": 2
}
