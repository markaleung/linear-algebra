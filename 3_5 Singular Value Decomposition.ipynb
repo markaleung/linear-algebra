{
 "cells": [
  {
   "cell_type": "code",
   "execution_count": 1,
   "metadata": {
    "collapsed": true
   },
   "outputs": [],
   "source": [
    "import linear, numpy as np"
   ]
  },
  {
   "cell_type": "markdown",
   "metadata": {},
   "source": [
    "# Recitation"
   ]
  },
  {
   "cell_type": "code",
   "execution_count": 2,
   "metadata": {
    "collapsed": false
   },
   "outputs": [
    {
     "name": "stdout",
     "output_type": "stream",
     "text": [
      "[[ 0.70710678 -0.70710678]\n",
      " [ 0.70710678  0.70710678]]\n",
      "[[ 8.94427191  0.        ]\n",
      " [ 0.          4.47213595]]\n",
      "[[ 0.31622777  0.9486833 ]\n",
      " [-0.9486833   0.31622777]]\n",
      "\n",
      "[[ 6.32455532 -3.16227766]\n",
      " [ 6.32455532  3.16227766]]\n",
      "[[ 6.32455532 -3.16227766]\n",
      " [ 6.32455532  3.16227766]]\n",
      "\n"
     ]
    }
   ],
   "source": [
    "def temp(a):\n",
    "    matrices = linear.svd(a)\n",
    "    for m in matrices:\n",
    "        print(m)\n",
    "    print()\n",
    "    print(a @ matrices[2].T)\n",
    "    print(matrices[0] @ matrices[1])\n",
    "    print()\n",
    "\n",
    "ar = np.matrix([\n",
    "    [5, 5],\n",
    "    [-1, 7],\n",
    "])\n",
    "temp(ar)"
   ]
  },
  {
   "cell_type": "markdown",
   "metadata": {},
   "source": [
    "# Problem Set"
   ]
  },
  {
   "cell_type": "markdown",
   "metadata": {},
   "source": [
    "Calculate the singular value decomposition A = UΣVT of the\n",
    "Fibonacci matrix"
   ]
  },
  {
   "cell_type": "code",
   "execution_count": 6,
   "metadata": {
    "collapsed": false
   },
   "outputs": [
    {
     "name": "stdout",
     "output_type": "stream",
     "text": [
      "[[ 0.85065081 -0.52573111]\n",
      " [ 0.52573111  0.85065081]]\n",
      "[[ 1.61803399  0.        ]\n",
      " [ 0.          0.61803399]]\n",
      "[[ 0.85065081  0.52573111]\n",
      " [-0.52573111  0.85065081]]\n",
      "\n",
      "[[ 1.37638192  0.3249197 ]\n",
      " [ 0.85065081 -0.52573111]]\n",
      "[[ 1.37638192 -0.3249197 ]\n",
      " [ 0.85065081  0.52573111]]\n",
      "\n"
     ]
    }
   ],
   "source": [
    "ap1 = np.matrix([\n",
    "    [1,1],\n",
    "    [1,0],\n",
    "])\n",
    "temp(ap1)"
   ]
  },
  {
   "cell_type": "markdown",
   "metadata": {},
   "source": [
    "Suppose A has orthogonal columns w1, w2, ..., wn\n",
    "of lengths σ1, σ2, ..., σn. Calculate ATA. What are U, Σ, and V in the SVD?\n",
    "$ \n",
    "A = \\begin{bmatrix} w11 & w21 \\\\ w12 & w22 \\end{bmatrix} \\\\\n",
    "AT = \\begin{bmatrix} w11 & w12 \\\\ w21 & w22 \\end{bmatrix} \\\\\n",
    "ATA = \\begin{bmatrix} w1w1 & w1w2 \\\\ w2w1 & w2w2 \\end{bmatrix}\n",
    "= \\begin{bmatrix} σ12 & 0 \\\\ 0 & σ22 \\end{bmatrix} \\\\\n",
    "V = I, S = diag(σ1, σ2) \\\\\n",
    "AV = US \\\\\n",
    "ATU = S: \\begin{bmatrix} w1u1 & w1u2 \\\\ w2u1 & w2u2 \\end{bmatrix}\n",
    "= \\begin{bmatrix} σ1 & 0 \\\\ 0 & σ2 \\end{bmatrix}\n",
    "$  \n",
    "Therefore u1 = w1/σ, u2 = w2/σ\n"
   ]
  },
  {
   "cell_type": "code",
   "execution_count": null,
   "metadata": {
    "collapsed": true
   },
   "outputs": [],
   "source": []
  }
 ],
 "metadata": {
  "kernelspec": {
   "display_name": "Python 3",
   "language": "python",
   "name": "python3"
  },
  "language_info": {
   "codemirror_mode": {
    "name": "ipython",
    "version": 3
   },
   "file_extension": ".py",
   "mimetype": "text/x-python",
   "name": "python",
   "nbconvert_exporter": "python",
   "pygments_lexer": "ipython3",
   "version": "3.6.0"
  }
 },
 "nbformat": 4,
 "nbformat_minor": 2
}
