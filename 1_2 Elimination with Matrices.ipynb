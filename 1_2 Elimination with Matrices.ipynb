{
 "cells": [
  {
   "cell_type": "code",
   "execution_count": 1,
   "metadata": {
    "collapsed": true
   },
   "outputs": [],
   "source": [
    "import pandas as pd, linear, numpy as np\n",
    "filename = '2 Elimination with Matrices.xlsx'"
   ]
  },
  {
   "cell_type": "markdown",
   "metadata": {},
   "source": [
    "# Recitation"
   ]
  },
  {
   "cell_type": "code",
   "execution_count": 2,
   "metadata": {
    "collapsed": false
   },
   "outputs": [
    {
     "name": "stdout",
     "output_type": "stream",
     "text": [
      "[matrix([[ 1., -1., -1.,  1.,  0.],\n",
      "        [ 2.,  0.,  2.,  0.,  8.],\n",
      "        [ 0., -1., -2.,  0., -8.],\n",
      "        [ 3., -3., -2.,  4.,  7.]])]\n"
     ]
    }
   ],
   "source": [
    "data = linear.separate(filename, 'Recitation', 4)\n",
    "print(data)"
   ]
  },
  {
   "cell_type": "code",
   "execution_count": 3,
   "metadata": {
    "collapsed": false,
    "scrolled": false
   },
   "outputs": [
    {
     "name": "stdout",
     "output_type": "stream",
     "text": [
      "Bottom half\n",
      "[[  2.  -2.  -2.   2.   0.]\n",
      " [  4.   0.   4.   0.  16.]\n",
      " [  0.  -2.  -4.   0. -16.]\n",
      " [  6.  -6.  -4.   8.  14.]]\n",
      "[[  2.  -2.  -2.   2.   0.]\n",
      " [  0.   4.   8.  -4.  16.]\n",
      " [  0.  -2.  -4.   0. -16.]\n",
      " [  0.   0.   2.   2.  14.]]\n",
      "[[  2.  -2.  -2.   2.   0.]\n",
      " [  0.   4.   8.  -4.  16.]\n",
      " [  0.   0.   0.  -2.  -8.]\n",
      " [  0.   0.   2.   2.  14.]]\n",
      "[[  2.  -2.  -2.   2.   0.]\n",
      " [  0.   4.   8.  -4.  16.]\n",
      " [  0.   0.   2.   2.  14.]\n",
      " [  0.   0.   0.  -2.  -8.]]\n",
      "Divide\n",
      "[[ 1. -1. -1.  1.  0.]\n",
      " [ 0.  1.  2. -1.  4.]\n",
      " [ 0.  0.  1.  1.  7.]\n",
      " [-0. -0. -0.  1.  4.]]\n",
      "Top Half\n",
      "[[ 1. -1. -1.  0. -4.]\n",
      " [ 0.  1.  2.  0.  8.]\n",
      " [ 0.  0.  1.  0.  3.]\n",
      " [-0. -0. -0.  1.  4.]]\n",
      "[[ 1. -1.  0.  0. -1.]\n",
      " [ 0.  1.  0.  0.  2.]\n",
      " [ 0.  0.  1.  0.  3.]\n",
      " [-0. -0. -0.  1.  4.]]\n",
      "[[ 1.  0.  0.  0.  1.]\n",
      " [ 0.  1.  0.  0.  2.]\n",
      " [ 0.  0.  1.  0.  3.]\n",
      " [-0. -0. -0.  1.  4.]]\n"
     ]
    }
   ],
   "source": [
    "outputR = linear.rref(data[0]*2)"
   ]
  },
  {
   "cell_type": "markdown",
   "metadata": {},
   "source": [
    "# Problem 1"
   ]
  },
  {
   "cell_type": "code",
   "execution_count": 4,
   "metadata": {
    "collapsed": false
   },
   "outputs": [
    {
     "name": "stdout",
     "output_type": "stream",
     "text": [
      "[matrix([[  2.,   3.,   5.],\n",
      "        [  6.,  15.,  12.]])]\n"
     ]
    }
   ],
   "source": [
    "data1 = linear.separate(filename, '1', 2)\n",
    "print(data1)"
   ]
  },
  {
   "cell_type": "code",
   "execution_count": 5,
   "metadata": {
    "collapsed": false
   },
   "outputs": [
    {
     "name": "stdout",
     "output_type": "stream",
     "text": [
      "Bottom half\n",
      "[[  2.   3.   5.]\n",
      " [  6.  15.  12.]]\n",
      "[[ 2.  3.  5.]\n",
      " [ 0.  6. -3.]]\n",
      "Divide\n",
      "[[ 1.   1.5  2.5]\n",
      " [ 0.   1.  -0.5]]\n",
      "Top Half\n",
      "[[ 1.    0.    3.25]\n",
      " [ 0.    1.   -0.5 ]]\n"
     ]
    }
   ],
   "source": [
    "output1 = linear.rref(data1[0])"
   ]
  },
  {
   "cell_type": "markdown",
   "metadata": {},
   "source": [
    "# Problem 2"
   ]
  },
  {
   "cell_type": "code",
   "execution_count": 6,
   "metadata": {
    "collapsed": false,
    "scrolled": false
   },
   "outputs": [
    {
     "name": "stdout",
     "output_type": "stream",
     "text": [
      "[matrix([[ 1.,  0.,  0.,  0.],\n",
      "        [ 1.,  1.,  0.,  0.],\n",
      "        [ 1.,  2.,  1.,  0.],\n",
      "        [ 1.,  3.,  3.,  1.]]), matrix([[ 1.,  0.,  0.,  0.],\n",
      "        [-1.,  1.,  0.,  0.],\n",
      "        [ 0., -1.,  1.,  0.],\n",
      "        [ 0.,  0., -1.,  1.]])]\n"
     ]
    }
   ],
   "source": [
    "data = linear.separate(filename, '2', 4)\n",
    "print(data)"
   ]
  },
  {
   "cell_type": "code",
   "execution_count": 7,
   "metadata": {
    "collapsed": false
   },
   "outputs": [
    {
     "name": "stdout",
     "output_type": "stream",
     "text": [
      "Bottom half\n",
      "[[ 1.  0.  0.  0.]\n",
      " [-1.  1.  0.  0.]\n",
      " [ 0. -1.  1.  0.]\n",
      " [ 0.  0. -1.  1.]]\n",
      "[[ 1.  0.  0.  0.]\n",
      " [ 0.  1.  0.  0.]\n",
      " [ 0. -1.  1.  0.]\n",
      " [ 0.  0. -1.  1.]]\n",
      "[[ 1.  0.  0.  0.]\n",
      " [ 0.  1.  0.  0.]\n",
      " [ 0.  0.  1.  0.]\n",
      " [ 0.  0. -1.  1.]]\n",
      "[[ 1.  0.  0.  0.]\n",
      " [ 0.  1.  0.  0.]\n",
      " [ 0.  0.  1.  0.]\n",
      " [ 0.  0.  0.  1.]]\n",
      "Divide\n",
      "Top Half\n"
     ]
    }
   ],
   "source": [
    "output2 = linear.rref(data[1])"
   ]
  },
  {
   "cell_type": "code",
   "execution_count": 8,
   "metadata": {
    "collapsed": false
   },
   "outputs": [
    {
     "name": "stdout",
     "output_type": "stream",
     "text": [
      "[[ 1.  0.  0.  0.]\n",
      " [-1.  1.  0.  0.]\n",
      " [ 0. -1.  1.  0.]\n",
      " [ 0.  0. -1.  1.]]\n",
      "[[ 1.  0.  0.  0.]\n",
      " [-1.  1.  0.  0.]\n",
      " [ 1. -2.  1.  0.]\n",
      " [ 0.  1. -2.  1.]]\n",
      "[[ 1.  0.  0.  0.]\n",
      " [-1.  1.  0.  0.]\n",
      " [ 1. -2.  1.  0.]\n",
      " [-1.  3. -3.  1.]]\n",
      "[[ 1.  0.  0.  0.]\n",
      " [-1.  1.  0.  0.]\n",
      " [ 1. -2.  1.  0.]\n",
      " [-1.  3. -3.  1.]]\n"
     ]
    }
   ],
   "source": [
    "multiplier = linear.multiply(output2)"
   ]
  },
  {
   "cell_type": "code",
   "execution_count": 9,
   "metadata": {
    "collapsed": false
   },
   "outputs": [
    {
     "name": "stdout",
     "output_type": "stream",
     "text": [
      "[[ 1.  0.  0.  0.]\n",
      " [ 0.  1.  0.  0.]\n",
      " [ 0.  0.  1.  0.]\n",
      " [ 0.  0.  0.  1.]]\n"
     ]
    }
   ],
   "source": [
    "print(multiplier @ data[0])"
   ]
  },
  {
   "cell_type": "code",
   "execution_count": 10,
   "metadata": {
    "collapsed": false
   },
   "outputs": [
    {
     "name": "stdout",
     "output_type": "stream",
     "text": [
      "[[ 1.  0.  0.  0.]\n",
      " [ 1.  1.  0.  0.]\n",
      " [ 1.  2.  1.  0.]\n",
      " [ 1.  3.  3.  1.]]\n",
      "[[ 1.  0.  0.  0.]\n",
      " [ 0.  1.  0.  0.]\n",
      " [ 0.  1.  1.  0.]\n",
      " [ 0.  1.  2.  1.]]\n",
      "[[ 1.  0.  0.  0.]\n",
      " [ 0.  1.  0.  0.]\n",
      " [ 0.  0.  1.  0.]\n",
      " [ 0.  0.  1.  1.]]\n",
      "[[ 1.  0.  0.  0.]\n",
      " [ 0.  1.  0.  0.]\n",
      " [ 0.  0.  1.  0.]\n",
      " [ 0.  0.  0.  1.]]\n",
      "[[ 1.  0.  0.  0.]\n",
      " [ 0.  1.  0.  0.]\n",
      " [ 0.  0.  1.  0.]\n",
      " [ 0.  0.  0.  1.]]\n"
     ]
    },
    {
     "data": {
      "text/plain": [
       "matrix([[ 1.,  0.,  0.,  0.],\n",
       "        [ 0.,  1.,  0.,  0.],\n",
       "        [ 0.,  0.,  1.,  0.],\n",
       "        [ 0.,  0.,  0.,  1.]])"
      ]
     },
     "execution_count": 10,
     "metadata": {},
     "output_type": "execute_result"
    }
   ],
   "source": [
    "linear.multiply([data[0]] + output2)"
   ]
  },
  {
   "cell_type": "code",
   "execution_count": null,
   "metadata": {
    "collapsed": true
   },
   "outputs": [],
   "source": []
  }
 ],
 "metadata": {
  "kernelspec": {
   "display_name": "Python 3",
   "language": "python",
   "name": "python3"
  },
  "language_info": {
   "codemirror_mode": {
    "name": "ipython",
    "version": 3
   },
   "file_extension": ".py",
   "mimetype": "text/x-python",
   "name": "python",
   "nbconvert_exporter": "python",
   "pygments_lexer": "ipython3",
   "version": "3.6.0"
  }
 },
 "nbformat": 4,
 "nbformat_minor": 2
}
