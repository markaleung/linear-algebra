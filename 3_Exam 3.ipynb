{
 "cells": [
  {
   "cell_type": "code",
   "execution_count": 12,
   "metadata": {
    "collapsed": true,
    "deletable": true,
    "editable": true
   },
   "outputs": [],
   "source": [
    "import linear, numpy as np\n",
    "def print_(inputString):\n",
    "    print(inputString)\n",
    "    print(eval(inputString))"
   ]
  },
  {
   "cell_type": "markdown",
   "metadata": {
    "deletable": true,
    "editable": true
   },
   "source": [
    "# 1\n",
    "## a\n",
    "If a square matrix A has all n of its singular values equal to 1 in the SVD, what basic class of matrices does A belong to? (singular, symmetric, orthogonal, positive definite or semidefinite, diagonal). \n",
    "\n",
    "A is orthogonal, because singular values equal 1 when A.T A = I, which only happens if A is orthogonal. "
   ]
  },
  {
   "cell_type": "code",
   "execution_count": 13,
   "metadata": {
    "collapsed": false,
    "deletable": true,
    "editable": true
   },
   "outputs": [
    {
     "name": "stdout",
     "output_type": "stream",
     "text": [
      "linear.eigen2x2(a)\n",
      "[ 1.  1.]\n"
     ]
    }
   ],
   "source": [
    "a = np.matrix([\n",
    "    [1,0],\n",
    "    [0,1],\n",
    "])\n",
    "print_('linear.eigen2x2(a)')"
   ]
  },
  {
   "cell_type": "markdown",
   "metadata": {
    "deletable": true,
    "editable": true
   },
   "source": [
    "## b\n",
    "Given S and L, write B as the product of 3 specific matrices.  \n",
    "S @ L @ S.I  \n",
    "\n",
    "Write C = (B+I).I as the product of 3 matrices  \n",
    "C = S @ 1/(L + I) @ S.I  \n",
    "\n",
    "What classes do B and C belong to.  \n",
    "B: symmetric, positive semidefinite, diagonal  \n",
    "Missed singular  \n",
    "C: symmetric, positive definite, diagonal  "
   ]
  },
  {
   "cell_type": "code",
   "execution_count": 14,
   "metadata": {
    "collapsed": false,
    "deletable": true,
    "editable": true
   },
   "outputs": [
    {
     "name": "stdout",
     "output_type": "stream",
     "text": [
      "B\n",
      "[[ 1.5 -0.5 -1.   0. ]\n",
      " [-0.5  1.5  0.  -1. ]\n",
      " [-1.   0.   1.5 -0.5]\n",
      " [ 0.  -1.  -0.5  1.5]]\n",
      "linear.eigenVectors(B, E)\n",
      "0 [[ 1.  1.  1.  1.]] [[ 0.  0.  0.  0.]] [[ 0.  0.  0.  0.]]\n",
      "1 [[-1.  1. -1.  1.]] [[-1.  1. -1.  1.]] [[-1.  1. -1.  1.]]\n",
      "2 [[-1. -1.  1.  1.]] [[-2. -2.  2.  2.]] [[-2. -2.  2.  2.]]\n",
      "3 [[ 1. -1. -1.  1.]] [[ 3. -3. -3.  3.]] [[ 3. -3. -3.  3.]]\n",
      "[[ 1. -1. -1.  1.]\n",
      " [ 1.  1. -1. -1.]\n",
      " [ 1. -1.  1. -1.]\n",
      " [ 1.  1.  1.  1.]]\n",
      "B @ B.T\n",
      "[[ 3.5 -1.5 -3.   1. ]\n",
      " [-1.5  3.5  1.  -3. ]\n",
      " [-3.   1.   3.5 -1.5]\n",
      " [ 1.  -3.  -1.5  3.5]]\n",
      "(B + np.identity(4)).I\n",
      "[[ 0.52083333  0.14583333  0.22916667  0.10416667]\n",
      " [ 0.14583333  0.52083333  0.10416667  0.22916667]\n",
      " [ 0.22916667  0.10416667  0.52083333  0.14583333]\n",
      " [ 0.10416667  0.22916667  0.14583333  0.52083333]]\n",
      "E2\n",
      "[1.0, 0.5, 0.3333333333333333, 0.25]\n",
      "C\n",
      "[[ 0.52083333  0.14583333  0.22916667  0.10416667]\n",
      " [ 0.14583333  0.52083333  0.10416667  0.22916667]\n",
      " [ 0.22916667  0.10416667  0.52083333  0.14583333]\n",
      " [ 0.10416667  0.22916667  0.14583333  0.52083333]]\n",
      "C @ C.T\n",
      "[[ 0.35590278  0.19965278  0.26909722  0.17534722]\n",
      " [ 0.19965278  0.35590278  0.17534722  0.26909722]\n",
      " [ 0.26909722  0.17534722  0.35590278  0.19965278]\n",
      " [ 0.17534722  0.26909722  0.19965278  0.35590278]]\n"
     ]
    }
   ],
   "source": [
    "H = 0.5 * np.matrix([\n",
    "    [1,1,-1,-1],\n",
    "    [1,-1,-1,1],\n",
    "    [1,1,1,1],\n",
    "    [1,-1,1,-1],\n",
    "])\n",
    "E = [0,1,2,3]\n",
    "B = H @ linear.diagonal(E) @ H.I\n",
    "print_('B')\n",
    "print_('linear.eigenVectors(B, E)')\n",
    "print_('B @ B.T')\n",
    "\n",
    "print_('(B + np.identity(4)).I')\n",
    "E2 = [1/(e + 1) for e in E]\n",
    "print_('E2')\n",
    "C = H @ linear.diagonal(E2) @ H.I\n",
    "print_('C')\n",
    "print_('C @ C.T')"
   ]
  },
  {
   "cell_type": "markdown",
   "metadata": {
    "collapsed": true,
    "deletable": true,
    "editable": true
   },
   "source": [
    "# 2. \n",
    "Find the eigenvalues and eigenvectors of A  \n",
    "(-1 - L) * -L(1-L) = 0  \n",
    "(1+L) * L(1-L) = 0  \n",
    "L = [-1, 0, 1]  \n",
    "\n",
    "Explain why A^1001 = A. Is A^1000 I?  \n",
    "A^1001 = A because A = SL^k S.I * I and L^k = L.  \n",
    "A^1000 does not equal I because L^1000 != I  \n",
    "\n",
    "How many eigenvalues of A.T A are positive? zero? negative? Does A.T A have the same eigenvalues as A?  \n",
    "2 Positive and 1 0. No"
   ]
  },
  {
   "cell_type": "code",
   "execution_count": 20,
   "metadata": {
    "collapsed": false,
    "deletable": true,
    "editable": true
   },
   "outputs": [
    {
     "name": "stdout",
     "output_type": "stream",
     "text": [
      "-1 [[ 1. -0. -0.]] [[-1.  0.  0.]] [[-1.  0.  0.]]\n",
      "0 [[ 2.  1. -0.]] [[ 0.  0.  0.]] [[ 0.  0.  0.]]\n",
      "1 [[ 7.  5.  1.]] [[ 7.  5.  1.]] [[ 7.  5.  1.]]\n",
      "S\n",
      "[[ 1.  2.  7.]\n",
      " [-0.  1.  5.]\n",
      " [-0. -0.  1.]]\n",
      "S.I\n",
      "[[ 1. -2.  3.]\n",
      " [ 0.  1. -5.]\n",
      " [ 0.  0.  1.]]\n",
      "linear.aku0(A, E, linear.diagonal, np.identity(3), 1001)\n",
      "[[-1.  2.  4.]\n",
      " [ 0.  0.  5.]\n",
      " [ 0.  0.  1.]]\n",
      "E2\n",
      "[[ 0.36787944  0.          0.        ]\n",
      " [ 0.          1.          0.        ]\n",
      " [ 0.          0.          2.71828183]]\n",
      "linear.aku0(A, E, linear.diagonalExp, np.identity(3), 1)\n",
      "[[  0.36787944   1.26424112  10.13161112]\n",
      " [  0.           1.           8.59140914]\n",
      " [  0.           0.           2.71828183]]\n"
     ]
    }
   ],
   "source": [
    "A = np.matrix([\n",
    "    [-1,2,4],\n",
    "    [0,0,5],\n",
    "    [0,0,1],\n",
    "])\n",
    "E = [-1, 0, 1]\n",
    "S = linear.eigenVectors(A, E)\n",
    "print_('S')\n",
    "print_('S.I')\n",
    "print_('linear.aku0(A, E, linear.diagonal, np.identity(3), 1001)')\n",
    "E2 = linear.diagonalExp(E)\n",
    "print_('E2')\n",
    "print_('linear.aku0(A, E, linear.diagonalExp, np.identity(3), 1)')"
   ]
  },
  {
   "cell_type": "code",
   "execution_count": 5,
   "metadata": {
    "collapsed": false,
    "deletable": true,
    "editable": true
   },
   "outputs": [
    {
     "name": "stdout",
     "output_type": "stream",
     "text": [
      "Bottom half\n",
      "[[  1.  -2.  -4.]\n",
      " [ -2.   4.   8.]\n",
      " [ -4.   8.  42.]]\n",
      "[[  1.  -2.  -4.]\n",
      " [  0.   0.   0.]\n",
      " [  0.   0.  26.]]\n",
      "[[  1.  -2.  -4.]\n",
      " [  0.   0.  26.]\n",
      " [  0.   0.   0.]]\n",
      "Top Half\n",
      "[[ 1. -2. -4.]\n",
      " [ 0.  0.  1.]\n",
      " [ 0.  0.  0.]]\n",
      "[[ 1. -2.  0.]\n",
      " [ 0.  0.  1.]\n",
      " [ 0.  0.  0.]]\n"
     ]
    }
   ],
   "source": [
    "_ = linear.rref(A.T @ A)"
   ]
  },
  {
   "cell_type": "markdown",
   "metadata": {
    "collapsed": true
   },
   "source": [
    "# 3\n",
    "A has orthonormal eigenvectors and positive eigenvalues.  \n",
    "\n",
    "a. What are the eigenvalues and eigenvectors of A.I?  \n",
    "Eigenvalues are same. Eigenvectors are the same. \n",
    "\n",
    "b. b is a combination of the eigenvectors. What is a quick formula for c1?  \n",
    "b = Qc (b is in Q's column space)  \n",
    "c = Q.Ib = Q.Tb (c is in Q's row space)\n",
    "Therefore c1 = q1.T b\n",
    "\n",
    "c. A.I b = combination of the eigenvectors. What is a quick formula for d?  \n",
    "A.I b = Qd  \n",
    "d = Q.I A.Ib = Q.T A.I b  \n",
    "Therefore d1 = q1.T A.I b  \n",
    "\n",
    "d = c1/l1"
   ]
  },
  {
   "cell_type": "code",
   "execution_count": null,
   "metadata": {
    "collapsed": true
   },
   "outputs": [],
   "source": []
  }
 ],
 "metadata": {
  "kernelspec": {
   "display_name": "Python 3",
   "language": "python",
   "name": "python3"
  },
  "language_info": {
   "codemirror_mode": {
    "name": "ipython",
    "version": 3
   },
   "file_extension": ".py",
   "mimetype": "text/x-python",
   "name": "python",
   "nbconvert_exporter": "python",
   "pygments_lexer": "ipython3",
   "version": "3.6.0"
  }
 },
 "nbformat": 4,
 "nbformat_minor": 2
}
