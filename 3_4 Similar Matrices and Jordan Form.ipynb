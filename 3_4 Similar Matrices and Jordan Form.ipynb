{
 "cells": [
  {
   "cell_type": "code",
   "execution_count": 1,
   "metadata": {
    "collapsed": true
   },
   "outputs": [],
   "source": [
    "import linear, numpy as np"
   ]
  },
  {
   "cell_type": "markdown",
   "metadata": {},
   "source": [
    "# Recitation\n",
    "Which of the following statements are true? Explain  \n",
    "\n",
    "a. If A and B are similar matrices, then 2A3 + A-3I and 2B3 + B - 3I are similar  \n",
    "\n",
    "Ax = lx  \n",
    "A3x = l3x  \n",
    "2A3x = 2l3x  \n",
    "2A3x + Ax = 2l3x + lx  \n",
    "2A3x + Ax - 3x = 2l3x + lx - x  \n",
    "(2A3 + A - 3I) = (2l3 + l - 1)x  \n",
    "\n",
    "Yes\n",
    "\n",
    "b. If A and B are 3x3 matrices with eigenvalues 1, 0, -1, then A and B are similar.  \n",
    "\n",
    "Yes. Because they have distinct eigenvalues, so there is only 1 jordan matrix. \n",
    "\n",
    "c. The matrices \n",
    "$J1 = \\begin{bmatrix} -1 & 1 & 0 \\\\ 0 & -1 & 1 \\\\ 0 & 0 & -1 \\end{bmatrix} $ and\n",
    "$J2 = \\begin{bmatrix} -1 & 1 & 0 \\\\ 0 & -1 & 0 \\\\ 0 & 0 & -1 \\end{bmatrix} $ are similar. \n",
    "\n",
    "No. Because J1 has 1 Jordan block, and J2 has 2\n",
    "\n",
    "# Problem Set\n",
    "## 1\n",
    "These Jordan\n",
    "matrices have eigenvalues 0, 0, 0, 0. They have two eigenvectors; one from\n",
    "each block. However, their block sizes don’t match and they are not similar:  \n",
    "For a generic matrix M, show that if JM = MK then M is not invertible\n",
    "and so J is not similar to K.\n",
    "## 2\n",
    "a. If A is similar to B then A2 is similar to B2.  \n",
    "Because A2 = SL2S.I = B2  \n",
    "b. A2 and B2 can be similar when A and B are not similar (try λ = 0, 0.)  "
   ]
  },
  {
   "cell_type": "code",
   "execution_count": 3,
   "metadata": {
    "collapsed": false
   },
   "outputs": [
    {
     "name": "stdout",
     "output_type": "stream",
     "text": [
      "[[0 0]\n",
      " [0 0]] [[0 0]\n",
      " [0 0]]\n"
     ]
    }
   ],
   "source": [
    "a = np.matrix([\n",
    "    [0,1],\n",
    "    [0,0],\n",
    "])\n",
    "b = np.matrix([\n",
    "    [0,0],\n",
    "    [0,0],\n",
    "])\n",
    "print(a @ a, b @ b)"
   ]
  },
  {
   "cell_type": "markdown",
   "metadata": {
    "collapsed": true
   },
   "source": [
    "c. $ \\begin{bmatrix} 3 & 0 \\\\ 0 & 4 \\end{bmatrix} $ is similar to $ \\begin{bmatrix} 3 & 1 \\\\ 0 & 4 \\end{bmatrix} $  \n",
    "Same trace and determinant.  \n",
    "d. $ \\begin{bmatrix} 3 & 0 \\\\ 0 & 3 \\end{bmatrix} $ is similar to $ \\begin{bmatrix} 3 & 1 \\\\ 0 & 3 \\end{bmatrix} $  \n",
    "Identity matrices are not similar to other matrices with same eigenvectors, because there is no MIM.I can transform it into another matrix.  \n",
    "e. Given a matrix A, let B be the matrix obtained by exchanging rows 1\n",
    "and 2 of A and then exchanging columns 1 and 2 of A. Show that A is\n",
    "similar to B.  \n",
    "Because the diagonal cells are the same."
   ]
  },
  {
   "cell_type": "code",
   "execution_count": null,
   "metadata": {
    "collapsed": true
   },
   "outputs": [],
   "source": []
  }
 ],
 "metadata": {
  "kernelspec": {
   "display_name": "Python 3",
   "language": "python",
   "name": "python3"
  },
  "language_info": {
   "codemirror_mode": {
    "name": "ipython",
    "version": 3
   },
   "file_extension": ".py",
   "mimetype": "text/x-python",
   "name": "python",
   "nbconvert_exporter": "python",
   "pygments_lexer": "ipython3",
   "version": "3.6.0"
  }
 },
 "nbformat": 4,
 "nbformat_minor": 2
}
