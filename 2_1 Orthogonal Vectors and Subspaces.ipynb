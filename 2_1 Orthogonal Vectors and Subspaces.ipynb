{
 "cells": [
  {
   "cell_type": "code",
   "execution_count": 1,
   "metadata": {
    "collapsed": true
   },
   "outputs": [],
   "source": [
    "import linear, numpy as np"
   ]
  },
  {
   "cell_type": "markdown",
   "metadata": {},
   "source": [
    "# Recitation\n",
    "S is spanned by [1, 2, 2, 3] and [1, 3, 3, 2]  \n",
    "\n",
    "1. Find a basis for ST  \n",
    "$ \\begin{bmatrix} 0 & -5 \\\\ -1 & 1 \\\\ 1 & 0 \\\\ 0 & 1 \\end{bmatrix} $  \n",
    "2. Can every v in $\\mathbb{R}^4$ be written uniquely in terms of S and ST"
   ]
  },
  {
   "cell_type": "code",
   "execution_count": 2,
   "metadata": {
    "collapsed": false
   },
   "outputs": [
    {
     "name": "stdout",
     "output_type": "stream",
     "text": [
      "Bottom half\n",
      "[[ 1.  2.  2.  3.]\n",
      " [ 1.  3.  3.  2.]]\n",
      "[[ 1.  2.  2.  3.]\n",
      " [ 0.  1.  1. -1.]]\n",
      "Divide\n",
      "Top Half\n",
      "[[ 1.  0.  0.  5.]\n",
      " [ 0.  1.  1. -1.]]\n"
     ]
    }
   ],
   "source": [
    "SR = np.array([\n",
    "    [1, 2, 2, 3], \n",
    "    [1, 3, 3, 2], \n",
    "])\n",
    "_ = linear.rref(SR)"
   ]
  },
  {
   "cell_type": "code",
   "execution_count": 3,
   "metadata": {
    "collapsed": false
   },
   "outputs": [
    {
     "name": "stdout",
     "output_type": "stream",
     "text": [
      "Bottom half\n",
      "[[ 1.  2.  2.  3.]\n",
      " [ 1.  3.  3.  2.]\n",
      " [ 0. -1.  1.  0.]\n",
      " [-5.  1.  0.  1.]]\n",
      "[[  1.   2.   2.   3.]\n",
      " [  0.   1.   1.  -1.]\n",
      " [  0.  -1.   1.   0.]\n",
      " [  0.  11.  10.  16.]]\n",
      "[[  1.   2.   2.   3.]\n",
      " [  0.   1.   1.  -1.]\n",
      " [  0.   0.   2.  -1.]\n",
      " [  0.   0.  -1.  27.]]\n",
      "[[  1.    2.    2.    3. ]\n",
      " [  0.    1.    1.   -1. ]\n",
      " [  0.    0.    2.   -1. ]\n",
      " [  0.    0.    0.   26.5]]\n",
      "Divide\n",
      "[[ 1.   2.   2.   3. ]\n",
      " [ 0.   1.   1.  -1. ]\n",
      " [ 0.   0.   1.  -0.5]\n",
      " [ 0.   0.   0.   1. ]]\n",
      "Top Half\n",
      "[[ 1.  2.  2.  0.]\n",
      " [ 0.  1.  1.  0.]\n",
      " [ 0.  0.  1.  0.]\n",
      " [ 0.  0.  0.  1.]]\n",
      "[[ 1.  2.  0.  0.]\n",
      " [ 0.  1.  0.  0.]\n",
      " [ 0.  0.  1.  0.]\n",
      " [ 0.  0.  0.  1.]]\n",
      "[[ 1.  0.  0.  0.]\n",
      " [ 0.  1.  0.  0.]\n",
      " [ 0.  0.  1.  0.]\n",
      " [ 0.  0.  0.  1.]]\n"
     ]
    }
   ],
   "source": [
    "nullR = linear.toMatrix('$ \\begin{bmatrix} 0 & -5 \\\\ -1 & 1 \\\\ 1 & 0 \\\\ 0 & 1 \\end{bmatrix} $  ')\n",
    "array4 = np.concatenate((SR, nullR.T))\n",
    "_ = linear.rref(array4)"
   ]
  },
  {
   "cell_type": "code",
   "execution_count": 4,
   "metadata": {
    "collapsed": false
   },
   "outputs": [],
   "source": [
    "# output = linear.rref(np.concatenate((array4, np.identity(4)), axis=1))\n",
    "# print(output[-1][:,4:])"
   ]
  },
  {
   "cell_type": "markdown",
   "metadata": {},
   "source": [
    "# Problem Set\n",
    "## 1\n",
    "For every\n",
    "system of m equations with no solution, there are numbers y1, ..., ym that\n",
    "multiply the equations so they add up to 0 = 1. This is called Fredholm’s\n",
    "Alternative:  \n",
    "\n",
    "Exactly one of these problems has a solution:  \n",
    "Ax = b OR ATy = 0 with yTb = 1.  \n",
    "\n",
    "If b is not in the column space of A it is not orthogonal to the nullspace of\n",
    "AT. Multiply the equations x1 − x2 = 1, x2 − x3 = 1 and x1 − x3 = 1 by\n",
    "numbers y1, y2 and y3 chosen so that the equations add up to 0 = 1.  \n",
    "\n",
    "y.T b = x  \n",
    "y.T @ b / x = 1  \n",
    "(y/x).T @ b = 1  \n",
    "\n",
    "y/x = y/-1 = $ \\begin{bmatrix} 1 \\\\ 1 \\\\ -1 \\end{bmatrix} $  "
   ]
  },
  {
   "cell_type": "code",
   "execution_count": 5,
   "metadata": {
    "collapsed": false
   },
   "outputs": [
    {
     "name": "stdout",
     "output_type": "stream",
     "text": [
      "Bottom half\n",
      "[[ 1.  0.  1.]\n",
      " [-1.  1.  0.]\n",
      " [ 0. -1. -1.]]\n",
      "[[ 1.  0.  1.]\n",
      " [ 0.  1.  1.]\n",
      " [ 0. -1. -1.]]\n",
      "[[ 1.  0.  1.]\n",
      " [ 0.  1.  1.]\n",
      " [ 0.  0.  0.]]\n",
      "Divide\n",
      "Top Half\n",
      "[[0]\n",
      " [0]\n",
      " [0]]\n",
      "[-1]\n",
      "$ \\begin{bmatrix} 1 & 1 & -1 \\end{bmatrix} $\n"
     ]
    }
   ],
   "source": [
    "p1 = np.array([\n",
    "    [1, -1, 0],\n",
    "    [0, 1, -1],\n",
    "    [1, 0, -1],\n",
    "])\n",
    "_ = linear.rref(p1.T)\n",
    "# Nullspace of A.T\n",
    "y = np.array([[-1, -1, 1]]).T\n",
    "# Show that it equals 0\n",
    "print(p1.T @ y)\n",
    "b = np.array([1,1,1])\n",
    "print(y.T @ b)\n",
    "print(linear.toTex(y.T / -1))"
   ]
  },
  {
   "cell_type": "markdown",
   "metadata": {},
   "source": [
    "## 2\n",
    "Suppose I give you four nonzero vectors r, n, c\n",
    "and l in R2.  \n",
    "a) What are the conditions for those to be bases for the four fundamental\n",
    "subspaces C(AT), N(A), C(A), and N(AT) of a 2 by 2 matrix?  \n",
    "rank must be 1, so that column and row space dimensions = rank = 1, and null space = n - 1 = 1, and left null space = m - 1 = 1  \n",
    "Also r.n = 0, and c.l = 0  \n",
    "b) What is one possible matrix A?  "
   ]
  },
  {
   "cell_type": "code",
   "execution_count": 7,
   "metadata": {
    "collapsed": false
   },
   "outputs": [
    {
     "name": "stdout",
     "output_type": "stream",
     "text": [
      "Bottom half\n",
      "[[ 1. -1.  1.  0.]\n",
      " [ 0.  0.  0.  1.]]\n",
      "Divide\n",
      "Top Half\n",
      "[[ 1 -1]\n",
      " [ 0  0]]\n",
      "[[0]\n",
      " [0]]\n",
      "[[0 0]]\n"
     ]
    }
   ],
   "source": [
    "p2 = np.array([\n",
    "    [1,-1],\n",
    "    [0,0],\n",
    "])\n",
    "_ = linear.rrefIdentity(p2)\n",
    "r = np.array([[1, -1]]).T\n",
    "c = np.array([[1, 0]]).T\n",
    "n = np.array([[1, 1]]).T\n",
    "l = np.array([[0,1]]).T\n",
    "print(c @ r.T)\n",
    "print(p2 @ n)\n",
    "print(l.T @ p2)"
   ]
  },
  {
   "cell_type": "code",
   "execution_count": null,
   "metadata": {
    "collapsed": true
   },
   "outputs": [],
   "source": []
  }
 ],
 "metadata": {
  "kernelspec": {
   "display_name": "Python 3",
   "language": "python",
   "name": "python3"
  },
  "language_info": {
   "codemirror_mode": {
    "name": "ipython",
    "version": 3
   },
   "file_extension": ".py",
   "mimetype": "text/x-python",
   "name": "python",
   "nbconvert_exporter": "python",
   "pygments_lexer": "ipython3",
   "version": "3.6.0"
  }
 },
 "nbformat": 4,
 "nbformat_minor": 2
}
