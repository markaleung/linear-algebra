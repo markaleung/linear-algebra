{
 "cells": [
  {
   "cell_type": "code",
   "execution_count": 2,
   "metadata": {
    "collapsed": true
   },
   "outputs": [],
   "source": [
    "import linear, numpy as np"
   ]
  },
  {
   "cell_type": "markdown",
   "metadata": {},
   "source": [
    "# Recitation\n",
    "Every positive definite matrix is invertible  \n",
    "Because pivots are nonzero, therefore determinant is nonzero, therefore matrix is invertible\n",
    "\n",
    "The only positive definite projection matrix is P=I  \n",
    "P must be a square independent matrix, therefore it must be full rank, therefore it must fill the entire n dimensional space, therefore there is no projection error, therefore P = I  \n",
    "\n",
    "Wrong. projection matrices have eigenvalues 0 or 1, positive definite are > 0, therefore positive definite projection is all 1 eigenvalues = identity\n",
    "\n",
    "D is diagonal with positive entries is positive definite  \n",
    "For diagonal matrix, entries are all pivots, so if pivots are all positive, matrix is positive definite. \n",
    "\n",
    "S symmetric with det S > 0 might not be positive definite  \n",
    "A bunch of positive and negative pivots can cancel each other out and be positive"
   ]
  },
  {
   "cell_type": "markdown",
   "metadata": {},
   "source": [
    "# Problem Set\n",
    "\n",
    "Here is a\n",
    "quick “proof” that the eigenvalues of all real matrices are real:  \n",
    "False Proof: Ax = λx gives xTAx = λxTx so λ = $\\frac{xTAx}{xTx}$ is real.  \n",
    "There is a hidden assumption in this proof which is not justified. Find the\n",
    "flaw by testing each step on the 90 ◦ rotation matrix:  \n",
    "If xTx is 0, then proof doesn't work. "
   ]
  },
  {
   "cell_type": "code",
   "execution_count": 6,
   "metadata": {
    "collapsed": false
   },
   "outputs": [
    {
     "name": "stdout",
     "output_type": "stream",
     "text": [
      "[[-1.+0.j]\n",
      " [ 0.+1.j]] \n",
      " [[-1.+0.j]\n",
      " [ 0.+1.j]]\n",
      "[[ 0.+0.j]] \n",
      " [[ 0.+0.j]]\n"
     ]
    }
   ],
   "source": [
    "ap1 = np.matrix([\n",
    "    [0,-1],\n",
    "    [1,0],\n",
    "])\n",
    "lp1 = 1j\n",
    "xp1 = np.matrix([1j, 1]).T\n",
    "print(ap1 @ xp1, '\\n', lp1 * xp1)\n",
    "print(xp1.T @ ap1 @ xp1, '\\n', lp1 * xp1.T @ xp1)"
   ]
  },
  {
   "cell_type": "markdown",
   "metadata": {},
   "source": [
    "## 2\n",
    "A group of nonsingular matrices includes AB and\n",
    "A−1 if it includes A and B. “Products and inverses stay in the group.”\n",
    "Which of these are groups?  \n",
    "a) Positive definite symmetric matrices A.  \n",
    "b) Orthogonal matrices Q.  \n",
    "Q.T Q = I => Q.I = Q.T => Q.I is orthogonal  \n",
    "(AB).T AB = B.T A.T AB = B.T I B = I => AB.T is orthogonal  \n",
    "c) All exponentials $e^{tA}$ of a fixed matrix A.  \n",
    "A.I = $e^{-tA}$  \n",
    "$e^{-tA}$\n",
    "d) Matrices D with determinant 1.  \n",
    "det(A.I) = 1\n",
    "det(AB) = det(A)det(B) = 1"
   ]
  },
  {
   "cell_type": "code",
   "execution_count": null,
   "metadata": {
    "collapsed": true
   },
   "outputs": [],
   "source": []
  }
 ],
 "metadata": {
  "kernelspec": {
   "display_name": "Python 3",
   "language": "python",
   "name": "python3"
  },
  "language_info": {
   "codemirror_mode": {
    "name": "ipython",
    "version": 3
   },
   "file_extension": ".py",
   "mimetype": "text/x-python",
   "name": "python",
   "nbconvert_exporter": "python",
   "pygments_lexer": "ipython3",
   "version": "3.6.0"
  }
 },
 "nbformat": 4,
 "nbformat_minor": 2
}
