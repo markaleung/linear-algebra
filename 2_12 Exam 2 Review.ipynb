{
 "cells": [
  {
   "cell_type": "code",
   "execution_count": 1,
   "metadata": {
    "collapsed": true
   },
   "outputs": [],
   "source": [
    "import linear, numpy as np"
   ]
  },
  {
   "cell_type": "markdown",
   "metadata": {},
   "source": [
    "# Recitation\n",
    "Find all the non-zero terms in the big formula det A = Sigma\n",
    "and compute detA  \n",
    "You only need to compute combinations of 1,2,5,6 and 9,10,11,12  \n",
    "Find cofactors C11, C12, C13, C14  \n",
    "Find column 1 of A-1"
   ]
  },
  {
   "cell_type": "code",
   "execution_count": 4,
   "metadata": {
    "collapsed": false
   },
   "outputs": [
    {
     "name": "stdout",
     "output_type": "stream",
     "text": [
      "[[  1.           2.           3.           4.        ]\n",
      " [  0.          -4.          -8.         -12.        ]\n",
      " [  0.           0.           9.          10.        ]\n",
      " [  0.           0.           0.          -0.22222222]]\n",
      "7.9999999992\n",
      "[[-12.  10.   0.  -0.]\n",
      " [  4.  -2.  -0.   0.]\n",
      " [ 40. -36. -48.  44.]\n",
      " [-32.  28.  40. -36.]]\n",
      "[[-1.5   0.5   5.   -4.  ]\n",
      " [ 1.25 -0.25 -4.5   3.5 ]\n",
      " [ 0.   -0.   -6.    5.  ]\n",
      " [-0.    0.    5.5  -4.5 ]]\n",
      "[[-1.5   0.5   5.   -4.  ]\n",
      " [ 1.25 -0.25 -4.5   3.5 ]\n",
      " [ 0.    0.   -6.    5.  ]\n",
      " [ 0.    0.    5.5  -4.5 ]]\n"
     ]
    }
   ],
   "source": [
    "ar = np.matrix([\n",
    "    [1,2,3,4],\n",
    "    [5,6,7,8],\n",
    "    [0,0,9,10],\n",
    "    [0,0,11,12],\n",
    "])\n",
    "d = linear.det(ar)\n",
    "c = linear.cofactor(ar)\n",
    "print(d)\n",
    "print(c)\n",
    "print(c.T / d)\n",
    "print(ar.I)"
   ]
  },
  {
   "cell_type": "code",
   "execution_count": null,
   "metadata": {
    "collapsed": true
   },
   "outputs": [],
   "source": []
  }
 ],
 "metadata": {
  "kernelspec": {
   "display_name": "Python 3",
   "language": "python",
   "name": "python3"
  },
  "language_info": {
   "codemirror_mode": {
    "name": "ipython",
    "version": 3
   },
   "file_extension": ".py",
   "mimetype": "text/x-python",
   "name": "python",
   "nbconvert_exporter": "python",
   "pygments_lexer": "ipython3",
   "version": "3.6.0"
  }
 },
 "nbformat": 4,
 "nbformat_minor": 2
}
