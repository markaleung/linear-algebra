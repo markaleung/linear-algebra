{
 "cells": [
  {
   "cell_type": "code",
   "execution_count": 1,
   "metadata": {
    "collapsed": true
   },
   "outputs": [],
   "source": [
    "import linear, numpy as np"
   ]
  },
  {
   "cell_type": "markdown",
   "metadata": {},
   "source": [
    "# 1\n",
    "Suppose q1, q2, q3 are orthonormal vectors in R3. Find all possible values\n",
    "for these 3 by 3 determinants and explain your thinking in 1 sentence each. \n",
    "a. det(q1, q2, q3)  \n",
    "1 or -1 because it is a rotated cube with side 1  \n",
    "b. 2 or -2, because  \n",
    "c. det(q1,q2,q3) @ det(q2*q3*q1)  \n",
    "It is either -1 @ -1 or 1 * 1, because it is the same matrix with two columns flipped.  "
   ]
  },
  {
   "cell_type": "code",
   "execution_count": 3,
   "metadata": {
    "collapsed": false
   },
   "outputs": [
    {
     "name": "stdout",
     "output_type": "stream",
     "text": [
      "[[ 1.  0.  1.]\n",
      " [ 0.  1. -1.]\n",
      " [ 0.  0.  2.]]\n",
      "2.0\n"
     ]
    }
   ],
   "source": [
    "a = np.matrix([\n",
    "    [1,0,1],\n",
    "    [1,1,0],\n",
    "    [0,1,1],\n",
    "])\n",
    "print(linear.det(a))"
   ]
  },
  {
   "cell_type": "markdown",
   "metadata": {},
   "source": [
    "# 2\n",
    "Suppose we take measurements at the 21 equally spaced times t = −10, −9, . . . , 9, 10.\n",
    "All measurements are bi = 0 except that b11 = 1 at the middle time t = 0.  \n",
    "(a) Using least squares, what are the best C and D to fit those 21 points\n",
    "by a straight line C + Dt ?  \n",
    "C = 0.0476, D = 0  \n",
    "(b) You are projecting the vector b onto what subspace ? (Give a basis.)  \n",
    "Column space. Column of 1's plus column of t is basis  \n",
    "Find a nonzero vector perpendicular to that subspace.  \n",
    "b - ax"
   ]
  },
  {
   "cell_type": "code",
   "execution_count": 20,
   "metadata": {
    "collapsed": false
   },
   "outputs": [
    {
     "name": "stdout",
     "output_type": "stream",
     "text": [
      "[[ -1.73472348e-18]] [[ 0.04761905]\n",
      " [ 0.        ]]\n"
     ]
    }
   ],
   "source": [
    "a2 = np.matrix([\n",
    "    [1] * 21,\n",
    "    list(range(-10, 11)),\n",
    "]).T\n",
    "b2 = np.matrix([0] * 10 + [1] + [0] * 10).T\n",
    "x2 = (a2.T @ a2).I @ a2.T @ b2\n",
    "projection = a2 @ x2\n",
    "print((b2 - projection).T @ projection, x2)"
   ]
  },
  {
   "cell_type": "markdown",
   "metadata": {},
   "source": [
    "# 3\n",
    "The Gram-Schmidt method produces orthonormal vectors q1, q2, q3\n",
    "from independent vectors a1, a2, a3 in R5. Put those vectors into the columns\n",
    "of 5 by 3 matrices Q and A. \n",
    "\n",
    "(a) Give formulas using Q and A for the projection matrices PQ and PA\n",
    "onto the column spaces of Q and A.\n",
    "\n",
    "PA = A @ (A.T @ A).I @ A.T  \n",
    "PQ = Q @ Q.T  \n",
    "\n",
    "(b) Is PQ = PA and why ? What is PQ times Q ? What is det PQ ?\n",
    "\n",
    "PQ is PA because Q and A occupy the same subspace.  \n",
    "PQ @ Q = Q because Q is already in subspace of Q.  \n",
    "det PQ =  \n",
    "\n",
    "Stuck\n",
    "\n",
    "Non identity projections are always singular because not enough dimensions. \n",
    "\n",
    "(c) Suppose a4 is a new vector and a1, a2, a3, a4 are independent. Which of\n",
    "these (if any) is the new Gram-Schmidt vector q4 ? (PA and PQ from\n",
    "above)\n",
    "\n",
    "2  \n",
    "\n",
    "Wrong. It is 3"
   ]
  },
  {
   "cell_type": "markdown",
   "metadata": {},
   "source": [
    "# 4\n",
    "Suppose a 4 by 4 matrix has the same entry × throughout its first row and\n",
    "column. The other 9 numbers could be anything like 1, 5, 7, 2, 3, 99, π, e, 4.  \n",
    "\n",
    "(a) The determinant of A is a polynomial in ×. What is the largest\n",
    "possible degree of that polynomial ? Explain your answer.  \n",
    "\n",
    "Stuck\n",
    "\n",
    "2, because each term can only have 1 entry from each row and each column\n",
    "\n",
    "b. If those 9 numbers give the identity matrix I, what is det A ? Which\n",
    "values of × give det A = 0 ?  \n",
    "\n",
    "Divide first column by x, subtract other columns from column 1, so that other cells of first column are 0. "
   ]
  },
  {
   "cell_type": "code",
   "execution_count": null,
   "metadata": {
    "collapsed": true
   },
   "outputs": [],
   "source": []
  }
 ],
 "metadata": {
  "kernelspec": {
   "display_name": "Python 3",
   "language": "python",
   "name": "python3"
  },
  "language_info": {
   "codemirror_mode": {
    "name": "ipython",
    "version": 3
   },
   "file_extension": ".py",
   "mimetype": "text/x-python",
   "name": "python",
   "nbconvert_exporter": "python",
   "pygments_lexer": "ipython3",
   "version": "3.6.0"
  }
 },
 "nbformat": 4,
 "nbformat_minor": 2
}
