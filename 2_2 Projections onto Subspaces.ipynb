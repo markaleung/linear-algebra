{
 "cells": [
  {
   "cell_type": "code",
   "execution_count": 1,
   "metadata": {
    "collapsed": true
   },
   "outputs": [],
   "source": [
    "import linear, numpy as np"
   ]
  },
  {
   "cell_type": "markdown",
   "metadata": {},
   "source": [
    "# Recitation\n",
    "Find the orthogonal projection matrix onto the plane  \n",
    "x + y - z = 0  "
   ]
  },
  {
   "cell_type": "code",
   "execution_count": 2,
   "metadata": {
    "collapsed": false
   },
   "outputs": [
    {
     "name": "stdout",
     "output_type": "stream",
     "text": [
      "Arrays\n",
      "[[-1  1  0]\n",
      " [ 1  0  1]]\n",
      "[[ 0.66666667  0.33333333]\n",
      " [ 0.33333333  0.66666667]]\n",
      "[[-1  1]\n",
      " [ 1  0]\n",
      " [ 0  1]]\n",
      "Multiply\n",
      "[[-1  1  0]\n",
      " [ 1  0  1]]\n",
      "[[-0.33333333  0.66666667  0.33333333]\n",
      " [ 0.33333333  0.33333333  0.66666667]]\n",
      "[[ 0.66666667 -0.33333333  0.33333333]\n",
      " [-0.33333333  0.66666667  0.33333333]\n",
      " [ 0.33333333  0.33333333  0.66666667]]\n",
      "Arrays\n",
      "[[ 1  1 -1]]\n",
      "[[ 0.33333333]]\n",
      "[[ 1]\n",
      " [ 1]\n",
      " [-1]]\n",
      "Multiply\n",
      "[[ 1  1 -1]]\n",
      "[[ 0.33333333  0.33333333 -0.33333333]]\n",
      "[[ 0.33333333  0.33333333 -0.33333333]\n",
      " [ 0.33333333  0.33333333 -0.33333333]\n",
      " [-0.33333333 -0.33333333  0.33333333]]\n",
      "[[ 2. -1.  1.]\n",
      " [-1.  2.  1.]\n",
      " [ 1.  1.  2.]]\n",
      "[[ 2. -1.  1.]\n",
      " [-1.  2.  1.]\n",
      " [ 1.  1.  2.]]\n"
     ]
    }
   ],
   "source": [
    "ar = np.matrix([\n",
    "    [-1, 1],\n",
    "    [1, 0],\n",
    "    [0, 1],\n",
    "])\n",
    "par = linear.projection(ar)\n",
    "nr = np.matrix([[1,1,-1]]).T\n",
    "pnr = np.identity(3) - linear.projection(nr)\n",
    "print(par*3)\n",
    "print(pnr*3)"
   ]
  },
  {
   "cell_type": "markdown",
   "metadata": {
    "collapsed": true
   },
   "source": [
    "# Problem Set\n",
    "## 1\n",
    "Suppose A\n",
    "is the four by four identity matrix with its last column removed; A is four\n",
    "by three. Project b = (1, 2, 3, 4) onto the column space of A. What shape is\n",
    "the projection matrix P and what is P?"
   ]
  },
  {
   "cell_type": "code",
   "execution_count": 3,
   "metadata": {
    "collapsed": false
   },
   "outputs": [
    {
     "name": "stdout",
     "output_type": "stream",
     "text": [
      "Arrays\n",
      "[[ 1.  0.  0.  0.]\n",
      " [ 0.  1.  0.  0.]\n",
      " [ 0.  0.  1.  0.]]\n",
      "[[ 1.  0.  0.]\n",
      " [ 0.  1.  0.]\n",
      " [ 0.  0.  1.]]\n",
      "[[ 1.  0.  0.]\n",
      " [ 0.  1.  0.]\n",
      " [ 0.  0.  1.]\n",
      " [ 0.  0.  0.]]\n",
      "Multiply\n",
      "[[ 1.  0.  0.  0.]\n",
      " [ 0.  1.  0.  0.]\n",
      " [ 0.  0.  1.  0.]]\n",
      "[[ 1.  0.  0.  0.]\n",
      " [ 0.  1.  0.  0.]\n",
      " [ 0.  0.  1.  0.]]\n",
      "[[ 1.  0.  0.  0.]\n",
      " [ 0.  1.  0.  0.]\n",
      " [ 0.  0.  1.  0.]\n",
      " [ 0.  0.  0.  0.]]\n",
      "[[ 1.]\n",
      " [ 2.]\n",
      " [ 3.]\n",
      " [ 0.]]\n"
     ]
    }
   ],
   "source": [
    "ap1 = np.matrix(np.identity(4)[:,:3])\n",
    "pp1 = linear.projection(ap1)\n",
    "bp1 = np.matrix([[1,2,3,4]]).T\n",
    "print(pp1 @ bp1)"
   ]
  },
  {
   "cell_type": "markdown",
   "metadata": {
    "collapsed": true
   },
   "source": [
    "## 2\n",
    "If P2 = P, show that (I − P)2 = I − P.  \n",
    "(I - P)2 = I2 - IP - PI + P2 = I - 2P + P = I - P\n",
    "For the\n",
    "matrices A and P from the previous question, P projects onto the column\n",
    "space of A and I − P projects onto the normal of A. \n",
    "\n",
    "Clarify - left nullspace, not just normal"
   ]
  },
  {
   "cell_type": "code",
   "execution_count": null,
   "metadata": {
    "collapsed": true
   },
   "outputs": [],
   "source": []
  }
 ],
 "metadata": {
  "kernelspec": {
   "display_name": "Python 3",
   "language": "python",
   "name": "python3"
  },
  "language_info": {
   "codemirror_mode": {
    "name": "ipython",
    "version": 3
   },
   "file_extension": ".py",
   "mimetype": "text/x-python",
   "name": "python",
   "nbconvert_exporter": "python",
   "pygments_lexer": "ipython3",
   "version": "3.6.0"
  }
 },
 "nbformat": 4,
 "nbformat_minor": 2
}
